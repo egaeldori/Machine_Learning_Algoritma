{
 "cells": [
  {
   "cell_type": "markdown",
   "metadata": {},
   "source": [
    "**Coursebook: Python for Data Analysts**\n",
    "- Part 1 of Machine Learning Specialization\n",
    "- Course Length: 6 hours\n",
    "- Last Updated: October 2020\n",
    "\n",
    "___\n",
    "\n",
    "- Author: [Samuel Chan](https://github.com/onlyphantom)\n",
    "- Developed by [Algoritma](https://algorit.ma)'s product division and instructors team"
   ]
  },
  {
   "cell_type": "markdown",
   "metadata": {},
   "source": [
    "# Introduction to Data Analytics\n",
    "\n",
    "## Training Objectives\n",
    "\n",
    "This coursebook is intended for participants with prior programming knowledge as an introductory material for Machine Learning Specialization.\n",
    "\n",
    "The coursebook focuses on:\n",
    "- Introduction to the `pandas` library.  \n",
    "- Data Types\n",
    "- Exploratory Data Analysis\n",
    "- Indexing and Subsetting\n",
    "- Tables\n",
    "\n",
    "The final part of this course is a Graded Asssignment, where you are expected to apply all that you've learned on a new dataset, and attempt the given questions."
   ]
  },
  {
   "cell_type": "markdown",
   "metadata": {},
   "source": [
    "## Introduction to `pandas` library"
   ]
  },
  {
   "cell_type": "markdown",
   "metadata": {},
   "source": [
    "We will start off by learning about a powerful Python data analysis library by the name of `pandas`. Its official documentation introduces itself as the \"fundamental high-level building block for doing practical, real world data analysis in Python\", and strive to do so by implementing many of the key data manipulation functionalities in R. This makes `pandas` a core member of many Python-based scientific computing environments.\n",
    "\n",
    "From its [official documentation](https://pandas.pydata.org):\n",
    "\n",
    "> Python has long been great for data munging and preparation, but less so for data analysis and modeling. pandas helps fill this gap, enabling you to carry out your entire data analysis workflow in Python without having to switch to a more domain specific language like R.\n",
    "\n",
    "To use `pandas`, we will use Python's `import` function. Once imported, all `pandas` function can be accessed using the *pandas.function_name* notation."
   ]
  },
  {
   "cell_type": "code",
   "execution_count": 1,
   "metadata": {},
   "outputs": [
    {
     "data": {
      "text/plain": [
       "'1.0.1'"
      ]
     },
     "execution_count": 1,
     "metadata": {},
     "output_type": "execute_result"
    }
   ],
   "source": [
    "import pandas as pd\n",
    "pd.__version__"
   ]
  },
  {
   "cell_type": "code",
   "execution_count": 2,
   "metadata": {},
   "outputs": [
    {
     "data": {
      "text/html": [
       "<div>\n",
       "<style scoped>\n",
       "    .dataframe tbody tr th:only-of-type {\n",
       "        vertical-align: middle;\n",
       "    }\n",
       "\n",
       "    .dataframe tbody tr th {\n",
       "        vertical-align: top;\n",
       "    }\n",
       "\n",
       "    .dataframe thead th {\n",
       "        text-align: right;\n",
       "    }\n",
       "</style>\n",
       "<table border=\"1\" class=\"dataframe\">\n",
       "  <thead>\n",
       "    <tr style=\"text-align: right;\">\n",
       "      <th></th>\n",
       "      <th>receipts_item_id</th>\n",
       "      <th>purchase_time</th>\n",
       "      <th>category</th>\n",
       "      <th>sub_category</th>\n",
       "      <th>format</th>\n",
       "      <th>unit_price</th>\n",
       "      <th>discount</th>\n",
       "      <th>quantity</th>\n",
       "      <th>yearmonth</th>\n",
       "    </tr>\n",
       "    <tr>\n",
       "      <th>receipt_id</th>\n",
       "      <th></th>\n",
       "      <th></th>\n",
       "      <th></th>\n",
       "      <th></th>\n",
       "      <th></th>\n",
       "      <th></th>\n",
       "      <th></th>\n",
       "      <th></th>\n",
       "      <th></th>\n",
       "    </tr>\n",
       "  </thead>\n",
       "  <tbody>\n",
       "    <tr>\n",
       "      <th>9622257</th>\n",
       "      <td>32369294</td>\n",
       "      <td>7/22/2018 21:19</td>\n",
       "      <td>Rice</td>\n",
       "      <td>Rice</td>\n",
       "      <td>supermarket</td>\n",
       "      <td>128000.0</td>\n",
       "      <td>0</td>\n",
       "      <td>1</td>\n",
       "      <td>2018-07</td>\n",
       "    </tr>\n",
       "    <tr>\n",
       "      <th>9446359</th>\n",
       "      <td>31885876</td>\n",
       "      <td>7/15/2018 16:17</td>\n",
       "      <td>Rice</td>\n",
       "      <td>Rice</td>\n",
       "      <td>minimarket</td>\n",
       "      <td>102750.0</td>\n",
       "      <td>0</td>\n",
       "      <td>1</td>\n",
       "      <td>2018-07</td>\n",
       "    </tr>\n",
       "    <tr>\n",
       "      <th>9470290</th>\n",
       "      <td>31930241</td>\n",
       "      <td>7/15/2018 12:12</td>\n",
       "      <td>Rice</td>\n",
       "      <td>Rice</td>\n",
       "      <td>supermarket</td>\n",
       "      <td>64000.0</td>\n",
       "      <td>0</td>\n",
       "      <td>3</td>\n",
       "      <td>2018-07</td>\n",
       "    </tr>\n",
       "    <tr>\n",
       "      <th>9643416</th>\n",
       "      <td>32418582</td>\n",
       "      <td>7/24/2018 8:27</td>\n",
       "      <td>Rice</td>\n",
       "      <td>Rice</td>\n",
       "      <td>minimarket</td>\n",
       "      <td>65000.0</td>\n",
       "      <td>0</td>\n",
       "      <td>1</td>\n",
       "      <td>2018-07</td>\n",
       "    </tr>\n",
       "    <tr>\n",
       "      <th>9692093</th>\n",
       "      <td>32561236</td>\n",
       "      <td>7/26/2018 11:28</td>\n",
       "      <td>Rice</td>\n",
       "      <td>Rice</td>\n",
       "      <td>supermarket</td>\n",
       "      <td>124500.0</td>\n",
       "      <td>0</td>\n",
       "      <td>1</td>\n",
       "      <td>2018-07</td>\n",
       "    </tr>\n",
       "  </tbody>\n",
       "</table>\n",
       "</div>"
      ],
      "text/plain": [
       "            receipts_item_id    purchase_time category sub_category  \\\n",
       "receipt_id                                                            \n",
       "9622257             32369294  7/22/2018 21:19     Rice         Rice   \n",
       "9446359             31885876  7/15/2018 16:17     Rice         Rice   \n",
       "9470290             31930241  7/15/2018 12:12     Rice         Rice   \n",
       "9643416             32418582   7/24/2018 8:27     Rice         Rice   \n",
       "9692093             32561236  7/26/2018 11:28     Rice         Rice   \n",
       "\n",
       "                 format  unit_price  discount  quantity yearmonth  \n",
       "receipt_id                                                         \n",
       "9622257     supermarket    128000.0         0         1   2018-07  \n",
       "9446359      minimarket    102750.0         0         1   2018-07  \n",
       "9470290     supermarket     64000.0         0         3   2018-07  \n",
       "9643416      minimarket     65000.0         0         1   2018-07  \n",
       "9692093     supermarket    124500.0         0         1   2018-07  "
      ]
     },
     "execution_count": 2,
     "metadata": {},
     "output_type": "execute_result"
    }
   ],
   "source": [
    "household = pd.read_csv(r\"D:\\INALUM\\3 TRAINING\\MACHINE LEARNING\\MATERIAL\\inalum\\data\\household.csv\", index_col = 0)\n",
    "household.head()\n",
    "\n",
    "# Sudah dimodifikasi sedikit pembacaan untuk file household yang disimpan pada folder berbeda #"
   ]
  },
  {
   "cell_type": "markdown",
   "metadata": {},
   "source": [
    "In the code above, we used `.read_csv()` to read a csv file from a specified path. Notice that we set `index_col=0` so the first column in the csv is used as the index. By default, this function treats the first row as the header row. We can add `header=None` to the function call telling `pandas` to read in a CSV without headers.\n",
    "\n",
    "You may find it curious that we use `0` to reference the first element of an axis; This is because Python uses 0-based indexing, a behavior that is different from other languages such as R and Matlab.\n",
    "\n",
    "**Knowledge Check**:  \n",
    "\n",
    "Let's dive deeper into understanding the `index_col` parameter. From the documentation:\n",
    "\n",
    "> `index_col` : int or sequence or `False`  \n",
    "Column to use as the row labels of the DataFrame.\n",
    "\n",
    "1. How would you change the `read.csv()` code such that the DataFrame uses `receipt_id` as the row label (index)? \n",
    "2. `pandas.DataFrame.head()` accepts an additional parameter, `n`, and returns the first `n` rows of the DataFrame; Set `n=8` to see the first 8 rows of your `rice` DataFrame\n",
    "3. The opposite of `.head()` is `.tail()`. It returns the last `n` row of your DataFrame. Create a new cell below and print the last 4 rows of our DataFrame \n",
    "\n",
    "*Reminder: Python uses 0-based indexing, and `receipt_id` is the second column in the csv*"
   ]
  },
  {
   "cell_type": "code",
   "execution_count": 3,
   "metadata": {
    "scrolled": false
   },
   "outputs": [
    {
     "data": {
      "text/html": [
       "<div>\n",
       "<style scoped>\n",
       "    .dataframe tbody tr th:only-of-type {\n",
       "        vertical-align: middle;\n",
       "    }\n",
       "\n",
       "    .dataframe tbody tr th {\n",
       "        vertical-align: top;\n",
       "    }\n",
       "\n",
       "    .dataframe thead th {\n",
       "        text-align: right;\n",
       "    }\n",
       "</style>\n",
       "<table border=\"1\" class=\"dataframe\">\n",
       "  <thead>\n",
       "    <tr style=\"text-align: right;\">\n",
       "      <th></th>\n",
       "      <th>receipts_item_id</th>\n",
       "      <th>purchase_time</th>\n",
       "      <th>category</th>\n",
       "      <th>sub_category</th>\n",
       "      <th>format</th>\n",
       "      <th>unit_price</th>\n",
       "      <th>discount</th>\n",
       "      <th>quantity</th>\n",
       "      <th>yearmonth</th>\n",
       "    </tr>\n",
       "    <tr>\n",
       "      <th>receipt_id</th>\n",
       "      <th></th>\n",
       "      <th></th>\n",
       "      <th></th>\n",
       "      <th></th>\n",
       "      <th></th>\n",
       "      <th></th>\n",
       "      <th></th>\n",
       "      <th></th>\n",
       "      <th></th>\n",
       "    </tr>\n",
       "  </thead>\n",
       "  <tbody>\n",
       "    <tr>\n",
       "      <th>5736299</th>\n",
       "      <td>17432379</td>\n",
       "      <td>12/13/2017 19:52</td>\n",
       "      <td>Sugar/Flavored Syrup</td>\n",
       "      <td>Sugar</td>\n",
       "      <td>minimarket</td>\n",
       "      <td>12500.0</td>\n",
       "      <td>0</td>\n",
       "      <td>1</td>\n",
       "      <td>2017-12</td>\n",
       "    </tr>\n",
       "    <tr>\n",
       "      <th>5901144</th>\n",
       "      <td>18263665</td>\n",
       "      <td>12/27/2017 8:03</td>\n",
       "      <td>Sugar/Flavored Syrup</td>\n",
       "      <td>Sugar</td>\n",
       "      <td>minimarket</td>\n",
       "      <td>12500.0</td>\n",
       "      <td>0</td>\n",
       "      <td>1</td>\n",
       "      <td>2017-12</td>\n",
       "    </tr>\n",
       "    <tr>\n",
       "      <th>5660630</th>\n",
       "      <td>17222218</td>\n",
       "      <td>12/7/2017 12:29</td>\n",
       "      <td>Sugar/Flavored Syrup</td>\n",
       "      <td>Sugar</td>\n",
       "      <td>hypermarket</td>\n",
       "      <td>12500.0</td>\n",
       "      <td>0</td>\n",
       "      <td>3</td>\n",
       "      <td>2017-12</td>\n",
       "    </tr>\n",
       "    <tr>\n",
       "      <th>5808147</th>\n",
       "      <td>17658789</td>\n",
       "      <td>12/19/2017 18:59</td>\n",
       "      <td>Sugar/Flavored Syrup</td>\n",
       "      <td>Sugar</td>\n",
       "      <td>minimarket</td>\n",
       "      <td>12500.0</td>\n",
       "      <td>0</td>\n",
       "      <td>3</td>\n",
       "      <td>2017-12</td>\n",
       "    </tr>\n",
       "  </tbody>\n",
       "</table>\n",
       "</div>"
      ],
      "text/plain": [
       "            receipts_item_id     purchase_time              category  \\\n",
       "receipt_id                                                             \n",
       "5736299             17432379  12/13/2017 19:52  Sugar/Flavored Syrup   \n",
       "5901144             18263665   12/27/2017 8:03  Sugar/Flavored Syrup   \n",
       "5660630             17222218   12/7/2017 12:29  Sugar/Flavored Syrup   \n",
       "5808147             17658789  12/19/2017 18:59  Sugar/Flavored Syrup   \n",
       "\n",
       "           sub_category       format  unit_price  discount  quantity yearmonth  \n",
       "receipt_id                                                                      \n",
       "5736299           Sugar   minimarket     12500.0         0         1   2017-12  \n",
       "5901144           Sugar   minimarket     12500.0         0         1   2017-12  \n",
       "5660630           Sugar  hypermarket     12500.0         0         3   2017-12  \n",
       "5808147           Sugar   minimarket     12500.0         0         3   2017-12  "
      ]
     },
     "execution_count": 3,
     "metadata": {},
     "output_type": "execute_result"
    }
   ],
   "source": [
    "## Your code here\n",
    "\n",
    "## 1\n",
    "## Membaca file household.csv dan menjadikan kolom reciept_id sebagai indekstasi (row label) \n",
    "## dan didefinisikan sebagai variable df_example_1\n",
    "df_example_1 = pd.read_csv(r\"D:\\INALUM\\3 TRAINING\\MACHINE LEARNING\\MATERIAL\\inalum\\data\\household.csv\", index_col = 0)\n",
    "\n",
    "## 2\n",
    "## Menampilkan 8 baris teratas dari data household.csv\n",
    "df_example_1.head(8) \n",
    "\n",
    "## 3\n",
    "## Menampilkan 4 baris terakhis dari data household.csv\n",
    "df_example_1.tail(4)\n",
    "\n",
    "\n",
    "## Function terakhir yang akan muncul pada output (function tail dalam hal ini)"
   ]
  },
  {
   "cell_type": "markdown",
   "metadata": {},
   "source": [
    "### Data Types"
   ]
  },
  {
   "cell_type": "markdown",
   "metadata": {},
   "source": [
    "`pandas` allow data analysts to create Series objects and DataFrame objects. Series is used to represent a one-dimensional array whereas DataFrame emulates the functionality of \"Data Frames\" in R and is useful for tabular data. In practice, a large proportion of our data is tabular: when we import data from a relational database (MySQL, Postgre) or from a spreadsheet software (Google Sheets, Microsoft Excel) we can represent these data as a DataFrame object.\n",
    "\n",
    "When we call `pd.read_csv()` earlier, `pandas` will try to infer data types from the values in each column. Sometimes, it get it right but more often that not, a data analyst's intervention is required. In the following sub-section, we'll learn about various techniques an analyst have at his/her disposal when it comes to the treatment of pandas data types."
   ]
  },
  {
   "cell_type": "code",
   "execution_count": 4,
   "metadata": {
    "scrolled": false
   },
   "outputs": [
    {
     "data": {
      "text/plain": [
       "receipts_item_id      int64\n",
       "purchase_time        object\n",
       "category             object\n",
       "sub_category         object\n",
       "format               object\n",
       "unit_price          float64\n",
       "discount              int64\n",
       "quantity              int64\n",
       "yearmonth            object\n",
       "dtype: object"
      ]
     },
     "execution_count": 4,
     "metadata": {},
     "output_type": "execute_result"
    }
   ],
   "source": [
    "## Untuk melihat tipe data dari masing-masing kolom (secara spesifik hanya melihat tipe data) ##\n",
    "\n",
    "household.dtypes"
   ]
  },
  {
   "cell_type": "code",
   "execution_count": 5,
   "metadata": {},
   "outputs": [
    {
     "name": "stdout",
     "output_type": "stream",
     "text": [
      "<class 'pandas.core.frame.DataFrame'>\n",
      "Int64Index: 72000 entries, 9622257 to 5808147\n",
      "Data columns (total 9 columns):\n",
      " #   Column            Non-Null Count  Dtype  \n",
      "---  ------            --------------  -----  \n",
      " 0   receipts_item_id  72000 non-null  int64  \n",
      " 1   purchase_time     72000 non-null  object \n",
      " 2   category          72000 non-null  object \n",
      " 3   sub_category      72000 non-null  object \n",
      " 4   format            72000 non-null  object \n",
      " 5   unit_price        72000 non-null  float64\n",
      " 6   discount          72000 non-null  int64  \n",
      " 7   quantity          72000 non-null  int64  \n",
      " 8   yearmonth         72000 non-null  object \n",
      "dtypes: float64(1), int64(3), object(5)\n",
      "memory usage: 5.5+ MB\n"
     ]
    }
   ],
   "source": [
    "## ada 1 funsi lainnya yang dapat digunakan untuk melihat tipe data namun lebih terperinci \n",
    "## dan tidak hanya tipe data saja yang muncul (function .info())\n",
    "\n",
    "household.info()\n",
    "\n",
    "## dari sini kita bisa melihat sekaligus jumlah row dan kolom dari data tersebut"
   ]
  },
  {
   "cell_type": "markdown",
   "metadata": {},
   "source": [
    "`dtypes` simply stands for \"data types\". Because `elec` is a `pandas` object, accessing the `dtypes` attribute will return a series with the data type of each column. \n",
    "\n",
    "**Knowledge check: `.dtypes` and pandas attributes**\n",
    "\n",
    "Look at the following code - what is the expected output from the following code? Why?\n",
    "```\n",
    "x = [2019, 4, 'data science']\n",
    "x.dtypes\n",
    "```\n",
    "\n",
    "Hint: Try `type(x)` and verify the type for object `x`."
   ]
  },
  {
   "cell_type": "code",
   "execution_count": 6,
   "metadata": {},
   "outputs": [
    {
     "data": {
      "text/plain": [
       "list"
      ]
     },
     "execution_count": 6,
     "metadata": {},
     "output_type": "execute_result"
    }
   ],
   "source": [
    "## Your code here\n",
    "\n",
    "x = [2019, 4, \"data science\"]\n",
    "\n",
    "\n",
    "\"\"\"\n",
    "x.dtypes\n",
    "\"\"\"\n",
    "\n",
    "## Pada saat kita jalankan data tersebut di atas, maka akan eror karena data x merupakan type series bukan kolom\n",
    "## Namun saat kita pakai function numpy maka tipe datanya ketahuan yaitu list.\n",
    "\n",
    "type(x)"
   ]
  },
  {
   "cell_type": "markdown",
   "metadata": {},
   "source": [
    "Let's take a look at some examples of `DataFrame.dtypes`:"
   ]
  },
  {
   "cell_type": "code",
   "execution_count": 7,
   "metadata": {},
   "outputs": [
    {
     "data": {
      "text/html": [
       "<div>\n",
       "<style scoped>\n",
       "    .dataframe tbody tr th:only-of-type {\n",
       "        vertical-align: middle;\n",
       "    }\n",
       "\n",
       "    .dataframe tbody tr th {\n",
       "        vertical-align: top;\n",
       "    }\n",
       "\n",
       "    .dataframe thead th {\n",
       "        text-align: right;\n",
       "    }\n",
       "</style>\n",
       "<table border=\"1\" class=\"dataframe\">\n",
       "  <thead>\n",
       "    <tr style=\"text-align: right;\">\n",
       "      <th></th>\n",
       "      <th>name</th>\n",
       "      <th>age</th>\n",
       "      <th>joined</th>\n",
       "      <th>degree</th>\n",
       "      <th>hourlyrate</th>\n",
       "      <th>division</th>\n",
       "    </tr>\n",
       "  </thead>\n",
       "  <tbody>\n",
       "    <tr>\n",
       "      <th>0</th>\n",
       "      <td>Anita</td>\n",
       "      <td>34</td>\n",
       "      <td>2019-04-10</td>\n",
       "      <td>True</td>\n",
       "      <td>35.5</td>\n",
       "      <td>HR</td>\n",
       "    </tr>\n",
       "    <tr>\n",
       "      <th>1</th>\n",
       "      <td>Brian</td>\n",
       "      <td>29</td>\n",
       "      <td>2017-11-28</td>\n",
       "      <td>False</td>\n",
       "      <td>29.0</td>\n",
       "      <td>Product</td>\n",
       "    </tr>\n",
       "  </tbody>\n",
       "</table>\n",
       "</div>"
      ],
      "text/plain": [
       "    name  age     joined  degree  hourlyrate division\n",
       "0  Anita   34 2019-04-10    True        35.5       HR\n",
       "1  Brian   29 2017-11-28   False        29.0  Product"
      ]
     },
     "execution_count": 7,
     "metadata": {},
     "output_type": "execute_result"
    }
   ],
   "source": [
    "employees = pd.DataFrame({\n",
    "    'name': ['Anita', 'Brian'],\n",
    "    'age': [34, 29],\n",
    "    'joined': [pd.Timestamp('20190410'), pd.Timestamp('20171128')],\n",
    "    'degree': [True, False],\n",
    "    'hourlyrate': [35.5, 29],\n",
    "    'division': pd.Categorical(['HR', 'Product'])\n",
    "})\n",
    "employees"
   ]
  },
  {
   "cell_type": "code",
   "execution_count": 8,
   "metadata": {},
   "outputs": [
    {
     "data": {
      "text/plain": [
       "name                  object\n",
       "age                    int64\n",
       "joined        datetime64[ns]\n",
       "degree                  bool\n",
       "hourlyrate           float64\n",
       "division            category\n",
       "dtype: object"
      ]
     },
     "execution_count": 8,
     "metadata": {},
     "output_type": "execute_result"
    }
   ],
   "source": [
    "employees.dtypes"
   ]
  },
  {
   "cell_type": "markdown",
   "metadata": {},
   "source": [
    "Let's go through the columns and their data types from the above `DataFrame`:\n",
    "\n",
    "- `name` [`object`]: store text values\n",
    "- `age` [`int`]: integer values\n",
    "- `joined` [`datetime`]: date and time values\n",
    "- `degree` [`bool`]: True/False values\n",
    "- `hourlyrate` [`float`]: floating point values\n",
    "- `division` [`object`]: store categorical values\n",
    "\n",
    "Among these columns, only `age` and `hourlyrate` are columns with numeric values. This is a simple, but important, observation to make as we make our way into the Exploratory Data Analysis phase. But before we do, let's do one more exercise. Take a closer look at the Data Frame we just created again.\n",
    "\n",
    "Out of the 6 columns, one of them is of special interest to our next discussion, **categorical values**."
   ]
  },
  {
   "cell_type": "markdown",
   "metadata": {},
   "source": [
    "#### Categorical and Numerical Variables\n",
    "\n",
    "From the [main documentation](https://pandas.pydata.org/pandas-docs/stable/user_guide/categorical.html):\n",
    "\n",
    "> Categoricals are a pandas data type corresponding to categorical variables in statistics. A categorical variable takes on a limited, and usually fixed, number of possible values (categories; levels in R). Examples are gender, social class, blood type, country affiliation or rating via Likert scales.\n",
    "\n",
    "Can you spot which of the columns in `household` data holds values that should be encoded in the `category` data type? Once you've spotted it, use the `astype('category')` method to perform the conversion. Remember to re-assign this new column so the original column (`object`) type is overwritten with the new `category` type column.\n",
    "\n",
    "Examples:\n",
    "\n",
    "```py\n",
    "# convert marital_status to category\n",
    "employees['marital_status'] = employees['marital_status'].astype('category')\n",
    "\n",
    "# convert experience to integer\n",
    "employees['experience'] = employees['experience'].astype('int')\n",
    "```"
   ]
  },
  {
   "cell_type": "code",
   "execution_count": 9,
   "metadata": {
    "scrolled": true
   },
   "outputs": [
    {
     "data": {
      "text/plain": [
       "receipts_item_id      int64\n",
       "purchase_time        object\n",
       "category             object\n",
       "sub_category         object\n",
       "format               object\n",
       "unit_price          float64\n",
       "discount              int64\n",
       "quantity              int64\n",
       "yearmonth            object\n",
       "dtype: object"
      ]
     },
     "execution_count": 9,
     "metadata": {},
     "output_type": "execute_result"
    }
   ],
   "source": [
    "household.dtypes"
   ]
  },
  {
   "cell_type": "code",
   "execution_count": 10,
   "metadata": {
    "scrolled": true
   },
   "outputs": [
    {
     "data": {
      "text/plain": [
       "receipts_item_id      int64\n",
       "purchase_time        object\n",
       "category             object\n",
       "sub_category         object\n",
       "format               object\n",
       "unit_price          float64\n",
       "discount              int64\n",
       "quantity              int64\n",
       "yearmonth            object\n",
       "dtype: object"
      ]
     },
     "execution_count": 10,
     "metadata": {},
     "output_type": "execute_result"
    }
   ],
   "source": [
    "## Your code below\n",
    "\n",
    "## Melihat tipe data\n",
    "\n",
    "df_example_1.dtypes"
   ]
  },
  {
   "cell_type": "code",
   "execution_count": 11,
   "metadata": {},
   "outputs": [
    {
     "data": {
      "text/plain": [
       "receipts_item_id             int64\n",
       "purchase_time       datetime64[ns]\n",
       "category                  category\n",
       "sub_category              category\n",
       "format                    category\n",
       "unit_price                 float64\n",
       "discount                     int64\n",
       "quantity                     int64\n",
       "yearmonth                 category\n",
       "dtype: object"
      ]
     },
     "execution_count": 11,
     "metadata": {},
     "output_type": "execute_result"
    }
   ],
   "source": [
    "## Your code below\n",
    "\n",
    "## Merubah kolom Purchase_time dari object menjadi datetime\n",
    "df_example_1[\"purchase_time\"] = df_example_1[\"purchase_time\"].astype(\"datetime64\")\n",
    "\n",
    "## Merubah kolom Category, sub category, format dari object menjadi Category\n",
    "df_example_1[[\"category\", \"sub_category\", \"format\"]] = \\\n",
    "df_example_1[[\"category\", \"sub_category\", \"format\"]].astype(\"category\")\n",
    "\n",
    "## Merubah kolom yearmonth dari object ke category (sementara)\n",
    "df_example_1[\"yearmonth\"] = df_example_1[\"yearmonth\"].astype(\"category\")\n",
    "\n",
    "df_example_1.dtypes\n"
   ]
  },
  {
   "cell_type": "markdown",
   "metadata": {},
   "source": [
    "In most real-world projects, your work as a data analyst will involve working with **categorical**, **numeric** and **datetime** values; either treating them as \"features\" or \"target\". In the case of machine learning:\n",
    "\n",
    "- A **categorical** target represents a classification problem\n",
    "- A **numeric** target represents a regression problem"
   ]
  },
  {
   "cell_type": "code",
   "execution_count": 12,
   "metadata": {},
   "outputs": [
    {
     "data": {
      "text/plain": [
       "receipts_item_id       int64\n",
       "purchase_time         object\n",
       "category            category\n",
       "sub_category        category\n",
       "format              category\n",
       "unit_price           float64\n",
       "discount               int64\n",
       "quantity               int64\n",
       "yearmonth             object\n",
       "dtype: object"
      ]
     },
     "execution_count": 12,
     "metadata": {},
     "output_type": "execute_result"
    }
   ],
   "source": [
    "## Reference code\n",
    "\n",
    "household[['category', 'sub_category','format']] = household[['category', 'sub_category','format']].astype('category')\n",
    "household.dtypes"
   ]
  },
  {
   "cell_type": "markdown",
   "metadata": {},
   "source": [
    "#### Datetime variables\n",
    "\n",
    "Given the program's special emphasis on business-driven analytics, one data type of particular interest to us is the `datetime`. In the previous part of this coursebook, we've seen an example of `datetime` in the section introducing data types (`employees.joined`).\n",
    "\n",
    "A large portion of data science work performed by business executives involve time series and/or dates (think about the kind of data science work done by computer vision researchers, and compare that to the work done by credit rating analysts or marketing executives and this special relationship between business and datetime data becomes apparent), so adding a level of familiarity with this format will serve you well in the long run. Let's now take a look at the data types of our `DataFrame` again:"
   ]
  },
  {
   "cell_type": "code",
   "execution_count": 13,
   "metadata": {},
   "outputs": [
    {
     "data": {
      "text/plain": [
       "receipts_item_id       int64\n",
       "purchase_time         object\n",
       "category            category\n",
       "sub_category        category\n",
       "format              category\n",
       "unit_price           float64\n",
       "discount               int64\n",
       "quantity               int64\n",
       "yearmonth             object\n",
       "dtype: object"
      ]
     },
     "execution_count": 13,
     "metadata": {},
     "output_type": "execute_result"
    }
   ],
   "source": [
    "household.dtypes"
   ]
  },
  {
   "cell_type": "markdown",
   "metadata": {},
   "source": [
    "The `purchase_time` column is stored as `object`. However, the correct data type for this column would have to be a `datetime`.\n",
    "\n",
    "To convert a column `x` to a datetime, we would use:\n",
    "\n",
    "    `x = pd.to_datetime(x)`\n",
    "    "
   ]
  },
  {
   "cell_type": "code",
   "execution_count": 14,
   "metadata": {},
   "outputs": [
    {
     "data": {
      "text/plain": [
       "receipts_item_id             int64\n",
       "purchase_time       datetime64[ns]\n",
       "category                  category\n",
       "sub_category              category\n",
       "format                    category\n",
       "unit_price                 float64\n",
       "discount                     int64\n",
       "quantity                     int64\n",
       "yearmonth                   object\n",
       "dtype: object"
      ]
     },
     "execution_count": 14,
     "metadata": {},
     "output_type": "execute_result"
    }
   ],
   "source": [
    "household['purchase_time'] = pd.to_datetime(household['purchase_time'])\n",
    "household.dtypes"
   ]
  },
  {
   "cell_type": "markdown",
   "metadata": {},
   "source": [
    "As you can see from the code above,`pd.to_datetime()` could do the conversion to datetime in a smart way without datetime format string required. Convenient for sure, but for some situation, this manner of `pandas` can be a little tricky.\n",
    "\n",
    "Suppose we have a column which stores a daily sales data from end of January to the beginning of February:"
   ]
  },
  {
   "cell_type": "code",
   "execution_count": 15,
   "metadata": {
    "scrolled": true
   },
   "outputs": [
    {
     "data": {
      "text/plain": [
       "0    30-01-2020\n",
       "1    31-01-2020\n",
       "2    01-02-2020\n",
       "3    02-02-2020\n",
       "dtype: object"
      ]
     },
     "execution_count": 15,
     "metadata": {},
     "output_type": "execute_result"
    }
   ],
   "source": [
    "date = pd.Series(['30-01-2020', '31-01-2020', '01-02-2020','02-02-2020'])\n",
    "date"
   ]
  },
  {
   "cell_type": "markdown",
   "metadata": {},
   "source": [
    "The legal and cultural expectations for datetime format may vary between countries. In Indonesia for example, most people are used to storing dates in DMY order. Why it matters? Let's see what happen next when we convert our `date` to datetime object:"
   ]
  },
  {
   "cell_type": "code",
   "execution_count": 16,
   "metadata": {},
   "outputs": [
    {
     "data": {
      "text/plain": [
       "0   2020-01-30\n",
       "1   2020-01-31\n",
       "2   2020-01-02\n",
       "3   2020-02-02\n",
       "dtype: datetime64[ns]"
      ]
     },
     "execution_count": 16,
     "metadata": {},
     "output_type": "execute_result"
    }
   ],
   "source": [
    "pd.to_datetime(date)"
   ]
  },
  {
   "cell_type": "markdown",
   "metadata": {},
   "source": [
    "Take a look on the third observation; `pd.to_datetime` converts it to 2nd January while the actual data represents February 2nd. The function may find the string pattern automatically and smartly, but note that for dates with multiple representations, it will infer it as a month first order by default.\n",
    "\n",
    "That's why it's important to know that `pd.to_datetime` accepts other parameters, `format` and `dayfirst`:"
   ]
  },
  {
   "cell_type": "code",
   "execution_count": 17,
   "metadata": {
    "scrolled": true
   },
   "outputs": [
    {
     "data": {
      "text/plain": [
       "0   2020-01-30\n",
       "1   2020-01-31\n",
       "2   2020-02-01\n",
       "3   2020-02-02\n",
       "dtype: datetime64[ns]"
      ]
     },
     "execution_count": 17,
     "metadata": {},
     "output_type": "execute_result"
    }
   ],
   "source": [
    "# pd.to_datetime(date, format='%d-%m-%Y')\n",
    "\n",
    "pd.to_datetime(date, dayfirst=True)"
   ]
  },
  {
   "cell_type": "markdown",
   "metadata": {},
   "source": [
    "In fact, `pandas` has a number of machineries to work with `datetime` objects. These are convenient for when we need to extract the `month`, or `year`, or `weekday_name` from `datetime`. Some common applications in business analysis include:\n",
    "\n",
    "- `household['purchase_time'].dt.month`\n",
    "- `household['purchase_time'].dt.year`\n",
    "- `household['purchase_time'].dt.day`\n",
    "- `household['purchase_time'].dt.dayofweek`\n",
    "- `household['purchase_time'].dt.hour`\n",
    "- `household['purchase_time'].dt.day_name()`\n",
    "\n",
    "There are also other functions that can be helpful in certain situations. Supposed we want to transform the existing `datetime` column into values of periods we can use the `.to_period` method:\n",
    "\n",
    "- `household['purchase_time'].dt.to_period('D')`\n",
    "- `household['purchase_time'].dt.to_period('W')`\n",
    "- `household['purchase_time'].dt.to_period('M')`\n",
    "- `household['purchase_time'].dt.to_period('Q')`"
   ]
  },
  {
   "cell_type": "markdown",
   "metadata": {},
   "source": [
    "**Knowledge Check**:\n",
    "\n",
    "1. Suppose you want to plot the retail busiest day by finding which day has the most transactions. Try to create a new column, `dayofweek` which stores the day information of the `purchase_time`!\n",
    "2. Try to recreate `yearmonth` column by using `.dt.` method on the `purchase_time` information!"
   ]
  },
  {
   "cell_type": "code",
   "execution_count": 18,
   "metadata": {},
   "outputs": [
    {
     "data": {
      "text/plain": [
       "0    30-01-2020\n",
       "1    31-01-2020\n",
       "2    01-02-2020\n",
       "3    02-02-2020\n",
       "dtype: object"
      ]
     },
     "execution_count": 18,
     "metadata": {},
     "output_type": "execute_result"
    }
   ],
   "source": [
    "## Ada 2 cara untuk merubah tipe data menjadi datetime ##\n",
    "## 1 Menggunakn .astype()\n",
    "## 2 Menggunakan pd.to_datetime()\n",
    "\n",
    "\"\"\"\n",
    "Pada cara pertama pandas akan melakukan penyesuaian secara general, dan perpotensi ada kesalahan dalam\n",
    "pembacaannya karena pandas secara otomatis akan menyesuaikan kedalam format MM-DD-YYYY. Hal ini akan berpengaruh\n",
    "terhadap tanggal-tanggal yang punya 2 penafsiran, contoh 2020-01-02 (bisa dibaca 2 Januari, bisa juga 1 Februari)\n",
    "nah pada tanggal yang seperti ini pandas akan menyesuaikan ke format MM-DD-YYYY\n",
    "\"\"\" \n",
    "\n",
    "\"\"\"\n",
    "Pada cara kedua kita dapat menambahkan format yang lebih spesifik dari data yang ingin di rubah\n",
    "\"\"\"\n",
    "\n",
    "date_1 = pd.Series(['30-01-2020', '31-01-2020', '01-02-2020','02-02-2020'])\n",
    "date_1\n",
    "\n",
    "pd.to_datetime(date, dayfirst = True)\n",
    "date_1"
   ]
  },
  {
   "cell_type": "code",
   "execution_count": 19,
   "metadata": {},
   "outputs": [
    {
     "data": {
      "text/html": [
       "<div>\n",
       "<style scoped>\n",
       "    .dataframe tbody tr th:only-of-type {\n",
       "        vertical-align: middle;\n",
       "    }\n",
       "\n",
       "    .dataframe tbody tr th {\n",
       "        vertical-align: top;\n",
       "    }\n",
       "\n",
       "    .dataframe thead th {\n",
       "        text-align: right;\n",
       "    }\n",
       "</style>\n",
       "<table border=\"1\" class=\"dataframe\">\n",
       "  <thead>\n",
       "    <tr style=\"text-align: right;\">\n",
       "      <th></th>\n",
       "      <th>receipts_item_id</th>\n",
       "      <th>purchase_time</th>\n",
       "      <th>category</th>\n",
       "      <th>sub_category</th>\n",
       "      <th>format</th>\n",
       "      <th>unit_price</th>\n",
       "      <th>discount</th>\n",
       "      <th>quantity</th>\n",
       "      <th>yearmonth</th>\n",
       "      <th>dayofweek</th>\n",
       "    </tr>\n",
       "    <tr>\n",
       "      <th>receipt_id</th>\n",
       "      <th></th>\n",
       "      <th></th>\n",
       "      <th></th>\n",
       "      <th></th>\n",
       "      <th></th>\n",
       "      <th></th>\n",
       "      <th></th>\n",
       "      <th></th>\n",
       "      <th></th>\n",
       "      <th></th>\n",
       "    </tr>\n",
       "  </thead>\n",
       "  <tbody>\n",
       "    <tr>\n",
       "      <th>9622257</th>\n",
       "      <td>32369294</td>\n",
       "      <td>2018-07-22 21:19:00</td>\n",
       "      <td>Rice</td>\n",
       "      <td>Rice</td>\n",
       "      <td>supermarket</td>\n",
       "      <td>128000.0</td>\n",
       "      <td>0</td>\n",
       "      <td>1</td>\n",
       "      <td>2018-07</td>\n",
       "      <td>Sunday</td>\n",
       "    </tr>\n",
       "    <tr>\n",
       "      <th>9446359</th>\n",
       "      <td>31885876</td>\n",
       "      <td>2018-07-15 16:17:00</td>\n",
       "      <td>Rice</td>\n",
       "      <td>Rice</td>\n",
       "      <td>minimarket</td>\n",
       "      <td>102750.0</td>\n",
       "      <td>0</td>\n",
       "      <td>1</td>\n",
       "      <td>2018-07</td>\n",
       "      <td>Sunday</td>\n",
       "    </tr>\n",
       "    <tr>\n",
       "      <th>9470290</th>\n",
       "      <td>31930241</td>\n",
       "      <td>2018-07-15 12:12:00</td>\n",
       "      <td>Rice</td>\n",
       "      <td>Rice</td>\n",
       "      <td>supermarket</td>\n",
       "      <td>64000.0</td>\n",
       "      <td>0</td>\n",
       "      <td>3</td>\n",
       "      <td>2018-07</td>\n",
       "      <td>Sunday</td>\n",
       "    </tr>\n",
       "  </tbody>\n",
       "</table>\n",
       "</div>"
      ],
      "text/plain": [
       "            receipts_item_id       purchase_time category sub_category  \\\n",
       "receipt_id                                                               \n",
       "9622257             32369294 2018-07-22 21:19:00     Rice         Rice   \n",
       "9446359             31885876 2018-07-15 16:17:00     Rice         Rice   \n",
       "9470290             31930241 2018-07-15 12:12:00     Rice         Rice   \n",
       "\n",
       "                 format  unit_price  discount  quantity yearmonth dayofweek  \n",
       "receipt_id                                                                   \n",
       "9622257     supermarket    128000.0         0         1   2018-07    Sunday  \n",
       "9446359      minimarket    102750.0         0         1   2018-07    Sunday  \n",
       "9470290     supermarket     64000.0         0         3   2018-07    Sunday  "
      ]
     },
     "execution_count": 19,
     "metadata": {},
     "output_type": "execute_result"
    }
   ],
   "source": [
    "## Your code here\n",
    "\n",
    "## 1 Menambahkan kolom baru yaitu kolom dayofweek yang berisi nama hari dari purchase_time\n",
    "df_example_1[\"dayofweek\"] = df_example_1[\"purchase_time\"].dt.day_name()\n",
    "\n",
    "## 2 Membuat ulang kolom yearmonth\n",
    "df_example_1[\"yearmonth\"] = df_example_1[\"purchase_time\"].dt.to_period(\"M\")\n",
    "\n",
    "df_example_1.head(3)\n"
   ]
  },
  {
   "cell_type": "markdown",
   "metadata": {},
   "source": [
    "---\n"
   ]
  },
  {
   "cell_type": "code",
   "execution_count": 20,
   "metadata": {},
   "outputs": [
    {
     "data": {
      "text/html": [
       "<div>\n",
       "<style scoped>\n",
       "    .dataframe tbody tr th:only-of-type {\n",
       "        vertical-align: middle;\n",
       "    }\n",
       "\n",
       "    .dataframe tbody tr th {\n",
       "        vertical-align: top;\n",
       "    }\n",
       "\n",
       "    .dataframe thead th {\n",
       "        text-align: right;\n",
       "    }\n",
       "</style>\n",
       "<table border=\"1\" class=\"dataframe\">\n",
       "  <thead>\n",
       "    <tr style=\"text-align: right;\">\n",
       "      <th></th>\n",
       "      <th>receipts_item_id</th>\n",
       "      <th>purchase_time</th>\n",
       "      <th>category</th>\n",
       "      <th>sub_category</th>\n",
       "      <th>format</th>\n",
       "      <th>unit_price</th>\n",
       "      <th>discount</th>\n",
       "      <th>quantity</th>\n",
       "      <th>yearmonth</th>\n",
       "      <th>dayofweek</th>\n",
       "    </tr>\n",
       "    <tr>\n",
       "      <th>receipt_id</th>\n",
       "      <th></th>\n",
       "      <th></th>\n",
       "      <th></th>\n",
       "      <th></th>\n",
       "      <th></th>\n",
       "      <th></th>\n",
       "      <th></th>\n",
       "      <th></th>\n",
       "      <th></th>\n",
       "      <th></th>\n",
       "    </tr>\n",
       "  </thead>\n",
       "  <tbody>\n",
       "    <tr>\n",
       "      <th>9622257</th>\n",
       "      <td>32369294</td>\n",
       "      <td>2018-07-22 21:19:00</td>\n",
       "      <td>Rice</td>\n",
       "      <td>Rice</td>\n",
       "      <td>supermarket</td>\n",
       "      <td>128000.0</td>\n",
       "      <td>0</td>\n",
       "      <td>1</td>\n",
       "      <td>2018-07</td>\n",
       "      <td>Sunday</td>\n",
       "    </tr>\n",
       "    <tr>\n",
       "      <th>9446359</th>\n",
       "      <td>31885876</td>\n",
       "      <td>2018-07-15 16:17:00</td>\n",
       "      <td>Rice</td>\n",
       "      <td>Rice</td>\n",
       "      <td>minimarket</td>\n",
       "      <td>102750.0</td>\n",
       "      <td>0</td>\n",
       "      <td>1</td>\n",
       "      <td>2018-07</td>\n",
       "      <td>Sunday</td>\n",
       "    </tr>\n",
       "    <tr>\n",
       "      <th>9470290</th>\n",
       "      <td>31930241</td>\n",
       "      <td>2018-07-15 12:12:00</td>\n",
       "      <td>Rice</td>\n",
       "      <td>Rice</td>\n",
       "      <td>supermarket</td>\n",
       "      <td>64000.0</td>\n",
       "      <td>0</td>\n",
       "      <td>3</td>\n",
       "      <td>2018-07</td>\n",
       "      <td>Sunday</td>\n",
       "    </tr>\n",
       "    <tr>\n",
       "      <th>9643416</th>\n",
       "      <td>32418582</td>\n",
       "      <td>2018-07-24 08:27:00</td>\n",
       "      <td>Rice</td>\n",
       "      <td>Rice</td>\n",
       "      <td>minimarket</td>\n",
       "      <td>65000.0</td>\n",
       "      <td>0</td>\n",
       "      <td>1</td>\n",
       "      <td>2018-07</td>\n",
       "      <td>Tuesday</td>\n",
       "    </tr>\n",
       "    <tr>\n",
       "      <th>9692093</th>\n",
       "      <td>32561236</td>\n",
       "      <td>2018-07-26 11:28:00</td>\n",
       "      <td>Rice</td>\n",
       "      <td>Rice</td>\n",
       "      <td>supermarket</td>\n",
       "      <td>124500.0</td>\n",
       "      <td>0</td>\n",
       "      <td>1</td>\n",
       "      <td>2018-07</td>\n",
       "      <td>Thursday</td>\n",
       "    </tr>\n",
       "  </tbody>\n",
       "</table>\n",
       "</div>"
      ],
      "text/plain": [
       "            receipts_item_id       purchase_time category sub_category  \\\n",
       "receipt_id                                                               \n",
       "9622257             32369294 2018-07-22 21:19:00     Rice         Rice   \n",
       "9446359             31885876 2018-07-15 16:17:00     Rice         Rice   \n",
       "9470290             31930241 2018-07-15 12:12:00     Rice         Rice   \n",
       "9643416             32418582 2018-07-24 08:27:00     Rice         Rice   \n",
       "9692093             32561236 2018-07-26 11:28:00     Rice         Rice   \n",
       "\n",
       "                 format  unit_price  discount  quantity yearmonth dayofweek  \n",
       "receipt_id                                                                   \n",
       "9622257     supermarket    128000.0         0         1   2018-07    Sunday  \n",
       "9446359      minimarket    102750.0         0         1   2018-07    Sunday  \n",
       "9470290     supermarket     64000.0         0         3   2018-07    Sunday  \n",
       "9643416      minimarket     65000.0         0         1   2018-07   Tuesday  \n",
       "9692093     supermarket    124500.0         0         1   2018-07  Thursday  "
      ]
     },
     "execution_count": 20,
     "metadata": {},
     "output_type": "execute_result"
    }
   ],
   "source": [
    "## Reference code\n",
    "\n",
    "household['dayofweek'] = household['purchase_time'].dt.day_name()\n",
    "household['yearmonth'] = household['purchase_time'].dt.to_period('M')\n",
    "\n",
    "household.head()"
   ]
  },
  {
   "cell_type": "markdown",
   "metadata": {},
   "source": [
    "### Exploratory Data Analysis Tools\n",
    "\n",
    "In simple words, exploratory data analysis (EDA) refers to the process of performing initial investigations on data, often with the objective of becoming familiar with certain characteristics of the data. This is usually done with the aid of summary statistics and simple graphical techniques that purposefully uncover the structure of our data.\n",
    "\n",
    "We'll start off by using some of the most convenient EDA tools conveniently built into `pandas`. Particularly, this is a summary of what we'll cover in common EDA workflows:\n",
    "\n",
    "- `.head()` and `.tail()`\n",
    "- `.describe()`\n",
    "- `.shape` and `.size`\n",
    "- `.axes`\n",
    "- `.dtypes`"
   ]
  },
  {
   "cell_type": "code",
   "execution_count": 21,
   "metadata": {},
   "outputs": [
    {
     "data": {
      "text/html": [
       "<div>\n",
       "<style scoped>\n",
       "    .dataframe tbody tr th:only-of-type {\n",
       "        vertical-align: middle;\n",
       "    }\n",
       "\n",
       "    .dataframe tbody tr th {\n",
       "        vertical-align: top;\n",
       "    }\n",
       "\n",
       "    .dataframe thead th {\n",
       "        text-align: right;\n",
       "    }\n",
       "</style>\n",
       "<table border=\"1\" class=\"dataframe\">\n",
       "  <thead>\n",
       "    <tr style=\"text-align: right;\">\n",
       "      <th></th>\n",
       "      <th>age</th>\n",
       "      <th>hourlyrate</th>\n",
       "    </tr>\n",
       "  </thead>\n",
       "  <tbody>\n",
       "    <tr>\n",
       "      <th>count</th>\n",
       "      <td>2.000000</td>\n",
       "      <td>2.000000</td>\n",
       "    </tr>\n",
       "    <tr>\n",
       "      <th>mean</th>\n",
       "      <td>31.500000</td>\n",
       "      <td>32.250000</td>\n",
       "    </tr>\n",
       "    <tr>\n",
       "      <th>std</th>\n",
       "      <td>3.535534</td>\n",
       "      <td>4.596194</td>\n",
       "    </tr>\n",
       "    <tr>\n",
       "      <th>min</th>\n",
       "      <td>29.000000</td>\n",
       "      <td>29.000000</td>\n",
       "    </tr>\n",
       "    <tr>\n",
       "      <th>25%</th>\n",
       "      <td>30.250000</td>\n",
       "      <td>30.625000</td>\n",
       "    </tr>\n",
       "    <tr>\n",
       "      <th>50%</th>\n",
       "      <td>31.500000</td>\n",
       "      <td>32.250000</td>\n",
       "    </tr>\n",
       "    <tr>\n",
       "      <th>75%</th>\n",
       "      <td>32.750000</td>\n",
       "      <td>33.875000</td>\n",
       "    </tr>\n",
       "    <tr>\n",
       "      <th>max</th>\n",
       "      <td>34.000000</td>\n",
       "      <td>35.500000</td>\n",
       "    </tr>\n",
       "  </tbody>\n",
       "</table>\n",
       "</div>"
      ],
      "text/plain": [
       "             age  hourlyrate\n",
       "count   2.000000    2.000000\n",
       "mean   31.500000   32.250000\n",
       "std     3.535534    4.596194\n",
       "min    29.000000   29.000000\n",
       "25%    30.250000   30.625000\n",
       "50%    31.500000   32.250000\n",
       "75%    32.750000   33.875000\n",
       "max    34.000000   35.500000"
      ]
     },
     "execution_count": 21,
     "metadata": {},
     "output_type": "execute_result"
    }
   ],
   "source": [
    "employees.describe()"
   ]
  },
  {
   "cell_type": "markdown",
   "metadata": {},
   "source": [
    "The `describe()` method will generate descriptive statistics of our data, and by default include all numeric columns in our DataFrame. The code above calls `.describe()` on `employees`, from which there are two numeric columns. This method is an \"instruction\" to perform something (functions) associated with the object. We've seen earlier how to use `.head()` and `.tail()` on our DataFrame: these are also method calls!\n",
    "\n",
    "We can add an `include` parameter in the `.describe()` method call, which takes a list-like of dtypes to be included or `all` for all columns of the dataframe.\n",
    "\n",
    "Add a new cell below, calling `describe()` but only on columns of `object` and `datetime` types (`['category', 'datetime']`):"
   ]
  },
  {
   "cell_type": "code",
   "execution_count": 22,
   "metadata": {},
   "outputs": [
    {
     "data": {
      "text/html": [
       "<div>\n",
       "<style scoped>\n",
       "    .dataframe tbody tr th:only-of-type {\n",
       "        vertical-align: middle;\n",
       "    }\n",
       "\n",
       "    .dataframe tbody tr th {\n",
       "        vertical-align: top;\n",
       "    }\n",
       "\n",
       "    .dataframe thead th {\n",
       "        text-align: right;\n",
       "    }\n",
       "</style>\n",
       "<table border=\"1\" class=\"dataframe\">\n",
       "  <thead>\n",
       "    <tr style=\"text-align: right;\">\n",
       "      <th></th>\n",
       "      <th>purchase_time</th>\n",
       "      <th>category</th>\n",
       "      <th>sub_category</th>\n",
       "      <th>format</th>\n",
       "    </tr>\n",
       "  </thead>\n",
       "  <tbody>\n",
       "    <tr>\n",
       "      <th>count</th>\n",
       "      <td>72000</td>\n",
       "      <td>72000</td>\n",
       "      <td>72000</td>\n",
       "      <td>72000</td>\n",
       "    </tr>\n",
       "    <tr>\n",
       "      <th>unique</th>\n",
       "      <td>62072</td>\n",
       "      <td>3</td>\n",
       "      <td>3</td>\n",
       "      <td>3</td>\n",
       "    </tr>\n",
       "    <tr>\n",
       "      <th>top</th>\n",
       "      <td>2017-10-22 12:00:00</td>\n",
       "      <td>Fabric Care</td>\n",
       "      <td>Detergent</td>\n",
       "      <td>minimarket</td>\n",
       "    </tr>\n",
       "    <tr>\n",
       "      <th>freq</th>\n",
       "      <td>12</td>\n",
       "      <td>36000</td>\n",
       "      <td>36000</td>\n",
       "      <td>46803</td>\n",
       "    </tr>\n",
       "    <tr>\n",
       "      <th>first</th>\n",
       "      <td>2017-10-01 00:00:00</td>\n",
       "      <td>NaN</td>\n",
       "      <td>NaN</td>\n",
       "      <td>NaN</td>\n",
       "    </tr>\n",
       "    <tr>\n",
       "      <th>last</th>\n",
       "      <td>2018-09-30 23:57:00</td>\n",
       "      <td>NaN</td>\n",
       "      <td>NaN</td>\n",
       "      <td>NaN</td>\n",
       "    </tr>\n",
       "  </tbody>\n",
       "</table>\n",
       "</div>"
      ],
      "text/plain": [
       "              purchase_time     category sub_category      format\n",
       "count                 72000        72000        72000       72000\n",
       "unique                62072            3            3           3\n",
       "top     2017-10-22 12:00:00  Fabric Care    Detergent  minimarket\n",
       "freq                     12        36000        36000       46803\n",
       "first   2017-10-01 00:00:00          NaN          NaN         NaN\n",
       "last    2018-09-30 23:57:00          NaN          NaN         NaN"
      ]
     },
     "execution_count": 22,
     "metadata": {},
     "output_type": "execute_result"
    }
   ],
   "source": [
    "## Your code below\n",
    "\n",
    "household.describe(include=['category', 'datetime'])"
   ]
  },
  {
   "cell_type": "markdown",
   "metadata": {},
   "source": [
    "Very often, we also want to know the shape of our data - i.e. how many rows and columns are there in our DataFrame? \n",
    "\n",
    "Our DataFrame has attributes that we can use to answer those questions. An attribute is a value stored within an object that describe an aspect of the object's characteristic. In the following call, we are asking for the `.shape` and the `.size` attribute of our `rice` DataFrame.\n",
    "\n",
    "_Tip:_\n",
    "Unlike `describe()`, which is a method call; `shape` and `size` are **attributes** of our DataFrame - that means no function is evaluated; Only a value stored in the object's instance is looked up and returned."
   ]
  },
  {
   "cell_type": "code",
   "execution_count": 23,
   "metadata": {},
   "outputs": [
    {
     "name": "stdout",
     "output_type": "stream",
     "text": [
      "(72000, 10)\n",
      "720000\n"
     ]
    }
   ],
   "source": [
    "print(household.shape)\n",
    "print(household.size)"
   ]
  },
  {
   "cell_type": "markdown",
   "metadata": {},
   "source": [
    "`size` returns the number of elements in the `rice` DataFrame. Because we have 72,000 rows and 10 columns, the total number of elements would be a total of 720,000. \n",
    "\n",
    "Use `.shape` on the `employees` DataFrame. From the resulting output, could you tell what would be the result of calling `employees.size`?"
   ]
  },
  {
   "cell_type": "code",
   "execution_count": 24,
   "metadata": {},
   "outputs": [
    {
     "data": {
      "text/plain": [
       "12"
      ]
     },
     "execution_count": 24,
     "metadata": {},
     "output_type": "execute_result"
    }
   ],
   "source": [
    "## Your code here\n",
    "\n",
    "## Melihat jumlah baris dan kolom pada data employees yang telah dibuat di atas ##\n",
    "## format .shape(row, colom)\n",
    "\n",
    "employees.shape\n",
    "\n",
    "## Melihat size data\n",
    "## format .size(row * colom)\n",
    "\n",
    "employees.size\n"
   ]
  },
  {
   "cell_type": "code",
   "execution_count": 25,
   "metadata": {},
   "outputs": [
    {
     "name": "stdout",
     "output_type": "stream",
     "text": [
      "(72000, 10)\n",
      "720000\n",
      "Index(['receipts_item_id', 'purchase_time', 'category', 'sub_category',\n",
      "       'format', 'unit_price', 'discount', 'quantity', 'yearmonth',\n",
      "       'dayofweek'],\n",
      "      dtype='object')\n",
      "Int64Index([9622257, 9446359, 9470290, 9643416, 9692093, 9504155, 9822589,\n",
      "            9706953, 9699516, 9444092,\n",
      "            ...\n",
      "            5706802, 5810097, 5619551, 5658236, 5918414, 5909305, 5736299,\n",
      "            5901144, 5660630, 5808147],\n",
      "           dtype='int64', name='receipt_id', length=72000)\n"
     ]
    }
   ],
   "source": [
    "print(df_example_1.shape)\n",
    "print(df_example_1.size)\n",
    "\n",
    "## Melihat header data/nama kolomnya\n",
    "print(df_example_1.axes[1])\n",
    "\n",
    "## Melihat kolom yang dijadikan indeks, nomor urut row\n",
    "print(df_example_1.axes[0])"
   ]
  },
  {
   "cell_type": "markdown",
   "metadata": {},
   "source": [
    "One other attribute that is often useful is `.axes`, which return a list representing the axes of our DataFrame. Most likely, this would be a list of length 2, one for the row axis and one for the column axis, in that particular order.\n",
    "\n",
    "Because it is ordered that way, calling `.axes[0]` would return the first item of that list, which would be the row axis (or row names if present) and calling `.axes[1]` would return the column axis, which would be equivalent to calling `household.columns`:"
   ]
  },
  {
   "cell_type": "code",
   "execution_count": 26,
   "metadata": {},
   "outputs": [
    {
     "data": {
      "text/plain": [
       "Index(['receipts_item_id', 'purchase_time', 'category', 'sub_category',\n",
       "       'format', 'unit_price', 'discount', 'quantity', 'yearmonth',\n",
       "       'dayofweek'],\n",
       "      dtype='object')"
      ]
     },
     "execution_count": 26,
     "metadata": {},
     "output_type": "execute_result"
    }
   ],
   "source": [
    "household.axes[1]"
   ]
  },
  {
   "cell_type": "markdown",
   "metadata": {},
   "source": [
    "**Knowledge Check**\n",
    "\n",
    "Supposed we have a pandas DataFrame named `inventory`. \n",
    "\n",
    "1. We called `inventory.dtypes` and got the following output. Which of the column likely require type conversion because it seems to have the wrong data type? Choose all that apply.\n",
    "\n",
    "    - [ ] `units_instock`: int64\n",
    "    - [ ] `discount_price`: float64\n",
    "    - [v] `item_name`: object     #change to Category\n",
    "    - [v] `units_sold`: object    #change to Category\n",
    "    \n",
    "\n",
    "2. We would like to know the number of columns in `inventory`. Which of the following code would print the number of columns in `inventory`? Choose all that apply.\n",
    "\n",
    "    - [ ] `print(len(inventory.columns))`\n",
    "    - [v] `print(inventory.shape[1])`\n",
    "    - [ ] `print(len(rice.axes[1]))`\n"
   ]
  },
  {
   "cell_type": "markdown",
   "metadata": {},
   "source": [
    "## Indexing and Subsetting with Pandas\n",
    "\n",
    "Using indexing operators to select, summarize or transform only a subset of data is a critical part of any data analysis workflow. Consider the following use-cases:\n",
    "\n",
    "- Compare the sales in Year 2018 vs Year 2019  \n",
    "- Identify missed opportunities in a specific market segment (e.g. Retail vs Wholesale)\n",
    "- Best quarter of the year to execute cross-selling promos / discounts\n",
    "- Study profitability of goods in the higher price range (e.g. IDR45000000+) and how competitors positioning affect sales in that price range\n",
    "\n",
    "Notice that in all of these use-cases, data analysts will want to use some combination of indexing and then perform the necessary computations on that specific slice or slices of data. Unsurprisingly, `pandas` come with a number of methods to help you accomplish this task.\n",
    "\n",
    "In the following section, we'll take a closer look at some of the most common slicing and subsetting operations in `pandas`:\n",
    "- `head()` and `tail()`  \n",
    "- `select_dtypes()`  \n",
    "- Using `.drop()` \n",
    "- The `[]` operator\n",
    "- `.loc`  \n",
    "- `.iloc`\n",
    "- Conditional subsetting\n",
    "\n",
    "Say we're only really interested in the numeric columns of our data, we can use `select_dtypes` to selectively include or exclude only particular data types.\n",
    "\n",
    "In the following example, I use `select_dtypes` to _include_ only textual columns (`objects`) and then proceed to pass the output of this function call into `.head()`. Notice that when we chain two methods this way, the output of the first function call will be \"passed\" into the second function call: "
   ]
  },
  {
   "cell_type": "code",
   "execution_count": 27,
   "metadata": {},
   "outputs": [
    {
     "data": {
      "text/html": [
       "<div>\n",
       "<style scoped>\n",
       "    .dataframe tbody tr th:only-of-type {\n",
       "        vertical-align: middle;\n",
       "    }\n",
       "\n",
       "    .dataframe tbody tr th {\n",
       "        vertical-align: top;\n",
       "    }\n",
       "\n",
       "    .dataframe thead th {\n",
       "        text-align: right;\n",
       "    }\n",
       "</style>\n",
       "<table border=\"1\" class=\"dataframe\">\n",
       "  <thead>\n",
       "    <tr style=\"text-align: right;\">\n",
       "      <th></th>\n",
       "      <th>category</th>\n",
       "      <th>sub_category</th>\n",
       "      <th>format</th>\n",
       "    </tr>\n",
       "    <tr>\n",
       "      <th>receipt_id</th>\n",
       "      <th></th>\n",
       "      <th></th>\n",
       "      <th></th>\n",
       "    </tr>\n",
       "  </thead>\n",
       "  <tbody>\n",
       "    <tr>\n",
       "      <th>9622257</th>\n",
       "      <td>Rice</td>\n",
       "      <td>Rice</td>\n",
       "      <td>supermarket</td>\n",
       "    </tr>\n",
       "    <tr>\n",
       "      <th>9446359</th>\n",
       "      <td>Rice</td>\n",
       "      <td>Rice</td>\n",
       "      <td>minimarket</td>\n",
       "    </tr>\n",
       "    <tr>\n",
       "      <th>9470290</th>\n",
       "      <td>Rice</td>\n",
       "      <td>Rice</td>\n",
       "      <td>supermarket</td>\n",
       "    </tr>\n",
       "    <tr>\n",
       "      <th>9643416</th>\n",
       "      <td>Rice</td>\n",
       "      <td>Rice</td>\n",
       "      <td>minimarket</td>\n",
       "    </tr>\n",
       "    <tr>\n",
       "      <th>9692093</th>\n",
       "      <td>Rice</td>\n",
       "      <td>Rice</td>\n",
       "      <td>supermarket</td>\n",
       "    </tr>\n",
       "  </tbody>\n",
       "</table>\n",
       "</div>"
      ],
      "text/plain": [
       "           category sub_category       format\n",
       "receipt_id                                   \n",
       "9622257        Rice         Rice  supermarket\n",
       "9446359        Rice         Rice   minimarket\n",
       "9470290        Rice         Rice  supermarket\n",
       "9643416        Rice         Rice   minimarket\n",
       "9692093        Rice         Rice  supermarket"
      ]
     },
     "execution_count": 27,
     "metadata": {},
     "output_type": "execute_result"
    }
   ],
   "source": [
    "household.select_dtypes(include='category').head()"
   ]
  },
  {
   "cell_type": "markdown",
   "metadata": {},
   "source": [
    "You can also use `include` or `exclude` with a list of data types instead of a singular value. To include all columns of data types integer and float, we can do either of these:\n",
    "- `include='number'`  \n",
    "- `include=['int', 'float']`"
   ]
  },
  {
   "cell_type": "markdown",
   "metadata": {},
   "source": [
    "Apart from using `select_dtypes` to exclude columns, we can also use `.drop()` to remove rows or columns by label names and the corresponding axis. By default, the `axis` is assumed to be 0, i.e. referring to the row. Hence the following code will drop the **row** with label `9622257`: "
   ]
  },
  {
   "cell_type": "code",
   "execution_count": 28,
   "metadata": {},
   "outputs": [
    {
     "data": {
      "text/html": [
       "<div>\n",
       "<style scoped>\n",
       "    .dataframe tbody tr th:only-of-type {\n",
       "        vertical-align: middle;\n",
       "    }\n",
       "\n",
       "    .dataframe tbody tr th {\n",
       "        vertical-align: top;\n",
       "    }\n",
       "\n",
       "    .dataframe thead th {\n",
       "        text-align: right;\n",
       "    }\n",
       "</style>\n",
       "<table border=\"1\" class=\"dataframe\">\n",
       "  <thead>\n",
       "    <tr style=\"text-align: right;\">\n",
       "      <th></th>\n",
       "      <th>receipts_item_id</th>\n",
       "      <th>purchase_time</th>\n",
       "      <th>category</th>\n",
       "      <th>sub_category</th>\n",
       "      <th>format</th>\n",
       "      <th>unit_price</th>\n",
       "      <th>discount</th>\n",
       "      <th>quantity</th>\n",
       "      <th>yearmonth</th>\n",
       "      <th>dayofweek</th>\n",
       "    </tr>\n",
       "    <tr>\n",
       "      <th>receipt_id</th>\n",
       "      <th></th>\n",
       "      <th></th>\n",
       "      <th></th>\n",
       "      <th></th>\n",
       "      <th></th>\n",
       "      <th></th>\n",
       "      <th></th>\n",
       "      <th></th>\n",
       "      <th></th>\n",
       "      <th></th>\n",
       "    </tr>\n",
       "  </thead>\n",
       "  <tbody>\n",
       "    <tr>\n",
       "      <th>9622257</th>\n",
       "      <td>32369294</td>\n",
       "      <td>2018-07-22 21:19:00</td>\n",
       "      <td>Rice</td>\n",
       "      <td>Rice</td>\n",
       "      <td>supermarket</td>\n",
       "      <td>128000.0</td>\n",
       "      <td>0</td>\n",
       "      <td>1</td>\n",
       "      <td>2018-07</td>\n",
       "      <td>Sunday</td>\n",
       "    </tr>\n",
       "    <tr>\n",
       "      <th>9446359</th>\n",
       "      <td>31885876</td>\n",
       "      <td>2018-07-15 16:17:00</td>\n",
       "      <td>Rice</td>\n",
       "      <td>Rice</td>\n",
       "      <td>minimarket</td>\n",
       "      <td>102750.0</td>\n",
       "      <td>0</td>\n",
       "      <td>1</td>\n",
       "      <td>2018-07</td>\n",
       "      <td>Sunday</td>\n",
       "    </tr>\n",
       "    <tr>\n",
       "      <th>9470290</th>\n",
       "      <td>31930241</td>\n",
       "      <td>2018-07-15 12:12:00</td>\n",
       "      <td>Rice</td>\n",
       "      <td>Rice</td>\n",
       "      <td>supermarket</td>\n",
       "      <td>64000.0</td>\n",
       "      <td>0</td>\n",
       "      <td>3</td>\n",
       "      <td>2018-07</td>\n",
       "      <td>Sunday</td>\n",
       "    </tr>\n",
       "    <tr>\n",
       "      <th>9643416</th>\n",
       "      <td>32418582</td>\n",
       "      <td>2018-07-24 08:27:00</td>\n",
       "      <td>Rice</td>\n",
       "      <td>Rice</td>\n",
       "      <td>minimarket</td>\n",
       "      <td>65000.0</td>\n",
       "      <td>0</td>\n",
       "      <td>1</td>\n",
       "      <td>2018-07</td>\n",
       "      <td>Tuesday</td>\n",
       "    </tr>\n",
       "    <tr>\n",
       "      <th>9692093</th>\n",
       "      <td>32561236</td>\n",
       "      <td>2018-07-26 11:28:00</td>\n",
       "      <td>Rice</td>\n",
       "      <td>Rice</td>\n",
       "      <td>supermarket</td>\n",
       "      <td>124500.0</td>\n",
       "      <td>0</td>\n",
       "      <td>1</td>\n",
       "      <td>2018-07</td>\n",
       "      <td>Thursday</td>\n",
       "    </tr>\n",
       "  </tbody>\n",
       "</table>\n",
       "</div>"
      ],
      "text/plain": [
       "            receipts_item_id       purchase_time category sub_category  \\\n",
       "receipt_id                                                               \n",
       "9622257             32369294 2018-07-22 21:19:00     Rice         Rice   \n",
       "9446359             31885876 2018-07-15 16:17:00     Rice         Rice   \n",
       "9470290             31930241 2018-07-15 12:12:00     Rice         Rice   \n",
       "9643416             32418582 2018-07-24 08:27:00     Rice         Rice   \n",
       "9692093             32561236 2018-07-26 11:28:00     Rice         Rice   \n",
       "\n",
       "                 format  unit_price  discount  quantity yearmonth dayofweek  \n",
       "receipt_id                                                                   \n",
       "9622257     supermarket    128000.0         0         1   2018-07    Sunday  \n",
       "9446359      minimarket    102750.0         0         1   2018-07    Sunday  \n",
       "9470290     supermarket     64000.0         0         3   2018-07    Sunday  \n",
       "9643416      minimarket     65000.0         0         1   2018-07   Tuesday  \n",
       "9692093     supermarket    124500.0         0         1   2018-07  Thursday  "
      ]
     },
     "execution_count": 28,
     "metadata": {},
     "output_type": "execute_result"
    }
   ],
   "source": [
    "household.head()"
   ]
  },
  {
   "cell_type": "code",
   "execution_count": 29,
   "metadata": {
    "scrolled": true
   },
   "outputs": [
    {
     "data": {
      "text/html": [
       "<div>\n",
       "<style scoped>\n",
       "    .dataframe tbody tr th:only-of-type {\n",
       "        vertical-align: middle;\n",
       "    }\n",
       "\n",
       "    .dataframe tbody tr th {\n",
       "        vertical-align: top;\n",
       "    }\n",
       "\n",
       "    .dataframe thead th {\n",
       "        text-align: right;\n",
       "    }\n",
       "</style>\n",
       "<table border=\"1\" class=\"dataframe\">\n",
       "  <thead>\n",
       "    <tr style=\"text-align: right;\">\n",
       "      <th></th>\n",
       "      <th>receipts_item_id</th>\n",
       "      <th>purchase_time</th>\n",
       "      <th>category</th>\n",
       "      <th>sub_category</th>\n",
       "      <th>format</th>\n",
       "      <th>unit_price</th>\n",
       "      <th>discount</th>\n",
       "      <th>quantity</th>\n",
       "      <th>yearmonth</th>\n",
       "      <th>dayofweek</th>\n",
       "    </tr>\n",
       "    <tr>\n",
       "      <th>receipt_id</th>\n",
       "      <th></th>\n",
       "      <th></th>\n",
       "      <th></th>\n",
       "      <th></th>\n",
       "      <th></th>\n",
       "      <th></th>\n",
       "      <th></th>\n",
       "      <th></th>\n",
       "      <th></th>\n",
       "      <th></th>\n",
       "    </tr>\n",
       "  </thead>\n",
       "  <tbody>\n",
       "    <tr>\n",
       "      <th>9446359</th>\n",
       "      <td>31885876</td>\n",
       "      <td>2018-07-15 16:17:00</td>\n",
       "      <td>Rice</td>\n",
       "      <td>Rice</td>\n",
       "      <td>minimarket</td>\n",
       "      <td>102750.0</td>\n",
       "      <td>0</td>\n",
       "      <td>1</td>\n",
       "      <td>2018-07</td>\n",
       "      <td>Sunday</td>\n",
       "    </tr>\n",
       "    <tr>\n",
       "      <th>9470290</th>\n",
       "      <td>31930241</td>\n",
       "      <td>2018-07-15 12:12:00</td>\n",
       "      <td>Rice</td>\n",
       "      <td>Rice</td>\n",
       "      <td>supermarket</td>\n",
       "      <td>64000.0</td>\n",
       "      <td>0</td>\n",
       "      <td>3</td>\n",
       "      <td>2018-07</td>\n",
       "      <td>Sunday</td>\n",
       "    </tr>\n",
       "    <tr>\n",
       "      <th>9643416</th>\n",
       "      <td>32418582</td>\n",
       "      <td>2018-07-24 08:27:00</td>\n",
       "      <td>Rice</td>\n",
       "      <td>Rice</td>\n",
       "      <td>minimarket</td>\n",
       "      <td>65000.0</td>\n",
       "      <td>0</td>\n",
       "      <td>1</td>\n",
       "      <td>2018-07</td>\n",
       "      <td>Tuesday</td>\n",
       "    </tr>\n",
       "    <tr>\n",
       "      <th>9692093</th>\n",
       "      <td>32561236</td>\n",
       "      <td>2018-07-26 11:28:00</td>\n",
       "      <td>Rice</td>\n",
       "      <td>Rice</td>\n",
       "      <td>supermarket</td>\n",
       "      <td>124500.0</td>\n",
       "      <td>0</td>\n",
       "      <td>1</td>\n",
       "      <td>2018-07</td>\n",
       "      <td>Thursday</td>\n",
       "    </tr>\n",
       "    <tr>\n",
       "      <th>9504155</th>\n",
       "      <td>32030785</td>\n",
       "      <td>2018-07-17 18:05:00</td>\n",
       "      <td>Rice</td>\n",
       "      <td>Rice</td>\n",
       "      <td>minimarket</td>\n",
       "      <td>63500.0</td>\n",
       "      <td>0</td>\n",
       "      <td>1</td>\n",
       "      <td>2018-07</td>\n",
       "      <td>Tuesday</td>\n",
       "    </tr>\n",
       "  </tbody>\n",
       "</table>\n",
       "</div>"
      ],
      "text/plain": [
       "            receipts_item_id       purchase_time category sub_category  \\\n",
       "receipt_id                                                               \n",
       "9446359             31885876 2018-07-15 16:17:00     Rice         Rice   \n",
       "9470290             31930241 2018-07-15 12:12:00     Rice         Rice   \n",
       "9643416             32418582 2018-07-24 08:27:00     Rice         Rice   \n",
       "9692093             32561236 2018-07-26 11:28:00     Rice         Rice   \n",
       "9504155             32030785 2018-07-17 18:05:00     Rice         Rice   \n",
       "\n",
       "                 format  unit_price  discount  quantity yearmonth dayofweek  \n",
       "receipt_id                                                                   \n",
       "9446359      minimarket    102750.0         0         1   2018-07    Sunday  \n",
       "9470290     supermarket     64000.0         0         3   2018-07    Sunday  \n",
       "9643416      minimarket     65000.0         0         1   2018-07   Tuesday  \n",
       "9692093     supermarket    124500.0         0         1   2018-07  Thursday  \n",
       "9504155      minimarket     63500.0         0         1   2018-07   Tuesday  "
      ]
     },
     "execution_count": 29,
     "metadata": {},
     "output_type": "execute_result"
    }
   ],
   "source": [
    "household.drop(9622257).head()"
   ]
  },
  {
   "cell_type": "markdown",
   "metadata": {},
   "source": [
    "We can drop multiple rows or columns by passing in a list. In the following code, we override the default `axis` value by passing `axis=1`; As a result `pandas` will drop the specified columns, while preserving all rows:"
   ]
  },
  {
   "cell_type": "code",
   "execution_count": 30,
   "metadata": {},
   "outputs": [
    {
     "data": {
      "text/html": [
       "<div>\n",
       "<style scoped>\n",
       "    .dataframe tbody tr th:only-of-type {\n",
       "        vertical-align: middle;\n",
       "    }\n",
       "\n",
       "    .dataframe tbody tr th {\n",
       "        vertical-align: top;\n",
       "    }\n",
       "\n",
       "    .dataframe thead th {\n",
       "        text-align: right;\n",
       "    }\n",
       "</style>\n",
       "<table border=\"1\" class=\"dataframe\">\n",
       "  <thead>\n",
       "    <tr style=\"text-align: right;\">\n",
       "      <th></th>\n",
       "      <th>category</th>\n",
       "      <th>sub_category</th>\n",
       "      <th>format</th>\n",
       "      <th>discount</th>\n",
       "      <th>quantity</th>\n",
       "      <th>yearmonth</th>\n",
       "      <th>dayofweek</th>\n",
       "    </tr>\n",
       "    <tr>\n",
       "      <th>receipt_id</th>\n",
       "      <th></th>\n",
       "      <th></th>\n",
       "      <th></th>\n",
       "      <th></th>\n",
       "      <th></th>\n",
       "      <th></th>\n",
       "      <th></th>\n",
       "    </tr>\n",
       "  </thead>\n",
       "  <tbody>\n",
       "    <tr>\n",
       "      <th>9622257</th>\n",
       "      <td>Rice</td>\n",
       "      <td>Rice</td>\n",
       "      <td>supermarket</td>\n",
       "      <td>0</td>\n",
       "      <td>1</td>\n",
       "      <td>2018-07</td>\n",
       "      <td>Sunday</td>\n",
       "    </tr>\n",
       "    <tr>\n",
       "      <th>9446359</th>\n",
       "      <td>Rice</td>\n",
       "      <td>Rice</td>\n",
       "      <td>minimarket</td>\n",
       "      <td>0</td>\n",
       "      <td>1</td>\n",
       "      <td>2018-07</td>\n",
       "      <td>Sunday</td>\n",
       "    </tr>\n",
       "    <tr>\n",
       "      <th>9470290</th>\n",
       "      <td>Rice</td>\n",
       "      <td>Rice</td>\n",
       "      <td>supermarket</td>\n",
       "      <td>0</td>\n",
       "      <td>3</td>\n",
       "      <td>2018-07</td>\n",
       "      <td>Sunday</td>\n",
       "    </tr>\n",
       "    <tr>\n",
       "      <th>9643416</th>\n",
       "      <td>Rice</td>\n",
       "      <td>Rice</td>\n",
       "      <td>minimarket</td>\n",
       "      <td>0</td>\n",
       "      <td>1</td>\n",
       "      <td>2018-07</td>\n",
       "      <td>Tuesday</td>\n",
       "    </tr>\n",
       "    <tr>\n",
       "      <th>9692093</th>\n",
       "      <td>Rice</td>\n",
       "      <td>Rice</td>\n",
       "      <td>supermarket</td>\n",
       "      <td>0</td>\n",
       "      <td>1</td>\n",
       "      <td>2018-07</td>\n",
       "      <td>Thursday</td>\n",
       "    </tr>\n",
       "  </tbody>\n",
       "</table>\n",
       "</div>"
      ],
      "text/plain": [
       "           category sub_category       format  discount  quantity yearmonth  \\\n",
       "receipt_id                                                                    \n",
       "9622257        Rice         Rice  supermarket         0         1   2018-07   \n",
       "9446359        Rice         Rice   minimarket         0         1   2018-07   \n",
       "9470290        Rice         Rice  supermarket         0         3   2018-07   \n",
       "9643416        Rice         Rice   minimarket         0         1   2018-07   \n",
       "9692093        Rice         Rice  supermarket         0         1   2018-07   \n",
       "\n",
       "           dayofweek  \n",
       "receipt_id            \n",
       "9622257       Sunday  \n",
       "9446359       Sunday  \n",
       "9470290       Sunday  \n",
       "9643416      Tuesday  \n",
       "9692093     Thursday  "
      ]
     },
     "execution_count": 30,
     "metadata": {},
     "output_type": "execute_result"
    }
   ],
   "source": [
    "household.drop(['unit_price', 'purchase_time', 'receipts_item_id'], axis=1).head()"
   ]
  },
  {
   "cell_type": "markdown",
   "metadata": {},
   "source": [
    "Rather commonly, you may want to perform subsetting by slicing out a set of rows. This can be done using the `household[start:end]` syntax, where `start` is inclusive.\n",
    "\n",
    "The code follows slices out the first to fourth row, or equivalently, row with the index 0, 1, 2, and 3. "
   ]
  },
  {
   "cell_type": "code",
   "execution_count": 31,
   "metadata": {
    "scrolled": true
   },
   "outputs": [
    {
     "data": {
      "text/html": [
       "<div>\n",
       "<style scoped>\n",
       "    .dataframe tbody tr th:only-of-type {\n",
       "        vertical-align: middle;\n",
       "    }\n",
       "\n",
       "    .dataframe tbody tr th {\n",
       "        vertical-align: top;\n",
       "    }\n",
       "\n",
       "    .dataframe thead th {\n",
       "        text-align: right;\n",
       "    }\n",
       "</style>\n",
       "<table border=\"1\" class=\"dataframe\">\n",
       "  <thead>\n",
       "    <tr style=\"text-align: right;\">\n",
       "      <th></th>\n",
       "      <th>receipts_item_id</th>\n",
       "      <th>purchase_time</th>\n",
       "      <th>category</th>\n",
       "      <th>sub_category</th>\n",
       "      <th>format</th>\n",
       "      <th>unit_price</th>\n",
       "      <th>discount</th>\n",
       "      <th>quantity</th>\n",
       "      <th>yearmonth</th>\n",
       "      <th>dayofweek</th>\n",
       "    </tr>\n",
       "    <tr>\n",
       "      <th>receipt_id</th>\n",
       "      <th></th>\n",
       "      <th></th>\n",
       "      <th></th>\n",
       "      <th></th>\n",
       "      <th></th>\n",
       "      <th></th>\n",
       "      <th></th>\n",
       "      <th></th>\n",
       "      <th></th>\n",
       "      <th></th>\n",
       "    </tr>\n",
       "  </thead>\n",
       "  <tbody>\n",
       "    <tr>\n",
       "      <th>9622257</th>\n",
       "      <td>32369294</td>\n",
       "      <td>2018-07-22 21:19:00</td>\n",
       "      <td>Rice</td>\n",
       "      <td>Rice</td>\n",
       "      <td>supermarket</td>\n",
       "      <td>128000.0</td>\n",
       "      <td>0</td>\n",
       "      <td>1</td>\n",
       "      <td>2018-07</td>\n",
       "      <td>Sunday</td>\n",
       "    </tr>\n",
       "    <tr>\n",
       "      <th>9446359</th>\n",
       "      <td>31885876</td>\n",
       "      <td>2018-07-15 16:17:00</td>\n",
       "      <td>Rice</td>\n",
       "      <td>Rice</td>\n",
       "      <td>minimarket</td>\n",
       "      <td>102750.0</td>\n",
       "      <td>0</td>\n",
       "      <td>1</td>\n",
       "      <td>2018-07</td>\n",
       "      <td>Sunday</td>\n",
       "    </tr>\n",
       "    <tr>\n",
       "      <th>9470290</th>\n",
       "      <td>31930241</td>\n",
       "      <td>2018-07-15 12:12:00</td>\n",
       "      <td>Rice</td>\n",
       "      <td>Rice</td>\n",
       "      <td>supermarket</td>\n",
       "      <td>64000.0</td>\n",
       "      <td>0</td>\n",
       "      <td>3</td>\n",
       "      <td>2018-07</td>\n",
       "      <td>Sunday</td>\n",
       "    </tr>\n",
       "    <tr>\n",
       "      <th>9643416</th>\n",
       "      <td>32418582</td>\n",
       "      <td>2018-07-24 08:27:00</td>\n",
       "      <td>Rice</td>\n",
       "      <td>Rice</td>\n",
       "      <td>minimarket</td>\n",
       "      <td>65000.0</td>\n",
       "      <td>0</td>\n",
       "      <td>1</td>\n",
       "      <td>2018-07</td>\n",
       "      <td>Tuesday</td>\n",
       "    </tr>\n",
       "  </tbody>\n",
       "</table>\n",
       "</div>"
      ],
      "text/plain": [
       "            receipts_item_id       purchase_time category sub_category  \\\n",
       "receipt_id                                                               \n",
       "9622257             32369294 2018-07-22 21:19:00     Rice         Rice   \n",
       "9446359             31885876 2018-07-15 16:17:00     Rice         Rice   \n",
       "9470290             31930241 2018-07-15 12:12:00     Rice         Rice   \n",
       "9643416             32418582 2018-07-24 08:27:00     Rice         Rice   \n",
       "\n",
       "                 format  unit_price  discount  quantity yearmonth dayofweek  \n",
       "receipt_id                                                                   \n",
       "9622257     supermarket    128000.0         0         1   2018-07    Sunday  \n",
       "9446359      minimarket    102750.0         0         1   2018-07    Sunday  \n",
       "9470290     supermarket     64000.0         0         3   2018-07    Sunday  \n",
       "9643416      minimarket     65000.0         0         1   2018-07   Tuesday  "
      ]
     },
     "execution_count": 31,
     "metadata": {},
     "output_type": "execute_result"
    }
   ],
   "source": [
    "household[0:4]"
   ]
  },
  {
   "cell_type": "markdown",
   "metadata": {},
   "source": [
    "**Knowledge Check**:\n",
    "\n",
    "Recalling that the `end` is not inclusive and Python's 0-based indexing behavior, if we have wanted to subset the **8th to 12th** row of our data, how would we have done it instead? Pick the right answer and try it in a new code cell below.\n",
    "\n",
    "- [ ] `rice[7:12]`\n",
    "- [ ] `rice[8:12]`\n",
    "- [ ] `rice[7:13]`\n",
    "- [ ] `rice[8:13]`\n",
    "\n"
   ]
  },
  {
   "cell_type": "markdown",
   "metadata": {},
   "source": [
    "Using `.loc` and `.iloc`, we can perform slicing on both the row and column indices, offering us even greater flexibility and control over our subsetting operations.\n",
    "\n",
    "`.iloc` requires us to pass an `integer` to either the row or/and column. We can also use `:` to indicate no subsetting in a certain direction. The following code slices out the first 5 rows but take all columns (pay attention to the use of the `:` operator): "
   ]
  },
  {
   "cell_type": "code",
   "execution_count": 32,
   "metadata": {
    "scrolled": true
   },
   "outputs": [
    {
     "data": {
      "text/html": [
       "<div>\n",
       "<style scoped>\n",
       "    .dataframe tbody tr th:only-of-type {\n",
       "        vertical-align: middle;\n",
       "    }\n",
       "\n",
       "    .dataframe tbody tr th {\n",
       "        vertical-align: top;\n",
       "    }\n",
       "\n",
       "    .dataframe thead th {\n",
       "        text-align: right;\n",
       "    }\n",
       "</style>\n",
       "<table border=\"1\" class=\"dataframe\">\n",
       "  <thead>\n",
       "    <tr style=\"text-align: right;\">\n",
       "      <th></th>\n",
       "      <th>receipts_item_id</th>\n",
       "      <th>purchase_time</th>\n",
       "      <th>category</th>\n",
       "      <th>sub_category</th>\n",
       "      <th>format</th>\n",
       "      <th>unit_price</th>\n",
       "      <th>discount</th>\n",
       "      <th>quantity</th>\n",
       "      <th>yearmonth</th>\n",
       "      <th>dayofweek</th>\n",
       "    </tr>\n",
       "    <tr>\n",
       "      <th>receipt_id</th>\n",
       "      <th></th>\n",
       "      <th></th>\n",
       "      <th></th>\n",
       "      <th></th>\n",
       "      <th></th>\n",
       "      <th></th>\n",
       "      <th></th>\n",
       "      <th></th>\n",
       "      <th></th>\n",
       "      <th></th>\n",
       "    </tr>\n",
       "  </thead>\n",
       "  <tbody>\n",
       "    <tr>\n",
       "      <th>9622257</th>\n",
       "      <td>32369294</td>\n",
       "      <td>2018-07-22 21:19:00</td>\n",
       "      <td>Rice</td>\n",
       "      <td>Rice</td>\n",
       "      <td>supermarket</td>\n",
       "      <td>128000.0</td>\n",
       "      <td>0</td>\n",
       "      <td>1</td>\n",
       "      <td>2018-07</td>\n",
       "      <td>Sunday</td>\n",
       "    </tr>\n",
       "    <tr>\n",
       "      <th>9446359</th>\n",
       "      <td>31885876</td>\n",
       "      <td>2018-07-15 16:17:00</td>\n",
       "      <td>Rice</td>\n",
       "      <td>Rice</td>\n",
       "      <td>minimarket</td>\n",
       "      <td>102750.0</td>\n",
       "      <td>0</td>\n",
       "      <td>1</td>\n",
       "      <td>2018-07</td>\n",
       "      <td>Sunday</td>\n",
       "    </tr>\n",
       "    <tr>\n",
       "      <th>9470290</th>\n",
       "      <td>31930241</td>\n",
       "      <td>2018-07-15 12:12:00</td>\n",
       "      <td>Rice</td>\n",
       "      <td>Rice</td>\n",
       "      <td>supermarket</td>\n",
       "      <td>64000.0</td>\n",
       "      <td>0</td>\n",
       "      <td>3</td>\n",
       "      <td>2018-07</td>\n",
       "      <td>Sunday</td>\n",
       "    </tr>\n",
       "    <tr>\n",
       "      <th>9643416</th>\n",
       "      <td>32418582</td>\n",
       "      <td>2018-07-24 08:27:00</td>\n",
       "      <td>Rice</td>\n",
       "      <td>Rice</td>\n",
       "      <td>minimarket</td>\n",
       "      <td>65000.0</td>\n",
       "      <td>0</td>\n",
       "      <td>1</td>\n",
       "      <td>2018-07</td>\n",
       "      <td>Tuesday</td>\n",
       "    </tr>\n",
       "    <tr>\n",
       "      <th>9692093</th>\n",
       "      <td>32561236</td>\n",
       "      <td>2018-07-26 11:28:00</td>\n",
       "      <td>Rice</td>\n",
       "      <td>Rice</td>\n",
       "      <td>supermarket</td>\n",
       "      <td>124500.0</td>\n",
       "      <td>0</td>\n",
       "      <td>1</td>\n",
       "      <td>2018-07</td>\n",
       "      <td>Thursday</td>\n",
       "    </tr>\n",
       "  </tbody>\n",
       "</table>\n",
       "</div>"
      ],
      "text/plain": [
       "            receipts_item_id       purchase_time category sub_category  \\\n",
       "receipt_id                                                               \n",
       "9622257             32369294 2018-07-22 21:19:00     Rice         Rice   \n",
       "9446359             31885876 2018-07-15 16:17:00     Rice         Rice   \n",
       "9470290             31930241 2018-07-15 12:12:00     Rice         Rice   \n",
       "9643416             32418582 2018-07-24 08:27:00     Rice         Rice   \n",
       "9692093             32561236 2018-07-26 11:28:00     Rice         Rice   \n",
       "\n",
       "                 format  unit_price  discount  quantity yearmonth dayofweek  \n",
       "receipt_id                                                                   \n",
       "9622257     supermarket    128000.0         0         1   2018-07    Sunday  \n",
       "9446359      minimarket    102750.0         0         1   2018-07    Sunday  \n",
       "9470290     supermarket     64000.0         0         3   2018-07    Sunday  \n",
       "9643416      minimarket     65000.0         0         1   2018-07   Tuesday  \n",
       "9692093     supermarket    124500.0         0         1   2018-07  Thursday  "
      ]
     },
     "execution_count": 32,
     "metadata": {},
     "output_type": "execute_result"
    }
   ],
   "source": [
    "household.iloc[0:5, :]"
   ]
  },
  {
   "cell_type": "markdown",
   "metadata": {},
   "source": [
    "Putting together what you've learned so far, use `.iloc` to subset the **last 2 rows of our dataframe**, and the **first 4 columns**. If you perform this exercise correctly, the output `x` should be a `pandas` dataframe (`type(x)` is a pandas `DataFrame` object)\n",
    "\n",
    "Bonus: If you want an extra challenge, try and perform this operation three times; \n",
    "- 1. Use only `.iloc[ , ]`\n",
    "- 2. Use `tail(2)` to get the last 2 rows then chain it with `.iloc`  \n",
    "- 3. Use `rice.shape[0]-2:` to get the last 2 rows in your `.iloc` operation"
   ]
  },
  {
   "cell_type": "code",
   "execution_count": 33,
   "metadata": {},
   "outputs": [],
   "source": [
    "## Your code below\n",
    "\n",
    "\n",
    "## -- Solution code"
   ]
  },
  {
   "cell_type": "markdown",
   "metadata": {},
   "source": [
    "`.loc`, in contrast to `.iloc` does not subset based on _integer_ but rather subset based on `label`. We can still use `integer` but our integers will be treated or interpreted as _labels_."
   ]
  },
  {
   "cell_type": "markdown",
   "metadata": {},
   "source": [
    "To subset for the row of transactions corresponding to receipt id 9643416 and 5735850, we can use label-based indexing (`.loc`) as such:"
   ]
  },
  {
   "cell_type": "code",
   "execution_count": 34,
   "metadata": {},
   "outputs": [
    {
     "data": {
      "text/html": [
       "<div>\n",
       "<style scoped>\n",
       "    .dataframe tbody tr th:only-of-type {\n",
       "        vertical-align: middle;\n",
       "    }\n",
       "\n",
       "    .dataframe tbody tr th {\n",
       "        vertical-align: top;\n",
       "    }\n",
       "\n",
       "    .dataframe thead th {\n",
       "        text-align: right;\n",
       "    }\n",
       "</style>\n",
       "<table border=\"1\" class=\"dataframe\">\n",
       "  <thead>\n",
       "    <tr style=\"text-align: right;\">\n",
       "      <th></th>\n",
       "      <th>receipts_item_id</th>\n",
       "      <th>purchase_time</th>\n",
       "      <th>category</th>\n",
       "      <th>sub_category</th>\n",
       "      <th>format</th>\n",
       "      <th>unit_price</th>\n",
       "      <th>discount</th>\n",
       "      <th>quantity</th>\n",
       "      <th>yearmonth</th>\n",
       "      <th>dayofweek</th>\n",
       "    </tr>\n",
       "    <tr>\n",
       "      <th>receipt_id</th>\n",
       "      <th></th>\n",
       "      <th></th>\n",
       "      <th></th>\n",
       "      <th></th>\n",
       "      <th></th>\n",
       "      <th></th>\n",
       "      <th></th>\n",
       "      <th></th>\n",
       "      <th></th>\n",
       "      <th></th>\n",
       "    </tr>\n",
       "  </thead>\n",
       "  <tbody>\n",
       "    <tr>\n",
       "      <th>9643416</th>\n",
       "      <td>32418582</td>\n",
       "      <td>2018-07-24 08:27:00</td>\n",
       "      <td>Rice</td>\n",
       "      <td>Rice</td>\n",
       "      <td>minimarket</td>\n",
       "      <td>65000.0</td>\n",
       "      <td>0</td>\n",
       "      <td>1</td>\n",
       "      <td>2018-07</td>\n",
       "      <td>Tuesday</td>\n",
       "    </tr>\n",
       "    <tr>\n",
       "      <th>5735850</th>\n",
       "      <td>17434503</td>\n",
       "      <td>2017-12-13 19:17:00</td>\n",
       "      <td>Rice</td>\n",
       "      <td>Rice</td>\n",
       "      <td>supermarket</td>\n",
       "      <td>59990.0</td>\n",
       "      <td>3000</td>\n",
       "      <td>1</td>\n",
       "      <td>2017-12</td>\n",
       "      <td>Wednesday</td>\n",
       "    </tr>\n",
       "  </tbody>\n",
       "</table>\n",
       "</div>"
      ],
      "text/plain": [
       "            receipts_item_id       purchase_time category sub_category  \\\n",
       "receipt_id                                                               \n",
       "9643416             32418582 2018-07-24 08:27:00     Rice         Rice   \n",
       "5735850             17434503 2017-12-13 19:17:00     Rice         Rice   \n",
       "\n",
       "                 format  unit_price  discount  quantity yearmonth  dayofweek  \n",
       "receipt_id                                                                    \n",
       "9643416      minimarket     65000.0         0         1   2018-07    Tuesday  \n",
       "5735850     supermarket     59990.0      3000         1   2017-12  Wednesday  "
      ]
     },
     "execution_count": 34,
     "metadata": {},
     "output_type": "execute_result"
    }
   ],
   "source": [
    "household.loc[[9643416, 5735850], :]"
   ]
  },
  {
   "cell_type": "markdown",
   "metadata": {},
   "source": [
    "**Knowledge Check**:"
   ]
  },
  {
   "cell_type": "markdown",
   "metadata": {},
   "source": [
    "In the following code, we read in `companies.csv`. Take a peek at the data using `head` or `tail`. Perform a *label*-based or *integer*-based indexing (whichever deemed more appropriate) to answer the following questions:\n",
    "\n",
    "1. Where is *Li and Partners* located?\n",
    "2. How much `Returns` did PT. Algoritma Data Indonesia make?\n",
    "3. What about the `Forecasted Growth` for Palembang Konsultansi?"
   ]
  },
  {
   "cell_type": "code",
   "execution_count": 35,
   "metadata": {
    "scrolled": false
   },
   "outputs": [
    {
     "data": {
      "text/html": [
       "<div>\n",
       "<style scoped>\n",
       "    .dataframe tbody tr th:only-of-type {\n",
       "        vertical-align: middle;\n",
       "    }\n",
       "\n",
       "    .dataframe tbody tr th {\n",
       "        vertical-align: top;\n",
       "    }\n",
       "\n",
       "    .dataframe thead th {\n",
       "        text-align: right;\n",
       "    }\n",
       "</style>\n",
       "<table border=\"1\" class=\"dataframe\">\n",
       "  <thead>\n",
       "    <tr style=\"text-align: right;\">\n",
       "      <th></th>\n",
       "      <th>ID</th>\n",
       "      <th>Consulting Sales</th>\n",
       "      <th>Software Sales</th>\n",
       "      <th>Forecasted Growth</th>\n",
       "      <th>Returns</th>\n",
       "      <th>Month</th>\n",
       "      <th>Day</th>\n",
       "      <th>Year</th>\n",
       "      <th>Location</th>\n",
       "      <th>Account</th>\n",
       "    </tr>\n",
       "    <tr>\n",
       "      <th>Customer Name</th>\n",
       "      <th></th>\n",
       "      <th></th>\n",
       "      <th></th>\n",
       "      <th></th>\n",
       "      <th></th>\n",
       "      <th></th>\n",
       "      <th></th>\n",
       "      <th></th>\n",
       "      <th></th>\n",
       "      <th></th>\n",
       "    </tr>\n",
       "  </thead>\n",
       "  <tbody>\n",
       "    <tr>\n",
       "      <th>New Media Group</th>\n",
       "      <td>30940</td>\n",
       "      <td>IDR7125000</td>\n",
       "      <td>IDR5500000</td>\n",
       "      <td>30.00%</td>\n",
       "      <td>IDR1,500,000</td>\n",
       "      <td>1</td>\n",
       "      <td>10</td>\n",
       "      <td>2017</td>\n",
       "      <td>Jakarta</td>\n",
       "      <td>Enterprise</td>\n",
       "    </tr>\n",
       "    <tr>\n",
       "      <th>Li and Partners</th>\n",
       "      <td>82391</td>\n",
       "      <td>IDR420000</td>\n",
       "      <td>IDR820000</td>\n",
       "      <td>10.00%</td>\n",
       "      <td>IDR400,000</td>\n",
       "      <td>6</td>\n",
       "      <td>15</td>\n",
       "      <td>2016</td>\n",
       "      <td>Jakarta</td>\n",
       "      <td>Startup</td>\n",
       "    </tr>\n",
       "    <tr>\n",
       "      <th>PT. Kreasi Metrik Solusi</th>\n",
       "      <td>18374</td>\n",
       "      <td>0</td>\n",
       "      <td>IDR550403</td>\n",
       "      <td>25.00%</td>\n",
       "      <td>0</td>\n",
       "      <td>3</td>\n",
       "      <td>29</td>\n",
       "      <td>2012</td>\n",
       "      <td>Surabaya</td>\n",
       "      <td>Enterprise</td>\n",
       "    </tr>\n",
       "    <tr>\n",
       "      <th>PT. Algoritma Data Indonesia</th>\n",
       "      <td>57531</td>\n",
       "      <td>IDR850000</td>\n",
       "      <td>IDR395500</td>\n",
       "      <td>4.00%</td>\n",
       "      <td>0</td>\n",
       "      <td>7</td>\n",
       "      <td>17</td>\n",
       "      <td>2017</td>\n",
       "      <td>Jakarta</td>\n",
       "      <td>Startup</td>\n",
       "    </tr>\n",
       "    <tr>\n",
       "      <th>Palembang Konsultansi</th>\n",
       "      <td>19002</td>\n",
       "      <td>IDR2115000</td>\n",
       "      <td>0</td>\n",
       "      <td>-15.00%</td>\n",
       "      <td>0</td>\n",
       "      <td>2</td>\n",
       "      <td>24</td>\n",
       "      <td>2018</td>\n",
       "      <td>Bandung</td>\n",
       "      <td>Startup</td>\n",
       "    </tr>\n",
       "  </tbody>\n",
       "</table>\n",
       "</div>"
      ],
      "text/plain": [
       "                                 ID Consulting Sales Software Sales  \\\n",
       "Customer Name                                                         \n",
       "New Media Group               30940       IDR7125000     IDR5500000   \n",
       "Li and Partners               82391        IDR420000      IDR820000   \n",
       "PT. Kreasi Metrik Solusi      18374                0      IDR550403   \n",
       "PT. Algoritma Data Indonesia  57531        IDR850000      IDR395500   \n",
       "Palembang Konsultansi         19002       IDR2115000              0   \n",
       "\n",
       "                             Forecasted Growth       Returns  Month  Day  \\\n",
       "Customer Name                                                              \n",
       "New Media Group                         30.00%  IDR1,500,000      1   10   \n",
       "Li and Partners                         10.00%    IDR400,000      6   15   \n",
       "PT. Kreasi Metrik Solusi                25.00%             0      3   29   \n",
       "PT. Algoritma Data Indonesia             4.00%             0      7   17   \n",
       "Palembang Konsultansi                  -15.00%             0      2   24   \n",
       "\n",
       "                              Year  Location     Account  \n",
       "Customer Name                                             \n",
       "New Media Group               2017   Jakarta  Enterprise  \n",
       "Li and Partners               2016   Jakarta     Startup  \n",
       "PT. Kreasi Metrik Solusi      2012  Surabaya  Enterprise  \n",
       "PT. Algoritma Data Indonesia  2017   Jakarta     Startup  \n",
       "Palembang Konsultansi         2018   Bandung     Startup  "
      ]
     },
     "execution_count": 35,
     "metadata": {},
     "output_type": "execute_result"
    }
   ],
   "source": [
    "clients = pd.read_csv(r\"D:\\INALUM\\3 TRAINING\\MACHINE LEARNING\\MATERIAL\\inalum\\data\\companies.csv\", index_col=1)\n",
    "clients.head()"
   ]
  },
  {
   "cell_type": "code",
   "execution_count": 36,
   "metadata": {},
   "outputs": [],
   "source": [
    "## Your code below\n"
   ]
  },
  {
   "cell_type": "markdown",
   "metadata": {},
   "source": [
    "Observe how in earlier exercises, you inspect the data and consciously decide whether `.loc` or `.iloc` is the more appropriate choice here. This is a helpful mental exercise to get into - in real life data analysis, very often you're faced with the dilemma of picking from a large box of tools, and knowing which method is the best fit is a critical ingredient for efficiency and fluency."
   ]
  },
  {
   "cell_type": "markdown",
   "metadata": {},
   "source": [
    "### Conditional Subsetting\n",
    "\n",
    "Along with `.iloc` and `.loc`, probably the most helpful type of subsetting would have to be conditional subsetting.\n",
    "\n",
    "With conditional subsetting, we select data based on criteria we specified:\n",
    "- `.format == 'supermarket'` to select all transactions where format is supermarket  \n",
    "- `.unit_price >= 400000` to select all transactions with unit price being equal to or greater than 400000. \n",
    "- `.quantity != 0` to select all transactions where quantity of purchase **is not** 0   \n",
    "\n",
    "We can also use the `&` and `|` operators to join conditions:\n",
    "\n",
    "`sales[(sales.salesperson == 'Moana') & (sales.amount > 5000)]` subset any rows where Moana has sold more than $5000 worth of items"
   ]
  },
  {
   "cell_type": "code",
   "execution_count": 37,
   "metadata": {},
   "outputs": [
    {
     "data": {
      "text/html": [
       "<div>\n",
       "<style scoped>\n",
       "    .dataframe tbody tr th:only-of-type {\n",
       "        vertical-align: middle;\n",
       "    }\n",
       "\n",
       "    .dataframe tbody tr th {\n",
       "        vertical-align: top;\n",
       "    }\n",
       "\n",
       "    .dataframe thead th {\n",
       "        text-align: right;\n",
       "    }\n",
       "</style>\n",
       "<table border=\"1\" class=\"dataframe\">\n",
       "  <thead>\n",
       "    <tr style=\"text-align: right;\">\n",
       "      <th></th>\n",
       "      <th>receipts_item_id</th>\n",
       "      <th>purchase_time</th>\n",
       "      <th>category</th>\n",
       "      <th>sub_category</th>\n",
       "      <th>format</th>\n",
       "      <th>unit_price</th>\n",
       "      <th>discount</th>\n",
       "      <th>quantity</th>\n",
       "      <th>yearmonth</th>\n",
       "      <th>dayofweek</th>\n",
       "    </tr>\n",
       "    <tr>\n",
       "      <th>receipt_id</th>\n",
       "      <th></th>\n",
       "      <th></th>\n",
       "      <th></th>\n",
       "      <th></th>\n",
       "      <th></th>\n",
       "      <th></th>\n",
       "      <th></th>\n",
       "      <th></th>\n",
       "      <th></th>\n",
       "      <th></th>\n",
       "    </tr>\n",
       "  </thead>\n",
       "  <tbody>\n",
       "    <tr>\n",
       "      <th>9767244</th>\n",
       "      <td>32763935</td>\n",
       "      <td>2018-07-29 08:25:00</td>\n",
       "      <td>Rice</td>\n",
       "      <td>Rice</td>\n",
       "      <td>supermarket</td>\n",
       "      <td>59900.0</td>\n",
       "      <td>4100</td>\n",
       "      <td>1</td>\n",
       "      <td>2018-07</td>\n",
       "      <td>Sunday</td>\n",
       "    </tr>\n",
       "    <tr>\n",
       "      <th>9483559</th>\n",
       "      <td>31978405</td>\n",
       "      <td>2018-07-16 16:24:00</td>\n",
       "      <td>Rice</td>\n",
       "      <td>Rice</td>\n",
       "      <td>supermarket</td>\n",
       "      <td>46900.0</td>\n",
       "      <td>4300</td>\n",
       "      <td>1</td>\n",
       "      <td>2018-07</td>\n",
       "      <td>Monday</td>\n",
       "    </tr>\n",
       "    <tr>\n",
       "      <th>9841041</th>\n",
       "      <td>33010608</td>\n",
       "      <td>2018-07-29 08:21:00</td>\n",
       "      <td>Rice</td>\n",
       "      <td>Rice</td>\n",
       "      <td>supermarket</td>\n",
       "      <td>117900.0</td>\n",
       "      <td>10100</td>\n",
       "      <td>1</td>\n",
       "      <td>2018-07</td>\n",
       "      <td>Sunday</td>\n",
       "    </tr>\n",
       "    <tr>\n",
       "      <th>9284943</th>\n",
       "      <td>31450853</td>\n",
       "      <td>2018-07-06 12:05:00</td>\n",
       "      <td>Rice</td>\n",
       "      <td>Rice</td>\n",
       "      <td>supermarket</td>\n",
       "      <td>59900.0</td>\n",
       "      <td>4100</td>\n",
       "      <td>1</td>\n",
       "      <td>2018-07</td>\n",
       "      <td>Friday</td>\n",
       "    </tr>\n",
       "    <tr>\n",
       "      <th>9853312</th>\n",
       "      <td>33070898</td>\n",
       "      <td>2018-07-30 13:54:00</td>\n",
       "      <td>Rice</td>\n",
       "      <td>Rice</td>\n",
       "      <td>supermarket</td>\n",
       "      <td>119890.0</td>\n",
       "      <td>8110</td>\n",
       "      <td>1</td>\n",
       "      <td>2018-07</td>\n",
       "      <td>Monday</td>\n",
       "    </tr>\n",
       "  </tbody>\n",
       "</table>\n",
       "</div>"
      ],
      "text/plain": [
       "            receipts_item_id       purchase_time category sub_category  \\\n",
       "receipt_id                                                               \n",
       "9767244             32763935 2018-07-29 08:25:00     Rice         Rice   \n",
       "9483559             31978405 2018-07-16 16:24:00     Rice         Rice   \n",
       "9841041             33010608 2018-07-29 08:21:00     Rice         Rice   \n",
       "9284943             31450853 2018-07-06 12:05:00     Rice         Rice   \n",
       "9853312             33070898 2018-07-30 13:54:00     Rice         Rice   \n",
       "\n",
       "                 format  unit_price  discount  quantity yearmonth dayofweek  \n",
       "receipt_id                                                                   \n",
       "9767244     supermarket     59900.0      4100         1   2018-07    Sunday  \n",
       "9483559     supermarket     46900.0      4300         1   2018-07    Monday  \n",
       "9841041     supermarket    117900.0     10100         1   2018-07    Sunday  \n",
       "9284943     supermarket     59900.0      4100         1   2018-07    Friday  \n",
       "9853312     supermarket    119890.0      8110         1   2018-07    Monday  "
      ]
     },
     "execution_count": 37,
     "metadata": {},
     "output_type": "execute_result"
    }
   ],
   "source": [
    "household[(household.discount != 0) & (household.format == 'supermarket')].head()"
   ]
  },
  {
   "cell_type": "markdown",
   "metadata": {},
   "source": [
    "**Knowledge Check:**\n",
    "\n",
    "In the cell below, write code using conditional subsetting and answer the following questions:\n",
    "\n",
    "1. Say as a company, we define \"bulk purchase transaction\" to be any transaction containing at least 8 units of the same item (`quantity` column). In our dataset, how many \"bulk purchases\" do we have? \n",
    "2. How many transactions in our dataset took place in a `minimarket`?\n",
    "3. How many transactions in our dataset took place in a `hypermarket` and has at least 10 units (`quantity` column)?\n",
    "\n",
    "*Tip*: You may find the `.shape` attribute convenient in extracting the number of rows / columns from a dataframe"
   ]
  },
  {
   "cell_type": "code",
   "execution_count": 38,
   "metadata": {},
   "outputs": [],
   "source": [
    "## Your code below\n"
   ]
  },
  {
   "cell_type": "markdown",
   "metadata": {},
   "source": [
    "## Tables\n",
    "\n",
    "### Frequency Table\n",
    "\n",
    "One of the simplest EDA toolkit is the frequency table (contingency tables) and cross-tabulation tables. It is highly familiar, convenient, and practical for a wide array of statistical tasks. The simplest form of a table is to display counts of a `categorical` column. Let's take a look at our original `household` data and look for its dimension size with `.shape`:"
   ]
  },
  {
   "cell_type": "code",
   "execution_count": 39,
   "metadata": {},
   "outputs": [
    {
     "data": {
      "text/plain": [
       "(72000, 10)"
      ]
     },
     "execution_count": 39,
     "metadata": {},
     "output_type": "execute_result"
    }
   ],
   "source": [
    "household.shape"
   ]
  },
  {
   "cell_type": "markdown",
   "metadata": {},
   "source": [
    "In `pandas`, each column of a `DataFrame` is a `Series`. To get the counts of each unique levels in a categorical column, we can use `.value_counts()`. The resulting object is a `Series` and in descending order so that the most frequent element is on top. "
   ]
  },
  {
   "cell_type": "code",
   "execution_count": 40,
   "metadata": {
    "scrolled": false
   },
   "outputs": [
    {
     "data": {
      "text/plain": [
       "Detergent    36000\n",
       "Sugar        24000\n",
       "Rice         12000\n",
       "Name: sub_category, dtype: int64"
      ]
     },
     "execution_count": 40,
     "metadata": {},
     "output_type": "execute_result"
    }
   ],
   "source": [
    "household.sub_category.value_counts()"
   ]
  },
  {
   "cell_type": "markdown",
   "metadata": {},
   "source": [
    "`crosstab` is a very versatile solution to producing frequency tables on a `DataFrame` object. Its utility really goes further than that but we'll start with a simple use-case.\n",
    "\n",
    "Consider the following code: we use `pd.crosstab()` passing in the values to group by in the rows (`index`) and columns (`columns`) respectively. "
   ]
  },
  {
   "cell_type": "code",
   "execution_count": 41,
   "metadata": {},
   "outputs": [
    {
     "data": {
      "text/html": [
       "<div>\n",
       "<style scoped>\n",
       "    .dataframe tbody tr th:only-of-type {\n",
       "        vertical-align: middle;\n",
       "    }\n",
       "\n",
       "    .dataframe tbody tr th {\n",
       "        vertical-align: top;\n",
       "    }\n",
       "\n",
       "    .dataframe thead th {\n",
       "        text-align: right;\n",
       "    }\n",
       "</style>\n",
       "<table border=\"1\" class=\"dataframe\">\n",
       "  <thead>\n",
       "    <tr style=\"text-align: right;\">\n",
       "      <th>col_0</th>\n",
       "      <th>count</th>\n",
       "    </tr>\n",
       "    <tr>\n",
       "      <th>sub_category</th>\n",
       "      <th></th>\n",
       "    </tr>\n",
       "  </thead>\n",
       "  <tbody>\n",
       "    <tr>\n",
       "      <th>Detergent</th>\n",
       "      <td>36000</td>\n",
       "    </tr>\n",
       "    <tr>\n",
       "      <th>Rice</th>\n",
       "      <td>12000</td>\n",
       "    </tr>\n",
       "    <tr>\n",
       "      <th>Sugar</th>\n",
       "      <td>24000</td>\n",
       "    </tr>\n",
       "  </tbody>\n",
       "</table>\n",
       "</div>"
      ],
      "text/plain": [
       "col_0         count\n",
       "sub_category       \n",
       "Detergent     36000\n",
       "Rice          12000\n",
       "Sugar         24000"
      ]
     },
     "execution_count": 41,
     "metadata": {},
     "output_type": "execute_result"
    }
   ],
   "source": [
    "pd.crosstab(index=household['sub_category'], columns=\"count\")"
   ]
  },
  {
   "cell_type": "markdown",
   "metadata": {},
   "source": [
    "We can also use the same `crosstab` method to compute a cross-tabulation of two factors. In the following cell, the `index` references the sub-category column while the `columns` references the format column:"
   ]
  },
  {
   "cell_type": "code",
   "execution_count": 42,
   "metadata": {
    "scrolled": true
   },
   "outputs": [
    {
     "data": {
      "text/html": [
       "<div>\n",
       "<style scoped>\n",
       "    .dataframe tbody tr th:only-of-type {\n",
       "        vertical-align: middle;\n",
       "    }\n",
       "\n",
       "    .dataframe tbody tr th {\n",
       "        vertical-align: top;\n",
       "    }\n",
       "\n",
       "    .dataframe thead th {\n",
       "        text-align: right;\n",
       "    }\n",
       "</style>\n",
       "<table border=\"1\" class=\"dataframe\">\n",
       "  <thead>\n",
       "    <tr style=\"text-align: right;\">\n",
       "      <th>format</th>\n",
       "      <th>hypermarket</th>\n",
       "      <th>minimarket</th>\n",
       "      <th>supermarket</th>\n",
       "    </tr>\n",
       "    <tr>\n",
       "      <th>sub_category</th>\n",
       "      <th></th>\n",
       "      <th></th>\n",
       "      <th></th>\n",
       "    </tr>\n",
       "  </thead>\n",
       "  <tbody>\n",
       "    <tr>\n",
       "      <th>Detergent</th>\n",
       "      <td>2611</td>\n",
       "      <td>24345</td>\n",
       "      <td>9044</td>\n",
       "    </tr>\n",
       "    <tr>\n",
       "      <th>Rice</th>\n",
       "      <td>999</td>\n",
       "      <td>7088</td>\n",
       "      <td>3913</td>\n",
       "    </tr>\n",
       "    <tr>\n",
       "      <th>Sugar</th>\n",
       "      <td>1761</td>\n",
       "      <td>15370</td>\n",
       "      <td>6869</td>\n",
       "    </tr>\n",
       "  </tbody>\n",
       "</table>\n",
       "</div>"
      ],
      "text/plain": [
       "format        hypermarket  minimarket  supermarket\n",
       "sub_category                                      \n",
       "Detergent            2611       24345         9044\n",
       "Rice                  999        7088         3913\n",
       "Sugar                1761       15370         6869"
      ]
     },
     "execution_count": 42,
     "metadata": {},
     "output_type": "execute_result"
    }
   ],
   "source": [
    "pd.crosstab(index=household['sub_category'],\n",
    "            columns=household['format'])"
   ]
  },
  {
   "cell_type": "markdown",
   "metadata": {},
   "source": [
    "This is intuitive in a way: We use `crosstab()` which, we recall, computes the count and we pass in `index` and `columns` which correspond to the row and column respectively.\n",
    "\n",
    "When we add `margins=True` to our method call, then an extra row and column of margins (subtotals) will be included in the output:"
   ]
  },
  {
   "cell_type": "code",
   "execution_count": 43,
   "metadata": {},
   "outputs": [
    {
     "data": {
      "text/html": [
       "<div>\n",
       "<style scoped>\n",
       "    .dataframe tbody tr th:only-of-type {\n",
       "        vertical-align: middle;\n",
       "    }\n",
       "\n",
       "    .dataframe tbody tr th {\n",
       "        vertical-align: top;\n",
       "    }\n",
       "\n",
       "    .dataframe thead th {\n",
       "        text-align: right;\n",
       "    }\n",
       "</style>\n",
       "<table border=\"1\" class=\"dataframe\">\n",
       "  <thead>\n",
       "    <tr style=\"text-align: right;\">\n",
       "      <th>format</th>\n",
       "      <th>hypermarket</th>\n",
       "      <th>minimarket</th>\n",
       "      <th>supermarket</th>\n",
       "      <th>All</th>\n",
       "    </tr>\n",
       "    <tr>\n",
       "      <th>sub_category</th>\n",
       "      <th></th>\n",
       "      <th></th>\n",
       "      <th></th>\n",
       "      <th></th>\n",
       "    </tr>\n",
       "  </thead>\n",
       "  <tbody>\n",
       "    <tr>\n",
       "      <th>Detergent</th>\n",
       "      <td>2611</td>\n",
       "      <td>24345</td>\n",
       "      <td>9044</td>\n",
       "      <td>36000</td>\n",
       "    </tr>\n",
       "    <tr>\n",
       "      <th>Rice</th>\n",
       "      <td>999</td>\n",
       "      <td>7088</td>\n",
       "      <td>3913</td>\n",
       "      <td>12000</td>\n",
       "    </tr>\n",
       "    <tr>\n",
       "      <th>Sugar</th>\n",
       "      <td>1761</td>\n",
       "      <td>15370</td>\n",
       "      <td>6869</td>\n",
       "      <td>24000</td>\n",
       "    </tr>\n",
       "    <tr>\n",
       "      <th>All</th>\n",
       "      <td>5371</td>\n",
       "      <td>46803</td>\n",
       "      <td>19826</td>\n",
       "      <td>72000</td>\n",
       "    </tr>\n",
       "  </tbody>\n",
       "</table>\n",
       "</div>"
      ],
      "text/plain": [
       "format        hypermarket  minimarket  supermarket    All\n",
       "sub_category                                             \n",
       "Detergent            2611       24345         9044  36000\n",
       "Rice                  999        7088         3913  12000\n",
       "Sugar                1761       15370         6869  24000\n",
       "All                  5371       46803        19826  72000"
      ]
     },
     "execution_count": 43,
     "metadata": {},
     "output_type": "execute_result"
    }
   ],
   "source": [
    "pd.crosstab(index=household['sub_category'], \n",
    "            columns=household['format'], \n",
    "            margins=True)"
   ]
  },
  {
   "cell_type": "markdown",
   "metadata": {},
   "source": [
    "In the following cell, use `pd.crosstab()` with `yearmonth` as the row and `format` as the column. Set `margins=True` to get a total across the row and columns. "
   ]
  },
  {
   "cell_type": "code",
   "execution_count": 44,
   "metadata": {},
   "outputs": [],
   "source": [
    "## Your code below\n",
    "\n",
    "\n",
    "## -- Solution code"
   ]
  },
  {
   "cell_type": "markdown",
   "metadata": {},
   "source": [
    "If you want an extra challenge, try and modify your code above to include a `normalize` parameter. \n",
    "\n",
    "`normalize` accepts a boolean value, or one of `all`, `index` or `columns`. Since we want it to normalize across each row, we will set this parameter to the value of `index`."
   ]
  },
  {
   "cell_type": "markdown",
   "metadata": {},
   "source": [
    "**Knowledge Check**:\n",
    "\n",
    "Combine what you've learned about extracting `datetime` information and creating a frequency table to answer the questions below:\n",
    "\n",
    "1. In which day does the Rice transaction in supermarket manage to be the highest?\n",
    " "
   ]
  },
  {
   "cell_type": "code",
   "execution_count": 45,
   "metadata": {},
   "outputs": [],
   "source": [
    "## Your code here\n",
    "\n"
   ]
  },
  {
   "cell_type": "markdown",
   "metadata": {},
   "source": [
    "### Aggregation Table\n",
    "\n",
    "\n",
    "In the following section, we will introduce another parameter to perform aggregation on our table. The `aggfunc` parameter when present, required the `values` parameter to be specified as well. `values` is the values to aggregate according to the factors in our index and columns:"
   ]
  },
  {
   "cell_type": "code",
   "execution_count": 46,
   "metadata": {},
   "outputs": [
    {
     "data": {
      "text/html": [
       "<div>\n",
       "<style scoped>\n",
       "    .dataframe tbody tr th:only-of-type {\n",
       "        vertical-align: middle;\n",
       "    }\n",
       "\n",
       "    .dataframe tbody tr th {\n",
       "        vertical-align: top;\n",
       "    }\n",
       "\n",
       "    .dataframe thead th {\n",
       "        text-align: right;\n",
       "    }\n",
       "</style>\n",
       "<table border=\"1\" class=\"dataframe\">\n",
       "  <thead>\n",
       "    <tr style=\"text-align: right;\">\n",
       "      <th>col_0</th>\n",
       "      <th>mean</th>\n",
       "    </tr>\n",
       "    <tr>\n",
       "      <th>sub_category</th>\n",
       "      <th></th>\n",
       "    </tr>\n",
       "  </thead>\n",
       "  <tbody>\n",
       "    <tr>\n",
       "      <th>Detergent</th>\n",
       "      <td>17893.793214</td>\n",
       "    </tr>\n",
       "    <tr>\n",
       "      <th>Rice</th>\n",
       "      <td>70013.146313</td>\n",
       "    </tr>\n",
       "    <tr>\n",
       "      <th>Sugar</th>\n",
       "      <td>12645.066024</td>\n",
       "    </tr>\n",
       "  </tbody>\n",
       "</table>\n",
       "</div>"
      ],
      "text/plain": [
       "col_0                 mean\n",
       "sub_category              \n",
       "Detergent     17893.793214\n",
       "Rice          70013.146313\n",
       "Sugar         12645.066024"
      ]
     },
     "execution_count": 46,
     "metadata": {},
     "output_type": "execute_result"
    }
   ],
   "source": [
    "pd.crosstab(index=household['sub_category'], \n",
    "            columns='mean', \n",
    "            values=household['unit_price'],\n",
    "            aggfunc='mean')"
   ]
  },
  {
   "cell_type": "markdown",
   "metadata": {},
   "source": [
    "**Knowledge Check:**\n",
    "\n",
    "Create a cross-tab using `sub_category` as the index (row) and `format` as the column. Fill the values with the median of `unit_price` across each row and column. Add a subtotal to both the row and column by setting `margins=True`.\n",
    "\n",
    "1. On average, Sugar is cheapest at...?\n",
    "2. On average, Detergent is most expensive at...?\n",
    "\n",
    "Create a new cell for your code and answer the questions above."
   ]
  },
  {
   "cell_type": "code",
   "execution_count": 47,
   "metadata": {},
   "outputs": [],
   "source": [
    "## Your code here\n",
    "\n"
   ]
  },
  {
   "cell_type": "markdown",
   "metadata": {},
   "source": [
    "Reference answer:\n",
    "\n",
    "```\n",
    "pd.crosstab(index=household['sub_category'], \n",
    "            columns=household['format'], \n",
    "            values=household['unit_price'],\n",
    "            aggfunc='median', margins=True)\n",
    "```"
   ]
  },
  {
   "cell_type": "markdown",
   "metadata": {},
   "source": [
    "#### Pivot Tables\n",
    "\n",
    "If our data is already in a `DataFrame` format, using `pd.pivot_table` can sometimes be more convenient compared to a `pd.crosstab`. \n",
    "\n",
    "Fortunately, much of the parameters in a `pivot_table()` function is the same as `pd.crosstab()`. The noticable difference is the use of an additional `data` parameter, which allow us to specify the `DataFrame` that is used to construct the pivot table.\n",
    "\n",
    "We create a `pivot_table` by passing in the following:\n",
    "- `data`: our `DataFrame`\n",
    "- `index`: the column to be used as rows\n",
    "- `columns`: the column to be used as columns\n",
    "- `values`: the values used to fill in the table\n",
    "- `aggfunc`: the aggregation function"
   ]
  },
  {
   "cell_type": "code",
   "execution_count": 48,
   "metadata": {
    "scrolled": false
   },
   "outputs": [
    {
     "data": {
      "text/html": [
       "<div>\n",
       "<style scoped>\n",
       "    .dataframe tbody tr th:only-of-type {\n",
       "        vertical-align: middle;\n",
       "    }\n",
       "\n",
       "    .dataframe tbody tr th {\n",
       "        vertical-align: top;\n",
       "    }\n",
       "\n",
       "    .dataframe thead tr th {\n",
       "        text-align: left;\n",
       "    }\n",
       "\n",
       "    .dataframe thead tr:last-of-type th {\n",
       "        text-align: right;\n",
       "    }\n",
       "</style>\n",
       "<table border=\"1\" class=\"dataframe\">\n",
       "  <thead>\n",
       "    <tr>\n",
       "      <th>format</th>\n",
       "      <th colspan=\"3\" halign=\"left\">hypermarket</th>\n",
       "      <th colspan=\"3\" halign=\"left\">minimarket</th>\n",
       "      <th colspan=\"3\" halign=\"left\">supermarket</th>\n",
       "    </tr>\n",
       "    <tr>\n",
       "      <th>sub_category</th>\n",
       "      <th>Detergent</th>\n",
       "      <th>Rice</th>\n",
       "      <th>Sugar</th>\n",
       "      <th>Detergent</th>\n",
       "      <th>Rice</th>\n",
       "      <th>Sugar</th>\n",
       "      <th>Detergent</th>\n",
       "      <th>Rice</th>\n",
       "      <th>Sugar</th>\n",
       "    </tr>\n",
       "    <tr>\n",
       "      <th>yearmonth</th>\n",
       "      <th></th>\n",
       "      <th></th>\n",
       "      <th></th>\n",
       "      <th></th>\n",
       "      <th></th>\n",
       "      <th></th>\n",
       "      <th></th>\n",
       "      <th></th>\n",
       "      <th></th>\n",
       "    </tr>\n",
       "  </thead>\n",
       "  <tbody>\n",
       "    <tr>\n",
       "      <th>2017-10</th>\n",
       "      <td>20149.530516</td>\n",
       "      <td>76395.185185</td>\n",
       "      <td>13210.546053</td>\n",
       "      <td>17511.394724</td>\n",
       "      <td>67322.620000</td>\n",
       "      <td>12482.414275</td>\n",
       "      <td>18243.107969</td>\n",
       "      <td>78925.971787</td>\n",
       "      <td>13578.100179</td>\n",
       "    </tr>\n",
       "    <tr>\n",
       "      <th>2017-11</th>\n",
       "      <td>18805.582569</td>\n",
       "      <td>78201.197368</td>\n",
       "      <td>13872.013514</td>\n",
       "      <td>17902.923151</td>\n",
       "      <td>66738.688468</td>\n",
       "      <td>12388.813788</td>\n",
       "      <td>17418.892006</td>\n",
       "      <td>76346.626822</td>\n",
       "      <td>12721.691525</td>\n",
       "    </tr>\n",
       "    <tr>\n",
       "      <th>2017-12</th>\n",
       "      <td>19658.417476</td>\n",
       "      <td>73600.147059</td>\n",
       "      <td>13775.124183</td>\n",
       "      <td>17401.018948</td>\n",
       "      <td>63733.236707</td>\n",
       "      <td>12260.202410</td>\n",
       "      <td>17991.276720</td>\n",
       "      <td>76852.882521</td>\n",
       "      <td>13190.893688</td>\n",
       "    </tr>\n",
       "    <tr>\n",
       "      <th>2018-01</th>\n",
       "      <td>19550.050524</td>\n",
       "      <td>76100.147059</td>\n",
       "      <td>14415.250000</td>\n",
       "      <td>17801.557784</td>\n",
       "      <td>65624.693467</td>\n",
       "      <td>12240.366824</td>\n",
       "      <td>17649.564911</td>\n",
       "      <td>79292.851740</td>\n",
       "      <td>13107.489931</td>\n",
       "    </tr>\n",
       "    <tr>\n",
       "      <th>2018-02</th>\n",
       "      <td>20176.451274</td>\n",
       "      <td>69370.094017</td>\n",
       "      <td>13729.831522</td>\n",
       "      <td>18052.178482</td>\n",
       "      <td>67371.663024</td>\n",
       "      <td>12340.336371</td>\n",
       "      <td>17668.901752</td>\n",
       "      <td>76501.132485</td>\n",
       "      <td>12502.221856</td>\n",
       "    </tr>\n",
       "    <tr>\n",
       "      <th>2018-03</th>\n",
       "      <td>19117.060241</td>\n",
       "      <td>75511.855670</td>\n",
       "      <td>14350.628571</td>\n",
       "      <td>17419.167818</td>\n",
       "      <td>67058.586762</td>\n",
       "      <td>12234.421986</td>\n",
       "      <td>16993.891102</td>\n",
       "      <td>74555.339157</td>\n",
       "      <td>12874.931133</td>\n",
       "    </tr>\n",
       "    <tr>\n",
       "      <th>2018-04</th>\n",
       "      <td>18832.556818</td>\n",
       "      <td>74520.443038</td>\n",
       "      <td>13270.313471</td>\n",
       "      <td>17556.856558</td>\n",
       "      <td>67835.342561</td>\n",
       "      <td>12483.101410</td>\n",
       "      <td>17435.094994</td>\n",
       "      <td>76031.126822</td>\n",
       "      <td>12919.623820</td>\n",
       "    </tr>\n",
       "    <tr>\n",
       "      <th>2018-05</th>\n",
       "      <td>19645.718220</td>\n",
       "      <td>73114.658537</td>\n",
       "      <td>13145.065089</td>\n",
       "      <td>17665.899833</td>\n",
       "      <td>69961.500855</td>\n",
       "      <td>12369.656413</td>\n",
       "      <td>17890.565625</td>\n",
       "      <td>76564.279279</td>\n",
       "      <td>13318.343960</td>\n",
       "    </tr>\n",
       "    <tr>\n",
       "      <th>2018-06</th>\n",
       "      <td>18846.495652</td>\n",
       "      <td>72419.320988</td>\n",
       "      <td>12657.222222</td>\n",
       "      <td>18234.487475</td>\n",
       "      <td>67211.864952</td>\n",
       "      <td>12335.179314</td>\n",
       "      <td>17812.524548</td>\n",
       "      <td>75529.757576</td>\n",
       "      <td>13475.821839</td>\n",
       "    </tr>\n",
       "    <tr>\n",
       "      <th>2018-07</th>\n",
       "      <td>18544.443787</td>\n",
       "      <td>71284.415385</td>\n",
       "      <td>12836.000000</td>\n",
       "      <td>17011.014343</td>\n",
       "      <td>69129.118211</td>\n",
       "      <td>12375.990203</td>\n",
       "      <td>18340.569815</td>\n",
       "      <td>75472.320388</td>\n",
       "      <td>12902.280000</td>\n",
       "    </tr>\n",
       "    <tr>\n",
       "      <th>2018-08</th>\n",
       "      <td>19096.505929</td>\n",
       "      <td>60800.317073</td>\n",
       "      <td>13698.141667</td>\n",
       "      <td>18393.584198</td>\n",
       "      <td>66862.659574</td>\n",
       "      <td>12417.449190</td>\n",
       "      <td>18397.706607</td>\n",
       "      <td>66208.846906</td>\n",
       "      <td>13145.097701</td>\n",
       "    </tr>\n",
       "    <tr>\n",
       "      <th>2018-09</th>\n",
       "      <td>19359.635455</td>\n",
       "      <td>58395.980583</td>\n",
       "      <td>13125.127119</td>\n",
       "      <td>18225.879031</td>\n",
       "      <td>66685.018425</td>\n",
       "      <td>12277.722222</td>\n",
       "      <td>18605.578981</td>\n",
       "      <td>65217.163333</td>\n",
       "      <td>13241.682555</td>\n",
       "    </tr>\n",
       "  </tbody>\n",
       "</table>\n",
       "</div>"
      ],
      "text/plain": [
       "format         hypermarket                                minimarket  \\\n",
       "sub_category     Detergent          Rice         Sugar     Detergent   \n",
       "yearmonth                                                              \n",
       "2017-10       20149.530516  76395.185185  13210.546053  17511.394724   \n",
       "2017-11       18805.582569  78201.197368  13872.013514  17902.923151   \n",
       "2017-12       19658.417476  73600.147059  13775.124183  17401.018948   \n",
       "2018-01       19550.050524  76100.147059  14415.250000  17801.557784   \n",
       "2018-02       20176.451274  69370.094017  13729.831522  18052.178482   \n",
       "2018-03       19117.060241  75511.855670  14350.628571  17419.167818   \n",
       "2018-04       18832.556818  74520.443038  13270.313471  17556.856558   \n",
       "2018-05       19645.718220  73114.658537  13145.065089  17665.899833   \n",
       "2018-06       18846.495652  72419.320988  12657.222222  18234.487475   \n",
       "2018-07       18544.443787  71284.415385  12836.000000  17011.014343   \n",
       "2018-08       19096.505929  60800.317073  13698.141667  18393.584198   \n",
       "2018-09       19359.635455  58395.980583  13125.127119  18225.879031   \n",
       "\n",
       "format                                     supermarket                \\\n",
       "sub_category          Rice         Sugar     Detergent          Rice   \n",
       "yearmonth                                                              \n",
       "2017-10       67322.620000  12482.414275  18243.107969  78925.971787   \n",
       "2017-11       66738.688468  12388.813788  17418.892006  76346.626822   \n",
       "2017-12       63733.236707  12260.202410  17991.276720  76852.882521   \n",
       "2018-01       65624.693467  12240.366824  17649.564911  79292.851740   \n",
       "2018-02       67371.663024  12340.336371  17668.901752  76501.132485   \n",
       "2018-03       67058.586762  12234.421986  16993.891102  74555.339157   \n",
       "2018-04       67835.342561  12483.101410  17435.094994  76031.126822   \n",
       "2018-05       69961.500855  12369.656413  17890.565625  76564.279279   \n",
       "2018-06       67211.864952  12335.179314  17812.524548  75529.757576   \n",
       "2018-07       69129.118211  12375.990203  18340.569815  75472.320388   \n",
       "2018-08       66862.659574  12417.449190  18397.706607  66208.846906   \n",
       "2018-09       66685.018425  12277.722222  18605.578981  65217.163333   \n",
       "\n",
       "format                      \n",
       "sub_category         Sugar  \n",
       "yearmonth                   \n",
       "2017-10       13578.100179  \n",
       "2017-11       12721.691525  \n",
       "2017-12       13190.893688  \n",
       "2018-01       13107.489931  \n",
       "2018-02       12502.221856  \n",
       "2018-03       12874.931133  \n",
       "2018-04       12919.623820  \n",
       "2018-05       13318.343960  \n",
       "2018-06       13475.821839  \n",
       "2018-07       12902.280000  \n",
       "2018-08       13145.097701  \n",
       "2018-09       13241.682555  "
      ]
     },
     "execution_count": 48,
     "metadata": {},
     "output_type": "execute_result"
    }
   ],
   "source": [
    "pd.pivot_table(\n",
    "    data=household,\n",
    "    index='yearmonth',\n",
    "    columns=['format','sub_category'],\n",
    "    values='unit_price'\n",
    ")"
   ]
  },
  {
   "cell_type": "markdown",
   "metadata": {},
   "source": [
    "A key difference between `crosstab` and `pivot_table` is that `crosstab` uses `len` (or `count`) as the default aggregation function while `pivot_table` using the mean. Copy the code from the cell above and make a change: use `sum` as the aggregation function instead: "
   ]
  },
  {
   "cell_type": "code",
   "execution_count": 49,
   "metadata": {},
   "outputs": [],
   "source": [
    "## Your code below\n"
   ]
  },
  {
   "cell_type": "markdown",
   "metadata": {},
   "source": [
    "## Data Wrangling & Visualization\n",
    "\n",
    "Another equally important technique is the group by operation. Analysts having some experience with SQL or other data analysis toolsets (R's tidyverse for example) will find the group by operation a familiar strategy in many analysis-heavy workflow.\n",
    "\n",
    "Suppose we would like to compare the monthly fluctuation of average `unit_price`."
   ]
  },
  {
   "cell_type": "code",
   "execution_count": 50,
   "metadata": {
    "scrolled": false
   },
   "outputs": [
    {
     "data": {
      "text/html": [
       "<div>\n",
       "<style scoped>\n",
       "    .dataframe tbody tr th:only-of-type {\n",
       "        vertical-align: middle;\n",
       "    }\n",
       "\n",
       "    .dataframe tbody tr th {\n",
       "        vertical-align: top;\n",
       "    }\n",
       "\n",
       "    .dataframe thead th {\n",
       "        text-align: right;\n",
       "    }\n",
       "</style>\n",
       "<table border=\"1\" class=\"dataframe\">\n",
       "  <thead>\n",
       "    <tr style=\"text-align: right;\">\n",
       "      <th></th>\n",
       "      <th>unit_price</th>\n",
       "    </tr>\n",
       "    <tr>\n",
       "      <th>yearmonth</th>\n",
       "      <th></th>\n",
       "    </tr>\n",
       "  </thead>\n",
       "  <tbody>\n",
       "    <tr>\n",
       "      <th>2017-10</th>\n",
       "      <td>25185.390000</td>\n",
       "    </tr>\n",
       "    <tr>\n",
       "      <th>2017-11</th>\n",
       "      <td>24943.222667</td>\n",
       "    </tr>\n",
       "    <tr>\n",
       "      <th>2017-12</th>\n",
       "      <td>24561.105667</td>\n",
       "    </tr>\n",
       "    <tr>\n",
       "      <th>2018-01</th>\n",
       "      <td>24988.569420</td>\n",
       "    </tr>\n",
       "    <tr>\n",
       "      <th>2018-02</th>\n",
       "      <td>24998.382255</td>\n",
       "    </tr>\n",
       "  </tbody>\n",
       "</table>\n",
       "</div>"
      ],
      "text/plain": [
       "             unit_price\n",
       "yearmonth              \n",
       "2017-10    25185.390000\n",
       "2017-11    24943.222667\n",
       "2017-12    24561.105667\n",
       "2018-01    24988.569420\n",
       "2018-02    24998.382255"
      ]
     },
     "execution_count": 50,
     "metadata": {},
     "output_type": "execute_result"
    }
   ],
   "source": [
    "monthly_price = household[['unit_price', 'yearmonth']].groupby(['yearmonth']).mean()\n",
    "monthly_price.head()"
   ]
  },
  {
   "cell_type": "markdown",
   "metadata": {},
   "source": [
    "Surely this is the point where a data analyst whip up some flashy charts using the popular `matplotlib` library?\n",
    "\n",
    "Well - yes. Even better, we're going to use the `DataFrame.plot()` method, built-into pandas which in turn calls matplotlib plotting functions under-the-hood. Notice that we added `matplotlib.pyplot` as an `import`, even though our code will not explicitly call `matplotlib` but rely on pandas implementation.\n",
    "\n",
    "The best way to demonstrate the efficiency gains of `DataFrame.plot()` is to see it in action. We will call `.plot()` directly on our `DataFrame` - `pandas` take care of the matplotlib code that, [by matplotlib's own admission](https://matplotlib.org/tutorials/introductory/usage.html#sphx-glr-tutorials-introductory-usage-py), can be daunting to many new users."
   ]
  },
  {
   "cell_type": "code",
   "execution_count": 51,
   "metadata": {
    "scrolled": false
   },
   "outputs": [
    {
     "data": {
      "text/plain": [
       "<matplotlib.axes._subplots.AxesSubplot at 0x1ec8c7d0fc8>"
      ]
     },
     "execution_count": 51,
     "metadata": {},
     "output_type": "execute_result"
    },
    {
     "data": {
      "image/png": "[encoded data removed]",
      "text/plain": [
       "<Figure size 432x288 with 1 Axes>"
      ]
     },
     "metadata": {
      "needs_background": "light"
     },
     "output_type": "display_data"
    }
   ],
   "source": [
    "import matplotlib as plt\n",
    "\n",
    "monthly_price.plot()"
   ]
  },
  {
   "cell_type": "markdown",
   "metadata": {},
   "source": [
    "Let's try and experiment with one more parameter from the **Parameters** list:\n",
    "\n",
    "- **kind** : _str_\n",
    "    - 'box': boxplot\n",
    "    \n",
    "Create a boxplot in the following cell:"
   ]
  },
  {
   "cell_type": "code",
   "execution_count": 52,
   "metadata": {},
   "outputs": [
    {
     "data": {
      "text/plain": [
       "<matplotlib.axes._subplots.AxesSubplot at 0x1ec8fecfac8>"
      ]
     },
     "execution_count": 52,
     "metadata": {},
     "output_type": "execute_result"
    },
    {
     "data": {
      "image/png": "[encoded data removed]",
      "text/plain": [
       "<Figure size 432x288 with 1 Axes>"
      ]
     },
     "metadata": {
      "needs_background": "light"
     },
     "output_type": "display_data"
    }
   ],
   "source": [
    "monthly_price.plot(kind = 'box')"
   ]
  },
  {
   "cell_type": "markdown",
   "metadata": {},
   "source": [
    "Since this course is only an **introductory course** for the next machine learning modules, we'll dive deeper about each statistical plot and how to implement them in the next module of Practical Statistics. I would also recommend the official documentation of `matplotlib` for anyone wishing to gain a deeper level of familiarity with plotting using `pandas`'s implementation of `matplotlib`."
   ]
  }
 ],
 "metadata": {
  "kernelspec": {
   "display_name": "Python 3",
   "language": "python",
   "name": "python3"
  },
  "language_info": {
   "codemirror_mode": {
    "name": "ipython",
    "version": 3
   },
   "file_extension": ".py",
   "mimetype": "text/x-python",
   "name": "python",
   "nbconvert_exporter": "python",
   "pygments_lexer": "ipython3",
   "version": "3.7.6"
  },
  "latex_envs": {
   "LaTeX_envs_menu_present": true,
   "autoclose": false,
   "autocomplete": true,
   "bibliofile": "biblio.bib",
   "cite_by": "apalike",
   "current_citInitial": 1,
   "eqLabelWithNumbers": true,
   "eqNumInitial": 1,
   "hotkeys": {
    "equation": "Ctrl-E",
    "itemize": "Ctrl-I"
   },
   "labels_anchors": false,
   "latex_user_defs": false,
   "report_style_numbering": false,
   "user_envs_cfg": false
  },
  "toc": {
   "base_numbering": 1,
   "nav_menu": {},
   "number_sections": true,
   "sideBar": true,
   "skip_h1_title": false,
   "title_cell": "Table of Contents",
   "title_sidebar": "Contents",
   "toc_cell": false,
   "toc_position": {},
   "toc_section_display": true,
   "toc_window_display": true
  }
 },
 "nbformat": 4,
 "nbformat_minor": 2
}
