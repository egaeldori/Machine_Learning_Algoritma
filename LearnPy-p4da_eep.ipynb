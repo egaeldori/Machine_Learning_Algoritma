{
 "cells": [
  {
   "cell_type": "markdown",
   "metadata": {
    "toc": true
   },
   "source": [
    "<h1>Table of Contents<span class=\"tocSkip\"></span></h1>\n",
    "<div class=\"toc\"><ul class=\"toc-item\"><li><span><a href=\"#Pengetahuan-Dasar-Python\" data-toc-modified-id=\"Pengetahuan-Dasar-Python-1\"><span class=\"toc-item-num\">1&nbsp;&nbsp;</span>Pengetahuan Dasar Python</a></span><ul class=\"toc-item\"><li><span><a href=\"#Virtual-Environtment\" data-toc-modified-id=\"Virtual-Environtment-1.1\"><span class=\"toc-item-num\">1.1&nbsp;&nbsp;</span>Virtual Environtment</a></span></li><li><span><a href=\"#Install-Kernel-pada-Virtual-Environtment\" data-toc-modified-id=\"Install-Kernel-pada-Virtual-Environtment-1.2\"><span class=\"toc-item-num\">1.2&nbsp;&nbsp;</span>Install Kernel pada Virtual Environtment</a></span></li></ul></li><li><span><a href=\"#Struktur-Data-pada-Python\" data-toc-modified-id=\"Struktur-Data-pada-Python-2\"><span class=\"toc-item-num\">2&nbsp;&nbsp;</span>Struktur Data pada Python</a></span><ul class=\"toc-item\"><li><span><a href=\"#List\" data-toc-modified-id=\"List-2.1\"><span class=\"toc-item-num\">2.1&nbsp;&nbsp;</span>List</a></span></li><li><span><a href=\"#Tuple\" data-toc-modified-id=\"Tuple-2.2\"><span class=\"toc-item-num\">2.2&nbsp;&nbsp;</span>Tuple</a></span></li><li><span><a href=\"#Dictionary\" data-toc-modified-id=\"Dictionary-2.3\"><span class=\"toc-item-num\">2.3&nbsp;&nbsp;</span>Dictionary</a></span></li><li><span><a href=\"#Quiz-1\" data-toc-modified-id=\"Quiz-1-2.4\"><span class=\"toc-item-num\">2.4&nbsp;&nbsp;</span>Quiz 1</a></span></li></ul></li><li><span><a href=\"#Module-pandas\" data-toc-modified-id=\"Module-pandas-3\"><span class=\"toc-item-num\">3&nbsp;&nbsp;</span>Module <code>pandas</code></a></span><ul class=\"toc-item\"><li><span><a href=\"#Data-Frame\" data-toc-modified-id=\"Data-Frame-3.1\"><span class=\"toc-item-num\">3.1&nbsp;&nbsp;</span>Data Frame</a></span></li><li><span><a href=\"#Tipe-tipe-Data\" data-toc-modified-id=\"Tipe-tipe-Data-3.2\"><span class=\"toc-item-num\">3.2&nbsp;&nbsp;</span>Tipe-tipe Data</a></span><ul class=\"toc-item\"><li><span><a href=\"#Tipe-Data-Categorical-dan-Numerical\" data-toc-modified-id=\"Tipe-Data-Categorical-dan-Numerical-3.2.1\"><span class=\"toc-item-num\">3.2.1&nbsp;&nbsp;</span>Tipe Data Categorical dan Numerical</a></span></li><li><span><a href=\"#Quiz-2\" data-toc-modified-id=\"Quiz-2-3.2.2\"><span class=\"toc-item-num\">3.2.2&nbsp;&nbsp;</span>Quiz 2</a></span></li></ul></li><li><span><a href=\"#Eksplorasi-Data\" data-toc-modified-id=\"Eksplorasi-Data-3.3\"><span class=\"toc-item-num\">3.3&nbsp;&nbsp;</span>Eksplorasi Data</a></span><ul class=\"toc-item\"><li><span><a href=\"#Quiz-3\" data-toc-modified-id=\"Quiz-3-3.3.1\"><span class=\"toc-item-num\">3.3.1&nbsp;&nbsp;</span>Quiz 3</a></span></li></ul></li><li><span><a href=\"#Indexing-dan-Subsetting\" data-toc-modified-id=\"Indexing-dan-Subsetting-3.4\"><span class=\"toc-item-num\">3.4&nbsp;&nbsp;</span>Indexing dan Subsetting</a></span><ul class=\"toc-item\"><li><span><a href=\"#Kondisional-Subset\" data-toc-modified-id=\"Kondisional-Subset-3.4.1\"><span class=\"toc-item-num\">3.4.1&nbsp;&nbsp;</span>Kondisional Subset</a></span></li><li><span><a href=\"#Quiz-4\" data-toc-modified-id=\"Quiz-4-3.4.2\"><span class=\"toc-item-num\">3.4.2&nbsp;&nbsp;</span>Quiz 4</a></span></li></ul></li></ul></li><li><span><a href=\"#Task\" data-toc-modified-id=\"Task-4\"><span class=\"toc-item-num\">4&nbsp;&nbsp;</span>Task</a></span></li></ul></div>"
   ]
  },
  {
   "cell_type": "markdown",
   "metadata": {},
   "source": [
    "**LearnPy: Python for Data Analyst**\n",
    "\n",
    "* Author : Team Algoritma\n",
    "* Developed by [Algoritma](https://algorit.ma)'s product division and instructors team\n",
    "\n",
    "---"
   ]
  },
  {
   "cell_type": "markdown",
   "metadata": {},
   "source": [
    "# Pengetahuan Dasar Python\n",
    "\n",
    "Hi *future Data Analyst*!! Pada notebook ini kita akan membahas mengenai analisis data menggunakan bahasa pemrograman Python menggunakan salah satu module yang cukup powerfull yaitu `pandas`. Namun sebelum itu kita akan membahas beberapa hal terlebih dahulu sebelum masuk ke pengenalan kita terhadap `pandas`."
   ]
  },
  {
   "cell_type": "markdown",
   "metadata": {},
   "source": [
    "## Virtual Environtment"
   ]
  },
  {
   "cell_type": "markdown",
   "metadata": {},
   "source": [
    "Virtual environtment merupakan alat yang digunakan untuk menyimpan dependensi dari suatu library atau module yang diperlukan ketika mengerjakan suatu project tertentu. Beberapa project tertentu membutuhkan dependency python yang berbeda, oleh karena itu cukup menyulitkan jika kita membuat virtual environtment. \n",
    "\n",
    "Beberapa hal yang perlu dipersiapkan dalam membuat virtual environtment yaitu:\n",
    "- sudah memiliki Anaconda Navigator/Miniconda\n",
    "- menggunakan CLI (command line interface) sebagai alat untuk membuat, memanage, dan mengaktifkan virtual environtment"
   ]
  },
  {
   "cell_type": "markdown",
   "metadata": {},
   "source": [
    "Ketika kita sudah memiliki Anaconda Navigator, biasanya tersedia CLI bawaan dari Anaconda Navigator yaitu Anaconda Prompt. Kita akan coba membuat suatu virtual environtment menggunakan Anaconda Prompt. Setelah dibuka Anaconda Prompt, biasanya langsung muncul tampilan sebagai berikut."
   ]
  },
  {
   "cell_type": "markdown",
   "metadata": {},
   "source": [
    "![](img/base.PNG)"
   ]
  },
  {
   "cell_type": "markdown",
   "metadata": {},
   "source": [
    "Saat pertama kali kita membuka Anaconda Prompt, kita akan diberikan informasi bahwa kita masih didalam environtment `base` atau environtment secara general. Untuk bisa membuat virtual environtment, kita bisa menggunakan code berikut.\n",
    "    \n",
    "    \n",
    "    conda create --name mynewenv python=3.7\n",
    "    "
   ]
  },
  {
   "cell_type": "markdown",
   "metadata": {},
   "source": [
    "![](img/create-new.PNG)"
   ]
  },
  {
   "cell_type": "markdown",
   "metadata": {},
   "source": [
    "Tujuan dari kita menuliskan `python=3.7` agar python yang terinstall pada virtual environtment yang kita buat adalah python dengan versi 3.7. Inilah salah satu keuntungan yang kita peroleh dengan membuat virtual environtment, kita dapat mengatur versi python yang kita inginkan sesuai kebutuhan dari project yang ingin kita buat. \n",
    "Selanjutnya akan muncul beberapa dependency library yang minta untuk di install saat membuat virtual environtment baru. Kita bisa mengetikkan huruf `y` untuk melanjutkan proses pembuatan virtual environtment yang baru."
   ]
  },
  {
   "cell_type": "markdown",
   "metadata": {},
   "source": [
    "![](img/dependency.PNG)"
   ]
  },
  {
   "cell_type": "markdown",
   "metadata": {},
   "source": [
    "Setelah virtual environtment yang baru kita buat sudah selesai, kita bisa mengaktifkan environtment yang sudah kita buat dengan code berikut.\n",
    "\n",
    "```dash\n",
    "conda activate mynewenv\n",
    "```\n",
    "Kita dapat melihat beberapa module yang sudah terinstall pada virtual environtment yang kita buat dengan menggunakan code berikut.\n",
    "\n",
    "```dash\n",
    "conda list\n",
    "```"
   ]
  },
  {
   "cell_type": "markdown",
   "metadata": {},
   "source": [
    "![](img/conda-list.PNG)"
   ]
  },
  {
   "cell_type": "markdown",
   "metadata": {},
   "source": [
    "## Install Kernel pada Virtual Environtment"
   ]
  },
  {
   "cell_type": "markdown",
   "metadata": {},
   "source": [
    "Kernel merupakan suatu penghubung antara environtment dengan setiap project yang kita gunakan. Jika dimisalkan sebuah rumah yang memiliki ruangan, kernel merupakan pintu penghubung yang bisa digunakan untuk bisa mengakses ruangan tersebut. Secara default apabila kita tidak melakukan install kernel pada environtment yang kita buat maka kernelnya adalah `Python 3`. Namun apabila kita menggunakan kernel yang sudah kita buat untuk masing-masing environtment yang kita miliki maka nama kernelnya akan menyerupai nama environtment yang sudah kita buat. \n",
    "\n",
    "Kita dapat melakukan install kernel untuk environtment yang sudah kita buat yaitu `mynewenv` dengan cara sebagai berikut.\n",
    "\n",
    "- Pastikan sudah memiliki `ipykernel` pada environtment terlebih dahulu, apabila belum bisa lakukan installasi `ipykernel` dengan cara berikut:\n",
    "\n",
    "``` dash\n",
    "conda install ipykernel # menggunakan conda\n",
    "pip install ipykernel # menggunakan pip\n",
    "```\n",
    "\n",
    "- Setelah terinstall, maka kita lakukan pengaktifan `ipykernel` pada environtment kita yaitu `mynewenv` :\n",
    "\n",
    "```dash\n",
    "python -m ipykernel install --user --name mynewenv`\n",
    "```\n",
    "\n",
    "Setelah sukses melakukan penginstallan akan ada status pada CLI sebagaimana gambar dibawah ini dengan begitu maka install kernel untuk environtment yang kita gunakan sudah selesai. \n",
    "\n",
    "![](img/ipykernel-installed.png)\n",
    "\n",
    "Kita bisa melanjutkan dengan membuka python kita menggunakan IDE yang kita miliki yaitu bisa melalui Jupyter Notebook, Jupyter Lab, atau IDE yang lain. Jika ingin menggunakan IDE Jupyter Notebook, maka cukup gunakan code `jupyter notebook` dan apabila menggunakan IDE Jupyter Lab gunakan code `jupyter lab` pada CLI. "
   ]
  },
  {
   "cell_type": "markdown",
   "metadata": {},
   "source": [
    "Sebelum mengenal lebih jauh beberapa keguanaan yang bisa kita dapatkan dari module `pandas`, kita akan coba mengenal beberapa object di python."
   ]
  },
  {
   "cell_type": "markdown",
   "metadata": {},
   "source": [
    "# Struktur Data pada Python"
   ]
  },
  {
   "cell_type": "markdown",
   "metadata": {},
   "source": [
    "Dalam python sendiri terdapat sebuah struktur data, dimana struktur data ini biasanya disusun berdasarkan satu dimensi atau dua dimensi. Terdapat beberapa struktur data pada python diantaranya yaitu :\n",
    "- list\n",
    "- tuple\n",
    "- dictionary"
   ]
  },
  {
   "cell_type": "markdown",
   "metadata": {},
   "source": [
    "## List"
   ]
  },
  {
   "cell_type": "markdown",
   "metadata": {},
   "source": [
    "List adalah suatu struktur data pada python yang tersusun secara satu dimensi dimana nilai dari dari anggotanya bisa kita ganti. List secara umum bisa disebut sebagai \"array\" pada python. List dapat dibuat dengan menggunakan tanda bracket atau `[..,..,..]`. Perhatikan list dibawah ini."
   ]
  },
  {
   "cell_type": "code",
   "execution_count": 1,
   "metadata": {},
   "outputs": [
    {
     "name": "stdout",
     "output_type": "stream",
     "text": [
      "[1, 2, 3, 4, 5, 6, 7, 8, 9]\n"
     ]
    }
   ],
   "source": [
    "list_angka = [1,2,3,4,5,6,7,8,9]\n",
    "print(list_angka)"
   ]
  },
  {
   "cell_type": "markdown",
   "metadata": {},
   "source": [
    "List bisa kita ganti nilai pada anggotanya dengan melakukan inspek urutan pada struktur list. Misalnya kita ingin mecoba mengganti nilai 6 pada object `list_angka` diatas menjadi 10. Kita harus tahu terlebih dahulu nilai 6 pada `list_angka` terdapat pada urutan ke berapa. Pada python, index suatu data dimulai dari angka 0, sehingga kita bisa melakukan inspek urutan data dengan cara $index = data_i-1$. Selanjutnya untuk melakukan inspek salah satu nilai pada list dapat menggunakan `nama_object[index]`."
   ]
  },
  {
   "cell_type": "code",
   "execution_count": 2,
   "metadata": {},
   "outputs": [
    {
     "data": {
      "text/plain": [
       "6"
      ]
     },
     "execution_count": 2,
     "metadata": {},
     "output_type": "execute_result"
    }
   ],
   "source": [
    "list_angka[5]"
   ]
  },
  {
   "cell_type": "code",
   "execution_count": 3,
   "metadata": {},
   "outputs": [],
   "source": [
    "list_angka[5]=10"
   ]
  },
  {
   "cell_type": "code",
   "execution_count": 4,
   "metadata": {},
   "outputs": [
    {
     "name": "stdout",
     "output_type": "stream",
     "text": [
      "[1, 2, 3, 4, 5, 10, 7, 8, 9]\n"
     ]
    }
   ],
   "source": [
    "print(list_angka)"
   ]
  },
  {
   "cell_type": "markdown",
   "metadata": {},
   "source": [
    "## Tuple"
   ]
  },
  {
   "cell_type": "markdown",
   "metadata": {},
   "source": [
    "Tuple adalah suatu struktur data pada python yang tersusun satu dimensi hanya saja nilai dari anggotanya konstan dan tidak dapat diubah. Untuk dapat membuat suatu tuple bisa menggunakan tanda kurung atau `(..,..,..)` atau tanpa tanda kurung. Perhatikan contoh tuple dibawah ini."
   ]
  },
  {
   "cell_type": "code",
   "execution_count": 5,
   "metadata": {},
   "outputs": [
    {
     "data": {
      "text/plain": [
       "('Learn', 'Python', 2020)"
      ]
     },
     "execution_count": 5,
     "metadata": {},
     "output_type": "execute_result"
    }
   ],
   "source": [
    "tuple_object = ('Learn', 'Python', 2020) \n",
    "tuple_object"
   ]
  },
  {
   "cell_type": "code",
   "execution_count": 6,
   "metadata": {},
   "outputs": [
    {
     "name": "stdout",
     "output_type": "stream",
     "text": [
      "('list', 'tuple', 'dictionary')\n"
     ]
    }
   ],
   "source": [
    "tuple_object2 = 'list', 'tuple', 'dictionary'\n",
    "print(tuple_object2)"
   ]
  },
  {
   "cell_type": "markdown",
   "metadata": {},
   "source": [
    "Tuple biasanya lebih mudah dikenal sebagai object string, dimana hanya berisi sederet informasi yang memiliki satu dimensi. Untuk mengakses index tertentu pada tuple dapat menggunakan `nama_object[]` seperti pada list dan apabila kita ingin mengetahui suatu nilai pada tuple terdapat pada index ke berapa, maka kita bisa gunakan `nama_object.index()`."
   ]
  },
  {
   "cell_type": "code",
   "execution_count": 7,
   "metadata": {},
   "outputs": [
    {
     "data": {
      "text/plain": [
       "2020"
      ]
     },
     "execution_count": 7,
     "metadata": {},
     "output_type": "execute_result"
    }
   ],
   "source": [
    "tuple_object[2]"
   ]
  },
  {
   "cell_type": "code",
   "execution_count": 8,
   "metadata": {},
   "outputs": [
    {
     "data": {
      "text/plain": [
       "1"
      ]
     },
     "execution_count": 8,
     "metadata": {},
     "output_type": "execute_result"
    }
   ],
   "source": [
    "tuple_object2.index('tuple')"
   ]
  },
  {
   "cell_type": "markdown",
   "metadata": {},
   "source": [
    "Selain itu, jika kita memiliki lebih dari 1 nilai pada object tuple yang kita miliki, kita bisa melakukan slicing pada object tuple kita dengan menggunakan `tuple[]` dan memasukkan urutan nilai yang ingin dimasukkan.\n",
    "\n",
    "**Ingat!!** Pada python untuk urutan angka dimulai dari angka 0."
   ]
  },
  {
   "cell_type": "code",
   "execution_count": 9,
   "metadata": {},
   "outputs": [
    {
     "name": "stdout",
     "output_type": "stream",
     "text": [
      "Learn\n",
      "('tuple', 'dictionary')\n"
     ]
    }
   ],
   "source": [
    "print(tuple_object[0])\n",
    "print(tuple_object2[1:3])"
   ]
  },
  {
   "cell_type": "markdown",
   "metadata": {},
   "source": [
    "Nilai dari tuple juga tidak bisa kita ubah semau kita. Apabila kita mengubah nilainya, maka akan ada error yang dimunculkan dari python."
   ]
  },
  {
   "cell_type": "code",
   "execution_count": 10,
   "metadata": {},
   "outputs": [
    {
     "ename": "TypeError",
     "evalue": "'tuple' object does not support item assignment",
     "output_type": "error",
     "traceback": [
      "\u001b[1;31m---------------------------------------------------------------------------\u001b[0m",
      "\u001b[1;31mTypeError\u001b[0m                                 Traceback (most recent call last)",
      "\u001b[1;32m<ipython-input-10-a6b5525263c5>\u001b[0m in \u001b[0;36m<module>\u001b[1;34m\u001b[0m\n\u001b[1;32m----> 1\u001b[1;33m \u001b[0mtuple_object\u001b[0m\u001b[1;33m[\u001b[0m\u001b[1;36m1\u001b[0m\u001b[1;33m]\u001b[0m \u001b[1;33m=\u001b[0m \u001b[1;36m100\u001b[0m\u001b[1;33m\u001b[0m\u001b[1;33m\u001b[0m\u001b[0m\n\u001b[0m\u001b[0;32m      2\u001b[0m \u001b[0mprint\u001b[0m\u001b[1;33m(\u001b[0m\u001b[0mtuple_object\u001b[0m\u001b[1;33m[\u001b[0m\u001b[1;36m1\u001b[0m\u001b[1;33m]\u001b[0m\u001b[1;33m)\u001b[0m\u001b[1;33m\u001b[0m\u001b[1;33m\u001b[0m\u001b[0m\n\u001b[0;32m      3\u001b[0m \u001b[1;33m\u001b[0m\u001b[0m\n",
      "\u001b[1;31mTypeError\u001b[0m: 'tuple' object does not support item assignment"
     ]
    }
   ],
   "source": [
    "tuple_object[1] = 100\n",
    "print(tuple_object[1])\n",
    "\n"
   ]
  },
  {
   "cell_type": "markdown",
   "metadata": {},
   "source": [
    "## Dictionary"
   ]
  },
  {
   "cell_type": "markdown",
   "metadata": {},
   "source": [
    "Dictionary adalah suatu struktur data pada python yang terdiri dari *key* dan *value* dimana *key* bisa kita tentukan sendiri beserta *value* bisa kita ubah nilainya. *Key* pada dictionary memiliki maksud suatu index sedangkan *value* adalah nilai dari index pada struktur data dictionary. Setiap satu *key* pasti memiliki satu *value*. Dalam pembuatan dictionary kita bisa menggunakan tanda kurung kurawal atau `{key:value}`. Perhatikan dictionary dibawah ini."
   ]
  },
  {
   "cell_type": "code",
   "execution_count": 12,
   "metadata": {},
   "outputs": [
    {
     "data": {
      "text/plain": [
       "{1: 'merah', 2: 8, 3: 'hijau', 4: 10, 5: 'hitam', 'apel': 9}"
      ]
     },
     "execution_count": 12,
     "metadata": {},
     "output_type": "execute_result"
    }
   ],
   "source": [
    "dict_object = {1:'merah', 2:8, 3:'hijau', 4:10, 5:'hitam', 'apel':9}\n",
    "dict_object"
   ]
  },
  {
   "cell_type": "markdown",
   "metadata": {},
   "source": [
    "Untuk bisa melakukan inspek elemen pada dictionary kita bisa gunakan `nama_object[key]` seperti pada list dan tuple. "
   ]
  },
  {
   "cell_type": "code",
   "execution_count": 13,
   "metadata": {},
   "outputs": [
    {
     "name": "stdout",
     "output_type": "stream",
     "text": [
      "hitam\n",
      "9\n"
     ]
    }
   ],
   "source": [
    "print(dict_object[5])\n",
    "print(dict_object['apel'])"
   ]
  },
  {
   "cell_type": "markdown",
   "metadata": {},
   "source": [
    "Untuk bisa mengubah nilai atau *value* kita bisa mengakses berdasarkan *key* yang ingin kita ubah. Misalnya disini kita coba ubah *value* pada *key* apel yang tadinya 9 menjadi kata \"fuji\"."
   ]
  },
  {
   "cell_type": "code",
   "execution_count": 14,
   "metadata": {},
   "outputs": [
    {
     "name": "stdout",
     "output_type": "stream",
     "text": [
      "{1: 'merah', 2: 8, 3: 'hijau', 4: 10, 5: 'hitam', 'apel': 'fuji'}\n"
     ]
    }
   ],
   "source": [
    "dict_object['apel'] = 'fuji'\n",
    "print(dict_object)"
   ]
  },
  {
   "cell_type": "markdown",
   "metadata": {},
   "source": [
    "## Quiz 1"
   ]
  },
  {
   "cell_type": "markdown",
   "metadata": {},
   "source": [
    "1. Berdasarkan pilihan dibawah ini, manakah struktur data yang bisa kita tentukan index dan nilainya?\n",
    "    - [ ] list\n",
    "    - [ ] tuple\n",
    "    - [v] dictionary\n",
    "    \n",
    "#### Dictionary adalah suatu struktur data pada python yang terdiri dari key dan value dimana key bisa kita \"tentukan\" sendiri beserta value bisa kita ubah nilainya\n",
    "\n",
    "---\n",
    "\n",
    "2. Jika ada struktur data dibawah ini.\n",
    "\n",
    "```py\n",
    "object1 = [1,45,23,12,45,2,3,4,67,23]\n",
    "```\n",
    "Termasuk apakah `object1` diatas?\n",
    "\n",
    "- [v] list\n",
    "- [ ] tuple\n",
    "- [ ] dictionary\n",
    "\n",
    "#### list akan diawali dengan tanda [kurung siku]\n",
    "\n",
    "---\n",
    "\n",
    "3. Manakah dari pilihan dibawah ini yang tidak menghasilkan error?\n",
    "    - [ ] `object1 = (1,2,3,4,5,6)\n",
    "      object1[3] = 9\n",
    "      print(object1)`\n",
    "    - [ ] `object1 = {'angka':1, 'bulan':03, 'tahun': 2020, 'lokasi': 'jakarta'}\n",
    "      object1 = {'angka':1, 'angka':4, 'angka':10, 'bulan':03, 'tahun': 2020, 'tahun1': 2019, 'tahun': 2021, 'lokasi': 'jakarta'}`\n",
    "    - [v] `object1 = [1,2,3,4,5,6]\n",
    "      object1.index(3)`\n",
    "    - [ ] `object1 = [1,2,3,4,5,6]\n",
    "      object1.index(0)`\n",
    "      \n",
    "#### 𝑖𝑛𝑑𝑒𝑥 = 𝑑𝑎𝑡𝑎𝑖 − 1\n",
    "     \n",
    "---\n",
    "\n",
    "4. Berapakah nilai yang dihasilkan dari code dibawah ini?\n",
    "\n",
    "```py\n",
    "angka = {1:10, 2:20, 3:30, 4:40, 5:50, 6:60, 6:90, 7:70, 8:80, 8:88, 9:90}\n",
    "print(angka[1], angka[6], angka[8])\n",
    "```\n",
    "\n",
    "- [ ] 10, 50, 88\n",
    "- [ ] 10, 60, 88\n",
    "- [v] 10, 90, 88\n",
    "- [ ] 10, 90, 80\n",
    "\n",
    "#### Setiap satu key pasti memiliki satu value, seperti yang sudah-sudah statement terakhir yang dipakai. Jadi Key nomor 6 dan 8 menggunakan argumen terakhir nilainya, sementara argumen yang awal tidak lagi dianggap indeks ataupun key"
   ]
  },
  {
   "cell_type": "markdown",
   "metadata": {},
   "source": [
    "# Module `pandas`"
   ]
  },
  {
   "cell_type": "markdown",
   "metadata": {},
   "source": [
    "Selanjutnya kita akan coba mengeksplorasi module `pandas` untuk keperluan analisis data. Untuk dapat menggunakan module tersebut, kita harus melakukan import module terlebih dahulu. Untuk melakukan import module cukup menggunakan code `import`."
   ]
  },
  {
   "cell_type": "code",
   "execution_count": 15,
   "metadata": {},
   "outputs": [
    {
     "name": "stdout",
     "output_type": "stream",
     "text": [
      "1.0.1\n"
     ]
    }
   ],
   "source": [
    "import pandas as pd\n",
    "print(pd.__version__)"
   ]
  },
  {
   "cell_type": "markdown",
   "metadata": {},
   "source": [
    "## Data Frame "
   ]
  },
  {
   "cell_type": "markdown",
   "metadata": {},
   "source": [
    "Kita akan coba untuk melakukan exploratory data menggunakan data turnover suatu perusahaan. Untuk melihat datanya kita harus mengimport data turnover tersebut yang tersimpan dengan nama file `turnover_balance.csv`. Data ini menunjukkan suatu record history karyawan pada perusahaan tertentu yang mengalami turnover berdasarkan beberapa atribut-atribut penunjangnya yaitu `satisfaction_level`, `last_evaluation`, `number_project`, `average_monthly_hours`, `time_spend_company`, `Work_accident`, `promotion_last_5years`, `division`, dan `salary`. Berikut data turnover tersebut :"
   ]
  },
  {
   "cell_type": "code",
   "execution_count": 16,
   "metadata": {
    "scrolled": true
   },
   "outputs": [
    {
     "data": {
      "text/html": [
       "<div>\n",
       "<style scoped>\n",
       "    .dataframe tbody tr th:only-of-type {\n",
       "        vertical-align: middle;\n",
       "    }\n",
       "\n",
       "    .dataframe tbody tr th {\n",
       "        vertical-align: top;\n",
       "    }\n",
       "\n",
       "    .dataframe thead th {\n",
       "        text-align: right;\n",
       "    }\n",
       "</style>\n",
       "<table border=\"1\" class=\"dataframe\">\n",
       "  <thead>\n",
       "    <tr style=\"text-align: right;\">\n",
       "      <th></th>\n",
       "      <th>satisfaction_level</th>\n",
       "      <th>last_evaluation</th>\n",
       "      <th>number_project</th>\n",
       "      <th>average_montly_hours</th>\n",
       "      <th>time_spend_company</th>\n",
       "      <th>Work_accident</th>\n",
       "      <th>promotion_last_5years</th>\n",
       "      <th>division</th>\n",
       "      <th>salary</th>\n",
       "      <th>left</th>\n",
       "    </tr>\n",
       "  </thead>\n",
       "  <tbody>\n",
       "    <tr>\n",
       "      <th>0</th>\n",
       "      <td>0.82</td>\n",
       "      <td>0.68</td>\n",
       "      <td>3</td>\n",
       "      <td>140</td>\n",
       "      <td>2</td>\n",
       "      <td>0</td>\n",
       "      <td>0</td>\n",
       "      <td>sales</td>\n",
       "      <td>low</td>\n",
       "      <td>0</td>\n",
       "    </tr>\n",
       "    <tr>\n",
       "      <th>1</th>\n",
       "      <td>0.79</td>\n",
       "      <td>0.67</td>\n",
       "      <td>5</td>\n",
       "      <td>156</td>\n",
       "      <td>2</td>\n",
       "      <td>0</td>\n",
       "      <td>0</td>\n",
       "      <td>product_mng</td>\n",
       "      <td>low</td>\n",
       "      <td>0</td>\n",
       "    </tr>\n",
       "    <tr>\n",
       "      <th>2</th>\n",
       "      <td>0.73</td>\n",
       "      <td>0.95</td>\n",
       "      <td>3</td>\n",
       "      <td>149</td>\n",
       "      <td>2</td>\n",
       "      <td>0</td>\n",
       "      <td>0</td>\n",
       "      <td>support</td>\n",
       "      <td>low</td>\n",
       "      <td>0</td>\n",
       "    </tr>\n",
       "    <tr>\n",
       "      <th>3</th>\n",
       "      <td>0.92</td>\n",
       "      <td>0.78</td>\n",
       "      <td>3</td>\n",
       "      <td>218</td>\n",
       "      <td>3</td>\n",
       "      <td>0</td>\n",
       "      <td>0</td>\n",
       "      <td>technical</td>\n",
       "      <td>low</td>\n",
       "      <td>0</td>\n",
       "    </tr>\n",
       "    <tr>\n",
       "      <th>4</th>\n",
       "      <td>0.69</td>\n",
       "      <td>1.00</td>\n",
       "      <td>5</td>\n",
       "      <td>237</td>\n",
       "      <td>3</td>\n",
       "      <td>0</td>\n",
       "      <td>0</td>\n",
       "      <td>technical</td>\n",
       "      <td>high</td>\n",
       "      <td>0</td>\n",
       "    </tr>\n",
       "  </tbody>\n",
       "</table>\n",
       "</div>"
      ],
      "text/plain": [
       "   satisfaction_level  last_evaluation  number_project  average_montly_hours  \\\n",
       "0                0.82             0.68               3                   140   \n",
       "1                0.79             0.67               5                   156   \n",
       "2                0.73             0.95               3                   149   \n",
       "3                0.92             0.78               3                   218   \n",
       "4                0.69             1.00               5                   237   \n",
       "\n",
       "   time_spend_company  Work_accident  promotion_last_5years     division  \\\n",
       "0                   2              0                      0        sales   \n",
       "1                   2              0                      0  product_mng   \n",
       "2                   2              0                      0      support   \n",
       "3                   3              0                      0    technical   \n",
       "4                   3              0                      0    technical   \n",
       "\n",
       "  salary  left  \n",
       "0    low     0  \n",
       "1    low     0  \n",
       "2    low     0  \n",
       "3    low     0  \n",
       "4   high     0  "
      ]
     },
     "execution_count": 16,
     "metadata": {},
     "output_type": "execute_result"
    }
   ],
   "source": [
    "turnover = pd.read_csv(r\"C:\\Users\\Lenovo\\Desktop\\Machine Learning\\data\\turnover_balance.csv\")\n",
    "turnover.head()\n",
    "\n",
    "## Modif sikit folder penyimpanan datanya"
   ]
  },
  {
   "cell_type": "markdown",
   "metadata": {},
   "source": [
    "Berdasarkan data `turnover` diatas, berikut ini adalah glimpse dari setiap variabelnya :\n",
    "\n",
    "* `satisfaction_level` : tingkat kepuasan karyawan bekerja di suatu perusahaan\n",
    "* `last_evaluation` : tingkat kepuasan karyawan pada evaluasi terakhir\n",
    "* `number_project` : banyaknya project yang telah diterima karyawan\n",
    "* `average_monthly_hours` : rata-rata jam kerja per bulan\n",
    "* `time_spend_company` : lama waktu bekerja dalam perusahaan (tahun)\n",
    "* `Work_accident` : ada tidaknya kecelakaan kerja, 0 = tidak ada, 1 = ada\n",
    "* `promotion_last_5years` : pernah mendapatkan promosi dalam 5 tahun terakhir, 0 = tidak, 1 = ya\n",
    "* `division` : nama departemen atau divisi\n",
    "* `salary` : tingkat pendapatan, dibagi menjadi low, medium dan high\n",
    "* `left` : data history karyawan resign, 0 = tidak, 1 = ya"
   ]
  },
  {
   "cell_type": "markdown",
   "metadata": {},
   "source": [
    "Sebelum melangkah pada hal-hal yang rumit, kita akan coba untuk mengulik dari hal yang sederhana terlebih dahulu."
   ]
  },
  {
   "cell_type": "markdown",
   "metadata": {},
   "source": [
    "## Tipe-tipe Data "
   ]
  },
  {
   "cell_type": "markdown",
   "metadata": {},
   "source": [
    "Sebagai seorang data analyst, kita harus mengetahui terlebih dahulu tipe-tipe data yang akan kita analisis. Pada python, ketika kita bekerja menggunakan module `pandas` untuk melakukan pengecekan tipe data pada data yang digunakan, kita bisa menggunakan `dtypes`. Nilai yang akan dikeluarkan oleh `dtypes` adalah sebuah series yang berisi tipe data setiap variabel pada suatu data frame."
   ]
  },
  {
   "cell_type": "code",
   "execution_count": 17,
   "metadata": {},
   "outputs": [
    {
     "data": {
      "text/plain": [
       "satisfaction_level       float64\n",
       "last_evaluation          float64\n",
       "number_project             int64\n",
       "average_montly_hours       int64\n",
       "time_spend_company         int64\n",
       "Work_accident              int64\n",
       "promotion_last_5years      int64\n",
       "division                  object\n",
       "salary                    object\n",
       "left                       int64\n",
       "dtype: object"
      ]
     },
     "execution_count": 17,
     "metadata": {},
     "output_type": "execute_result"
    }
   ],
   "source": [
    "turnover.dtypes"
   ]
  },
  {
   "cell_type": "markdown",
   "metadata": {},
   "source": [
    "Tipe-tipe data yang terdapat pada Python umumnya adalah:\n",
    "\n",
    "* **float** : tipe data yang berisi angka kontinu\n",
    "* **int** : tipe data yang berisi angka bulat\n",
    "* **object** : tipe data yang berisi alphabetic, seperti nama, alamat, dst\n",
    "* **bool** : tipe data yang berisi TRUE atau FALSE\n",
    "* **str** : tipe data yang berisi text"
   ]
  },
  {
   "cell_type": "markdown",
   "metadata": {},
   "source": [
    "### Tipe Data Categorical dan Numerical "
   ]
  },
  {
   "cell_type": "markdown",
   "metadata": {},
   "source": [
    "Ada beberapa tipe data yang cukup spesial seperti tipe data **categoric**. Tipe data categoric merupakan tipe data yang mirip dengan tipe data object, perbedaannya yaitu pada memori yang disimpan. Jika pada tipe data object maka untuk setiap karakter yang ada akan tersimpan pada suatu memori dengan id yang berbeda dengan karakter yang lain. Hal ini akan menyebabkan memori menyimpan terlalu banyak informasi terlebih apabila karakter yang ada pada data yang kita miliki terdapat pengulangan. Tentunya akan sangat memakan memori yang banyak. Oleh karena itu ada tipe data spesial yaitu **categoric** yang dapat kita gunakan untuk menyimpan memori data dengan lebih efisien. Cara kerja dari tipe data categoric yaitu akan menyimpan informasi dari suatu karakter yang unik dan akan disimpan dengan id tertentu sesuai dengan berapa banyak karakter unik yang muncul. "
   ]
  },
  {
   "cell_type": "markdown",
   "metadata": {},
   "source": [
    "Dalam beberapa kondisi, tipe data pada suatu kolom atau variabel sangatlah penting untuk diperhatikan. Hal ini akan mempermudah seorang data analyst mengetahui data apa yang sedang dia kerjakan. Selain itu juga ketika akan membuat suatu report, variabel tertentu dapat diinterpretasikan dengan baik menggunakan pengukuran statistik ataupun berupa visualisasi. Oleh karena itu, ketika tipe data dalam data frame ada yang tidak sesuai, kita perlu menyesuaikan agar data dapat direpresentasikan dengan baik. "
   ]
  },
  {
   "cell_type": "markdown",
   "metadata": {},
   "source": [
    "Pada course material, telah dibahas bagaimana mengubah tipe data pada suatu data frame. Untuk melakukan perubahan tipe data, kita bisa menggunakan fungsi `astype()` pada kolom yang ingin kita ubah."
   ]
  },
  {
   "cell_type": "markdown",
   "metadata": {},
   "source": [
    "**Knowledge check:**\n",
    "\n",
    "Sebelum kita akan mengalisis kolom manakah yang belum sesuai, kita cek terlebih dahulu tipe data dari masing-masing kolom pada object `turnover` yang kita miliki."
   ]
  },
  {
   "cell_type": "code",
   "execution_count": 18,
   "metadata": {},
   "outputs": [
    {
     "data": {
      "text/plain": [
       "satisfaction_level       float64\n",
       "last_evaluation          float64\n",
       "number_project             int64\n",
       "average_montly_hours       int64\n",
       "time_spend_company         int64\n",
       "Work_accident              int64\n",
       "promotion_last_5years      int64\n",
       "division                  object\n",
       "salary                    object\n",
       "left                       int64\n",
       "dtype: object"
      ]
     },
     "execution_count": 18,
     "metadata": {},
     "output_type": "execute_result"
    }
   ],
   "source": [
    "## your code here\n",
    "## Melihat tipe data\n",
    "\n",
    "turnover.dtypes"
   ]
  },
  {
   "cell_type": "markdown",
   "metadata": {},
   "source": [
    "**Latihan!**\n",
    "\n",
    "Jika kita perhatikan berdasarkan gloosary dari masing-masing kolom pada data `turnover` dan tipe datanya, bisakah Anda temukan kolom mana saja yang harus diubah dalam bentuk `category`? \n",
    "\n",
    "Jika sudah menemukannya, Anda dapat mengubahnya menggunakan fungsi `astype('category')` dan jangan lupa simpan kembali agar data `turnover` sudah memiliki tipe data yang tepat untuk masing-masing kolomnya."
   ]
  },
  {
   "cell_type": "code",
   "execution_count": 19,
   "metadata": {},
   "outputs": [],
   "source": [
    "## your code here\n",
    "## Merubah beberapa tipe data pada kolom-kolom tertentu menjadi tipe category\n",
    "turnover[[\"time_spend_company\", \"Work_accident\", \"promotion_last_5years\", \"division\", \"salary\", \"left\"]] =\\\n",
    "turnover[[\"time_spend_company\", \"Work_accident\", \"promotion_last_5years\", \"division\", \"salary\", \"left\"]].astype(\"category\")"
   ]
  },
  {
   "cell_type": "markdown",
   "metadata": {},
   "source": [
    "Lakukan pengecekan ulang mengenai tipe data yang sudah diubah, apakah sudah terubah dengan baik dengan menggunakan `dtypes` atribut."
   ]
  },
  {
   "cell_type": "code",
   "execution_count": 20,
   "metadata": {},
   "outputs": [
    {
     "data": {
      "text/plain": [
       "satisfaction_level        float64\n",
       "last_evaluation           float64\n",
       "number_project              int64\n",
       "average_montly_hours        int64\n",
       "time_spend_company       category\n",
       "Work_accident            category\n",
       "promotion_last_5years    category\n",
       "division                 category\n",
       "salary                   category\n",
       "left                     category\n",
       "dtype: object"
      ]
     },
     "execution_count": 20,
     "metadata": {},
     "output_type": "execute_result"
    }
   ],
   "source": [
    "## your code here\n",
    "## Cek Ulang\n",
    "\n",
    "turnover.dtypes\n"
   ]
  },
  {
   "cell_type": "markdown",
   "metadata": {},
   "source": [
    "### Quiz 2"
   ]
  },
  {
   "cell_type": "markdown",
   "metadata": {},
   "source": [
    "Jika diketahui data sebagai berikut."
   ]
  },
  {
   "cell_type": "code",
   "execution_count": 21,
   "metadata": {},
   "outputs": [],
   "source": [
    "import pandas as pd"
   ]
  },
  {
   "cell_type": "code",
   "execution_count": 22,
   "metadata": {},
   "outputs": [
    {
     "data": {
      "text/html": [
       "<div>\n",
       "<style scoped>\n",
       "    .dataframe tbody tr th:only-of-type {\n",
       "        vertical-align: middle;\n",
       "    }\n",
       "\n",
       "    .dataframe tbody tr th {\n",
       "        vertical-align: top;\n",
       "    }\n",
       "\n",
       "    .dataframe thead th {\n",
       "        text-align: right;\n",
       "    }\n",
       "</style>\n",
       "<table border=\"1\" class=\"dataframe\">\n",
       "  <thead>\n",
       "    <tr style=\"text-align: right;\">\n",
       "      <th></th>\n",
       "      <th>jenis</th>\n",
       "      <th>warna</th>\n",
       "      <th>harga</th>\n",
       "      <th>diskon</th>\n",
       "      <th>stok</th>\n",
       "      <th>penjualan_mingguan</th>\n",
       "    </tr>\n",
       "  </thead>\n",
       "  <tbody>\n",
       "    <tr>\n",
       "      <th>0</th>\n",
       "      <td>Sepatu</td>\n",
       "      <td>Hitam</td>\n",
       "      <td>1300000</td>\n",
       "      <td>0.2</td>\n",
       "      <td>59</td>\n",
       "      <td>6</td>\n",
       "    </tr>\n",
       "    <tr>\n",
       "      <th>1</th>\n",
       "      <td>Sandal</td>\n",
       "      <td>Merah</td>\n",
       "      <td>56000</td>\n",
       "      <td>0.0</td>\n",
       "      <td>100</td>\n",
       "      <td>50</td>\n",
       "    </tr>\n",
       "    <tr>\n",
       "      <th>2</th>\n",
       "      <td>Baju</td>\n",
       "      <td>Biru</td>\n",
       "      <td>85000</td>\n",
       "      <td>0.0</td>\n",
       "      <td>200</td>\n",
       "      <td>150</td>\n",
       "    </tr>\n",
       "    <tr>\n",
       "      <th>3</th>\n",
       "      <td>Tas</td>\n",
       "      <td>Pink</td>\n",
       "      <td>100000</td>\n",
       "      <td>0.1</td>\n",
       "      <td>50</td>\n",
       "      <td>40</td>\n",
       "    </tr>\n",
       "  </tbody>\n",
       "</table>\n",
       "</div>"
      ],
      "text/plain": [
       "    jenis  warna    harga  diskon  stok  penjualan_mingguan\n",
       "0  Sepatu  Hitam  1300000     0.2    59                   6\n",
       "1  Sandal  Merah    56000     0.0   100                  50\n",
       "2    Baju   Biru    85000     0.0   200                 150\n",
       "3     Tas   Pink   100000     0.1    50                  40"
      ]
     },
     "execution_count": 22,
     "metadata": {},
     "output_type": "execute_result"
    }
   ],
   "source": [
    "toko = pd.DataFrame({\n",
    "    'jenis' : ['Sepatu', 'Sandal', 'Baju', 'Tas'],\n",
    "    'warna' : ['Hitam', 'Merah', 'Biru', 'Pink'],\n",
    "    'harga' : [1300000, 56000, 85000, 100000],\n",
    "    'diskon' : [0.2, 0, 0, 0.1],\n",
    "    'stok' : [59, 100, 200, 50],\n",
    "    'penjualan_mingguan' : [6, 50, 150, 40]\n",
    "})\n",
    "toko"
   ]
  },
  {
   "cell_type": "markdown",
   "metadata": {},
   "source": [
    "1. Jika Fafilia adalah seorang data analyst pada toko tersebuut, dia diminta untuk melakukan analisis terhadap data toko tersebut. Manakah dari kolom yang tersedia termasuk `category` atau `object`?\n",
    "    - [ ] jenis dan harga\n",
    "    - [ ] warna dan stok\n",
    "    - [v] jenis dan warna\n",
    "    - [ ] warna dan diskon\n",
    "  \n",
    "---\n",
    "\n",
    "2. Manakah kolom yang termasuk `integer`?\n",
    "    - [ ] diskon\n",
    "    - [v] stok\n",
    "    - [ ] jenis\n",
    "    - [ ] warna\n",
    "\n",
    "---\n",
    "\n",
    "3. Manakah yang termasuk tipe data `float` pada data toko diatas?\n",
    "    - [v] diskon\n",
    "    - [ ] stok\n",
    "    - [ ] jenis\n",
    "    - [ ] penjualan_mingguan"
   ]
  },
  {
   "cell_type": "markdown",
   "metadata": {},
   "source": [
    "## Eksplorasi Data"
   ]
  },
  {
   "cell_type": "markdown",
   "metadata": {},
   "source": [
    "Selain mengetahui tipe data, terkadang kita juga perlu melakukan eksplorasi lebih lanjut mengenai data yang kita gunakan. Beberapa hal yang bisa kita lakukan dalam melakukan eksplorasi data adalah sebagai berikut :\n",
    "\n",
    "- `.head()` dan `.tail()` : untuk menampilkan 5 data paling awal dan 5 data paling akhir\n",
    "- `.dtypes` : untuk mengecek tipe data\n",
    "- `.shape` : untuk mengetahui ukuran data tabel berdasarkan informasi baris dan kolomnya\n",
    "- `.size` : untuk mengetahui besarnya data tabel berdasarkan informasi baris dikali kolom\n",
    "- `.axes` : untuk mengetahui infomasi index names atau column names\n",
    "- `.describe()` : untuk mengetahui summary singkat dari data "
   ]
  },
  {
   "cell_type": "markdown",
   "metadata": {},
   "source": [
    "Untuk melakukan inspek kolom yang kita perlukan, kita bisa menggunakan `df['namakolom']` jika hanya satu kolom atau dengan menggunakan `df[['kolom1','kolom2',...]]`. Misalkan kita ingin menampilkan 5 data pertama dari kolom `division`, `salary`, dan `left`."
   ]
  },
  {
   "cell_type": "code",
   "execution_count": 23,
   "metadata": {},
   "outputs": [
    {
     "data": {
      "text/html": [
       "<div>\n",
       "<style scoped>\n",
       "    .dataframe tbody tr th:only-of-type {\n",
       "        vertical-align: middle;\n",
       "    }\n",
       "\n",
       "    .dataframe tbody tr th {\n",
       "        vertical-align: top;\n",
       "    }\n",
       "\n",
       "    .dataframe thead th {\n",
       "        text-align: right;\n",
       "    }\n",
       "</style>\n",
       "<table border=\"1\" class=\"dataframe\">\n",
       "  <thead>\n",
       "    <tr style=\"text-align: right;\">\n",
       "      <th></th>\n",
       "      <th>satisfaction_level</th>\n",
       "      <th>last_evaluation</th>\n",
       "      <th>number_project</th>\n",
       "      <th>average_montly_hours</th>\n",
       "      <th>time_spend_company</th>\n",
       "      <th>Work_accident</th>\n",
       "      <th>promotion_last_5years</th>\n",
       "      <th>division</th>\n",
       "      <th>salary</th>\n",
       "      <th>left</th>\n",
       "    </tr>\n",
       "  </thead>\n",
       "  <tbody>\n",
       "    <tr>\n",
       "      <th>0</th>\n",
       "      <td>0.82</td>\n",
       "      <td>0.68</td>\n",
       "      <td>3</td>\n",
       "      <td>140</td>\n",
       "      <td>2</td>\n",
       "      <td>0</td>\n",
       "      <td>0</td>\n",
       "      <td>sales</td>\n",
       "      <td>low</td>\n",
       "      <td>0</td>\n",
       "    </tr>\n",
       "    <tr>\n",
       "      <th>1</th>\n",
       "      <td>0.79</td>\n",
       "      <td>0.67</td>\n",
       "      <td>5</td>\n",
       "      <td>156</td>\n",
       "      <td>2</td>\n",
       "      <td>0</td>\n",
       "      <td>0</td>\n",
       "      <td>product_mng</td>\n",
       "      <td>low</td>\n",
       "      <td>0</td>\n",
       "    </tr>\n",
       "    <tr>\n",
       "      <th>2</th>\n",
       "      <td>0.73</td>\n",
       "      <td>0.95</td>\n",
       "      <td>3</td>\n",
       "      <td>149</td>\n",
       "      <td>2</td>\n",
       "      <td>0</td>\n",
       "      <td>0</td>\n",
       "      <td>support</td>\n",
       "      <td>low</td>\n",
       "      <td>0</td>\n",
       "    </tr>\n",
       "    <tr>\n",
       "      <th>3</th>\n",
       "      <td>0.92</td>\n",
       "      <td>0.78</td>\n",
       "      <td>3</td>\n",
       "      <td>218</td>\n",
       "      <td>3</td>\n",
       "      <td>0</td>\n",
       "      <td>0</td>\n",
       "      <td>technical</td>\n",
       "      <td>low</td>\n",
       "      <td>0</td>\n",
       "    </tr>\n",
       "    <tr>\n",
       "      <th>4</th>\n",
       "      <td>0.69</td>\n",
       "      <td>1.00</td>\n",
       "      <td>5</td>\n",
       "      <td>237</td>\n",
       "      <td>3</td>\n",
       "      <td>0</td>\n",
       "      <td>0</td>\n",
       "      <td>technical</td>\n",
       "      <td>high</td>\n",
       "      <td>0</td>\n",
       "    </tr>\n",
       "  </tbody>\n",
       "</table>\n",
       "</div>"
      ],
      "text/plain": [
       "   satisfaction_level  last_evaluation  number_project  average_montly_hours  \\\n",
       "0                0.82             0.68               3                   140   \n",
       "1                0.79             0.67               5                   156   \n",
       "2                0.73             0.95               3                   149   \n",
       "3                0.92             0.78               3                   218   \n",
       "4                0.69             1.00               5                   237   \n",
       "\n",
       "   time_spend_company  Work_accident  promotion_last_5years     division  \\\n",
       "0                   2              0                      0        sales   \n",
       "1                   2              0                      0  product_mng   \n",
       "2                   2              0                      0      support   \n",
       "3                   3              0                      0    technical   \n",
       "4                   3              0                      0    technical   \n",
       "\n",
       "  salary  left  \n",
       "0    low     0  \n",
       "1    low     0  \n",
       "2    low     0  \n",
       "3    low     0  \n",
       "4   high     0  "
      ]
     },
     "execution_count": 23,
     "metadata": {},
     "output_type": "execute_result"
    }
   ],
   "source": [
    "turnover = pd.read_csv(r\"C:\\Users\\Lenovo\\Desktop\\Machine Learning\\data\\turnover_balance.csv\")\n",
    "turnover.head()\n",
    "\n",
    "## Modif lokasi penyimpanan datanya"
   ]
  },
  {
   "cell_type": "code",
   "execution_count": 24,
   "metadata": {},
   "outputs": [
    {
     "data": {
      "text/html": [
       "<div>\n",
       "<style scoped>\n",
       "    .dataframe tbody tr th:only-of-type {\n",
       "        vertical-align: middle;\n",
       "    }\n",
       "\n",
       "    .dataframe tbody tr th {\n",
       "        vertical-align: top;\n",
       "    }\n",
       "\n",
       "    .dataframe thead th {\n",
       "        text-align: right;\n",
       "    }\n",
       "</style>\n",
       "<table border=\"1\" class=\"dataframe\">\n",
       "  <thead>\n",
       "    <tr style=\"text-align: right;\">\n",
       "      <th></th>\n",
       "      <th>division</th>\n",
       "      <th>salary</th>\n",
       "      <th>left</th>\n",
       "    </tr>\n",
       "  </thead>\n",
       "  <tbody>\n",
       "    <tr>\n",
       "      <th>0</th>\n",
       "      <td>sales</td>\n",
       "      <td>low</td>\n",
       "      <td>0</td>\n",
       "    </tr>\n",
       "    <tr>\n",
       "      <th>1</th>\n",
       "      <td>product_mng</td>\n",
       "      <td>low</td>\n",
       "      <td>0</td>\n",
       "    </tr>\n",
       "    <tr>\n",
       "      <th>2</th>\n",
       "      <td>support</td>\n",
       "      <td>low</td>\n",
       "      <td>0</td>\n",
       "    </tr>\n",
       "    <tr>\n",
       "      <th>3</th>\n",
       "      <td>technical</td>\n",
       "      <td>low</td>\n",
       "      <td>0</td>\n",
       "    </tr>\n",
       "    <tr>\n",
       "      <th>4</th>\n",
       "      <td>technical</td>\n",
       "      <td>high</td>\n",
       "      <td>0</td>\n",
       "    </tr>\n",
       "  </tbody>\n",
       "</table>\n",
       "</div>"
      ],
      "text/plain": [
       "      division salary  left\n",
       "0        sales    low     0\n",
       "1  product_mng    low     0\n",
       "2      support    low     0\n",
       "3    technical    low     0\n",
       "4    technical   high     0"
      ]
     },
     "execution_count": 24,
     "metadata": {},
     "output_type": "execute_result"
    }
   ],
   "source": [
    "turnover[['division', 'salary', 'left']].head()"
   ]
  },
  {
   "cell_type": "markdown",
   "metadata": {},
   "source": [
    "Kita bisa lakukan pengecekan berapa banyak data yang tersedia pada `turnover` data dengan menggunakan `.shape` atau `.size`."
   ]
  },
  {
   "cell_type": "code",
   "execution_count": 25,
   "metadata": {},
   "outputs": [
    {
     "data": {
      "text/plain": [
       "(7142, 10)"
      ]
     },
     "execution_count": 25,
     "metadata": {},
     "output_type": "execute_result"
    }
   ],
   "source": [
    "turnover.shape"
   ]
  },
  {
   "cell_type": "code",
   "execution_count": 26,
   "metadata": {},
   "outputs": [
    {
     "data": {
      "text/plain": [
       "71420"
      ]
     },
     "execution_count": 26,
     "metadata": {},
     "output_type": "execute_result"
    }
   ],
   "source": [
    "turnover.size"
   ]
  },
  {
   "cell_type": "markdown",
   "metadata": {},
   "source": [
    "Untuk bisa melakukan inspek nama kolom kita bisa menggunakan atribut `.axes[1]` sedangkan untuk melakukan inspek nama index bisa menggunakan atribut `.axes[0]`."
   ]
  },
  {
   "cell_type": "code",
   "execution_count": 27,
   "metadata": {},
   "outputs": [
    {
     "data": {
      "text/plain": [
       "Index(['satisfaction_level', 'last_evaluation', 'number_project',\n",
       "       'average_montly_hours', 'time_spend_company', 'Work_accident',\n",
       "       'promotion_last_5years', 'division', 'salary', 'left'],\n",
       "      dtype='object')"
      ]
     },
     "execution_count": 27,
     "metadata": {},
     "output_type": "execute_result"
    }
   ],
   "source": [
    "turnover.axes[1]"
   ]
  },
  {
   "cell_type": "markdown",
   "metadata": {},
   "source": [
    "Kita juga bisa menghitung banyaknya kolom yang ada pada suatu dataframe dengan menggunakan method `len()` dengan diikuti `df.axes[]`. Misalnya kita ingin menghitung banyaknya kolom pada dataframe `turnover`."
   ]
  },
  {
   "cell_type": "code",
   "execution_count": 28,
   "metadata": {},
   "outputs": [
    {
     "data": {
      "text/plain": [
       "10"
      ]
     },
     "execution_count": 28,
     "metadata": {},
     "output_type": "execute_result"
    }
   ],
   "source": [
    "len(turnover.axes[1])"
   ]
  },
  {
   "cell_type": "markdown",
   "metadata": {},
   "source": [
    "Terkadang kita juga membutuhkan informasi singkat dari rangkuman dari data yang kita miliki, kita bisa menggunakan `.describe()` untuk mendapatkan informasi dari rangkuman data kita."
   ]
  },
  {
   "cell_type": "code",
   "execution_count": 29,
   "metadata": {},
   "outputs": [
    {
     "data": {
      "text/html": [
       "<div>\n",
       "<style scoped>\n",
       "    .dataframe tbody tr th:only-of-type {\n",
       "        vertical-align: middle;\n",
       "    }\n",
       "\n",
       "    .dataframe tbody tr th {\n",
       "        vertical-align: top;\n",
       "    }\n",
       "\n",
       "    .dataframe thead th {\n",
       "        text-align: right;\n",
       "    }\n",
       "</style>\n",
       "<table border=\"1\" class=\"dataframe\">\n",
       "  <thead>\n",
       "    <tr style=\"text-align: right;\">\n",
       "      <th></th>\n",
       "      <th>satisfaction_level</th>\n",
       "      <th>last_evaluation</th>\n",
       "      <th>number_project</th>\n",
       "      <th>average_montly_hours</th>\n",
       "      <th>time_spend_company</th>\n",
       "      <th>Work_accident</th>\n",
       "      <th>promotion_last_5years</th>\n",
       "      <th>left</th>\n",
       "    </tr>\n",
       "  </thead>\n",
       "  <tbody>\n",
       "    <tr>\n",
       "      <th>count</th>\n",
       "      <td>7142.000000</td>\n",
       "      <td>7142.000000</td>\n",
       "      <td>7142.000000</td>\n",
       "      <td>7142.000000</td>\n",
       "      <td>7142.000000</td>\n",
       "      <td>7142.000000</td>\n",
       "      <td>7142.000000</td>\n",
       "      <td>7142.000000</td>\n",
       "    </tr>\n",
       "    <tr>\n",
       "      <th>mean</th>\n",
       "      <td>0.552569</td>\n",
       "      <td>0.715819</td>\n",
       "      <td>3.818818</td>\n",
       "      <td>203.366144</td>\n",
       "      <td>3.616074</td>\n",
       "      <td>0.108793</td>\n",
       "      <td>0.016802</td>\n",
       "      <td>0.500000</td>\n",
       "    </tr>\n",
       "    <tr>\n",
       "      <th>std</th>\n",
       "      <td>0.265043</td>\n",
       "      <td>0.181120</td>\n",
       "      <td>1.458167</td>\n",
       "      <td>54.195166</td>\n",
       "      <td>1.318875</td>\n",
       "      <td>0.311401</td>\n",
       "      <td>0.128538</td>\n",
       "      <td>0.500035</td>\n",
       "    </tr>\n",
       "    <tr>\n",
       "      <th>min</th>\n",
       "      <td>0.090000</td>\n",
       "      <td>0.360000</td>\n",
       "      <td>2.000000</td>\n",
       "      <td>97.000000</td>\n",
       "      <td>2.000000</td>\n",
       "      <td>0.000000</td>\n",
       "      <td>0.000000</td>\n",
       "      <td>0.000000</td>\n",
       "    </tr>\n",
       "    <tr>\n",
       "      <th>25%</th>\n",
       "      <td>0.380000</td>\n",
       "      <td>0.540000</td>\n",
       "      <td>2.000000</td>\n",
       "      <td>151.000000</td>\n",
       "      <td>3.000000</td>\n",
       "      <td>0.000000</td>\n",
       "      <td>0.000000</td>\n",
       "      <td>0.000000</td>\n",
       "    </tr>\n",
       "    <tr>\n",
       "      <th>50%</th>\n",
       "      <td>0.560000</td>\n",
       "      <td>0.730000</td>\n",
       "      <td>4.000000</td>\n",
       "      <td>205.000000</td>\n",
       "      <td>3.000000</td>\n",
       "      <td>0.000000</td>\n",
       "      <td>0.000000</td>\n",
       "      <td>0.500000</td>\n",
       "    </tr>\n",
       "    <tr>\n",
       "      <th>75%</th>\n",
       "      <td>0.780000</td>\n",
       "      <td>0.880000</td>\n",
       "      <td>5.000000</td>\n",
       "      <td>252.000000</td>\n",
       "      <td>4.000000</td>\n",
       "      <td>0.000000</td>\n",
       "      <td>0.000000</td>\n",
       "      <td>1.000000</td>\n",
       "    </tr>\n",
       "    <tr>\n",
       "      <th>max</th>\n",
       "      <td>1.000000</td>\n",
       "      <td>1.000000</td>\n",
       "      <td>7.000000</td>\n",
       "      <td>310.000000</td>\n",
       "      <td>10.000000</td>\n",
       "      <td>1.000000</td>\n",
       "      <td>1.000000</td>\n",
       "      <td>1.000000</td>\n",
       "    </tr>\n",
       "  </tbody>\n",
       "</table>\n",
       "</div>"
      ],
      "text/plain": [
       "       satisfaction_level  last_evaluation  number_project  \\\n",
       "count         7142.000000      7142.000000     7142.000000   \n",
       "mean             0.552569         0.715819        3.818818   \n",
       "std              0.265043         0.181120        1.458167   \n",
       "min              0.090000         0.360000        2.000000   \n",
       "25%              0.380000         0.540000        2.000000   \n",
       "50%              0.560000         0.730000        4.000000   \n",
       "75%              0.780000         0.880000        5.000000   \n",
       "max              1.000000         1.000000        7.000000   \n",
       "\n",
       "       average_montly_hours  time_spend_company  Work_accident  \\\n",
       "count           7142.000000         7142.000000    7142.000000   \n",
       "mean             203.366144            3.616074       0.108793   \n",
       "std               54.195166            1.318875       0.311401   \n",
       "min               97.000000            2.000000       0.000000   \n",
       "25%              151.000000            3.000000       0.000000   \n",
       "50%              205.000000            3.000000       0.000000   \n",
       "75%              252.000000            4.000000       0.000000   \n",
       "max              310.000000           10.000000       1.000000   \n",
       "\n",
       "       promotion_last_5years         left  \n",
       "count            7142.000000  7142.000000  \n",
       "mean                0.016802     0.500000  \n",
       "std                 0.128538     0.500035  \n",
       "min                 0.000000     0.000000  \n",
       "25%                 0.000000     0.000000  \n",
       "50%                 0.000000     0.500000  \n",
       "75%                 0.000000     1.000000  \n",
       "max                 1.000000     1.000000  "
      ]
     },
     "execution_count": 29,
     "metadata": {},
     "output_type": "execute_result"
    }
   ],
   "source": [
    "turnover.describe()"
   ]
  },
  {
   "cell_type": "markdown",
   "metadata": {},
   "source": [
    "Informasi yang dikeluarkan oleh `.describe()` adalah 8 pengukuran deskriptif statistik berupa:\n",
    "- Count\n",
    "- Mean\n",
    "- Standard Deviation\n",
    "- Minimum Value\n",
    "- 25th Percentile (Q1)\n",
    "- 50th Percentile (Q2/Median)\n",
    "- 75th Percentile (Q3)\n",
    "- Maximum Value\n",
    "\n",
    "Secara default, summary yang dikeluarkan oleh `.describe()` adalah summary dari kolom yang memiliki tipe data numeric. Apabila kita ingin menginputkan tipe data tertentu pada saat melakukan describe maka kita bisa gunakan parameter `include` untuk mendefinisikan tipe data yang akan dideskripsikan. \n",
    "\n",
    "Sebagai contoh disini kita akan coba menggunakan describe untuk tipe data object dan numeric."
   ]
  },
  {
   "cell_type": "code",
   "execution_count": 30,
   "metadata": {},
   "outputs": [
    {
     "data": {
      "text/html": [
       "<div>\n",
       "<style scoped>\n",
       "    .dataframe tbody tr th:only-of-type {\n",
       "        vertical-align: middle;\n",
       "    }\n",
       "\n",
       "    .dataframe tbody tr th {\n",
       "        vertical-align: top;\n",
       "    }\n",
       "\n",
       "    .dataframe thead th {\n",
       "        text-align: right;\n",
       "    }\n",
       "</style>\n",
       "<table border=\"1\" class=\"dataframe\">\n",
       "  <thead>\n",
       "    <tr style=\"text-align: right;\">\n",
       "      <th></th>\n",
       "      <th>satisfaction_level</th>\n",
       "      <th>last_evaluation</th>\n",
       "      <th>number_project</th>\n",
       "      <th>average_montly_hours</th>\n",
       "      <th>time_spend_company</th>\n",
       "      <th>Work_accident</th>\n",
       "      <th>promotion_last_5years</th>\n",
       "      <th>division</th>\n",
       "      <th>salary</th>\n",
       "      <th>left</th>\n",
       "    </tr>\n",
       "  </thead>\n",
       "  <tbody>\n",
       "    <tr>\n",
       "      <th>count</th>\n",
       "      <td>7142.000000</td>\n",
       "      <td>7142.000000</td>\n",
       "      <td>7142.000000</td>\n",
       "      <td>7142.000000</td>\n",
       "      <td>7142.000000</td>\n",
       "      <td>7142.000000</td>\n",
       "      <td>7142.000000</td>\n",
       "      <td>7142</td>\n",
       "      <td>7142</td>\n",
       "      <td>7142.000000</td>\n",
       "    </tr>\n",
       "    <tr>\n",
       "      <th>unique</th>\n",
       "      <td>NaN</td>\n",
       "      <td>NaN</td>\n",
       "      <td>NaN</td>\n",
       "      <td>NaN</td>\n",
       "      <td>NaN</td>\n",
       "      <td>NaN</td>\n",
       "      <td>NaN</td>\n",
       "      <td>10</td>\n",
       "      <td>3</td>\n",
       "      <td>NaN</td>\n",
       "    </tr>\n",
       "    <tr>\n",
       "      <th>top</th>\n",
       "      <td>NaN</td>\n",
       "      <td>NaN</td>\n",
       "      <td>NaN</td>\n",
       "      <td>NaN</td>\n",
       "      <td>NaN</td>\n",
       "      <td>NaN</td>\n",
       "      <td>NaN</td>\n",
       "      <td>sales</td>\n",
       "      <td>low</td>\n",
       "      <td>NaN</td>\n",
       "    </tr>\n",
       "    <tr>\n",
       "      <th>freq</th>\n",
       "      <td>NaN</td>\n",
       "      <td>NaN</td>\n",
       "      <td>NaN</td>\n",
       "      <td>NaN</td>\n",
       "      <td>NaN</td>\n",
       "      <td>NaN</td>\n",
       "      <td>NaN</td>\n",
       "      <td>1997</td>\n",
       "      <td>3773</td>\n",
       "      <td>NaN</td>\n",
       "    </tr>\n",
       "    <tr>\n",
       "      <th>mean</th>\n",
       "      <td>0.552569</td>\n",
       "      <td>0.715819</td>\n",
       "      <td>3.818818</td>\n",
       "      <td>203.366144</td>\n",
       "      <td>3.616074</td>\n",
       "      <td>0.108793</td>\n",
       "      <td>0.016802</td>\n",
       "      <td>NaN</td>\n",
       "      <td>NaN</td>\n",
       "      <td>0.500000</td>\n",
       "    </tr>\n",
       "    <tr>\n",
       "      <th>std</th>\n",
       "      <td>0.265043</td>\n",
       "      <td>0.181120</td>\n",
       "      <td>1.458167</td>\n",
       "      <td>54.195166</td>\n",
       "      <td>1.318875</td>\n",
       "      <td>0.311401</td>\n",
       "      <td>0.128538</td>\n",
       "      <td>NaN</td>\n",
       "      <td>NaN</td>\n",
       "      <td>0.500035</td>\n",
       "    </tr>\n",
       "    <tr>\n",
       "      <th>min</th>\n",
       "      <td>0.090000</td>\n",
       "      <td>0.360000</td>\n",
       "      <td>2.000000</td>\n",
       "      <td>97.000000</td>\n",
       "      <td>2.000000</td>\n",
       "      <td>0.000000</td>\n",
       "      <td>0.000000</td>\n",
       "      <td>NaN</td>\n",
       "      <td>NaN</td>\n",
       "      <td>0.000000</td>\n",
       "    </tr>\n",
       "    <tr>\n",
       "      <th>25%</th>\n",
       "      <td>0.380000</td>\n",
       "      <td>0.540000</td>\n",
       "      <td>2.000000</td>\n",
       "      <td>151.000000</td>\n",
       "      <td>3.000000</td>\n",
       "      <td>0.000000</td>\n",
       "      <td>0.000000</td>\n",
       "      <td>NaN</td>\n",
       "      <td>NaN</td>\n",
       "      <td>0.000000</td>\n",
       "    </tr>\n",
       "    <tr>\n",
       "      <th>50%</th>\n",
       "      <td>0.560000</td>\n",
       "      <td>0.730000</td>\n",
       "      <td>4.000000</td>\n",
       "      <td>205.000000</td>\n",
       "      <td>3.000000</td>\n",
       "      <td>0.000000</td>\n",
       "      <td>0.000000</td>\n",
       "      <td>NaN</td>\n",
       "      <td>NaN</td>\n",
       "      <td>0.500000</td>\n",
       "    </tr>\n",
       "    <tr>\n",
       "      <th>75%</th>\n",
       "      <td>0.780000</td>\n",
       "      <td>0.880000</td>\n",
       "      <td>5.000000</td>\n",
       "      <td>252.000000</td>\n",
       "      <td>4.000000</td>\n",
       "      <td>0.000000</td>\n",
       "      <td>0.000000</td>\n",
       "      <td>NaN</td>\n",
       "      <td>NaN</td>\n",
       "      <td>1.000000</td>\n",
       "    </tr>\n",
       "    <tr>\n",
       "      <th>max</th>\n",
       "      <td>1.000000</td>\n",
       "      <td>1.000000</td>\n",
       "      <td>7.000000</td>\n",
       "      <td>310.000000</td>\n",
       "      <td>10.000000</td>\n",
       "      <td>1.000000</td>\n",
       "      <td>1.000000</td>\n",
       "      <td>NaN</td>\n",
       "      <td>NaN</td>\n",
       "      <td>1.000000</td>\n",
       "    </tr>\n",
       "  </tbody>\n",
       "</table>\n",
       "</div>"
      ],
      "text/plain": [
       "        satisfaction_level  last_evaluation  number_project  \\\n",
       "count          7142.000000      7142.000000     7142.000000   \n",
       "unique                 NaN              NaN             NaN   \n",
       "top                    NaN              NaN             NaN   \n",
       "freq                   NaN              NaN             NaN   \n",
       "mean              0.552569         0.715819        3.818818   \n",
       "std               0.265043         0.181120        1.458167   \n",
       "min               0.090000         0.360000        2.000000   \n",
       "25%               0.380000         0.540000        2.000000   \n",
       "50%               0.560000         0.730000        4.000000   \n",
       "75%               0.780000         0.880000        5.000000   \n",
       "max               1.000000         1.000000        7.000000   \n",
       "\n",
       "        average_montly_hours  time_spend_company  Work_accident  \\\n",
       "count            7142.000000         7142.000000    7142.000000   \n",
       "unique                   NaN                 NaN            NaN   \n",
       "top                      NaN                 NaN            NaN   \n",
       "freq                     NaN                 NaN            NaN   \n",
       "mean              203.366144            3.616074       0.108793   \n",
       "std                54.195166            1.318875       0.311401   \n",
       "min                97.000000            2.000000       0.000000   \n",
       "25%               151.000000            3.000000       0.000000   \n",
       "50%               205.000000            3.000000       0.000000   \n",
       "75%               252.000000            4.000000       0.000000   \n",
       "max               310.000000           10.000000       1.000000   \n",
       "\n",
       "        promotion_last_5years division salary         left  \n",
       "count             7142.000000     7142   7142  7142.000000  \n",
       "unique                    NaN       10      3          NaN  \n",
       "top                       NaN    sales    low          NaN  \n",
       "freq                      NaN     1997   3773          NaN  \n",
       "mean                 0.016802      NaN    NaN     0.500000  \n",
       "std                  0.128538      NaN    NaN     0.500035  \n",
       "min                  0.000000      NaN    NaN     0.000000  \n",
       "25%                  0.000000      NaN    NaN     0.000000  \n",
       "50%                  0.000000      NaN    NaN     0.500000  \n",
       "75%                  0.000000      NaN    NaN     1.000000  \n",
       "max                  1.000000      NaN    NaN     1.000000  "
      ]
     },
     "execution_count": 30,
     "metadata": {},
     "output_type": "execute_result"
    }
   ],
   "source": [
    "turnover.describe(include = ['object', 'int64', 'float64'])"
   ]
  },
  {
   "cell_type": "markdown",
   "metadata": {},
   "source": [
    "Selain menggunakan `.describe()`, kita juga bisa menggunakan fungsi deksriptif statistik lain jika kita hanya ingin menampilkan spesifik nilai. Beberapa fungsi deskriptif statistik lain yang bisa digunakan yaitu:\n",
    "- `.mean()` : menampilkan rata-rata\n",
    "- `.sum()` : mendapatkan total nilai\n",
    "- `.min()` dan `.max()` : mendapatkan nilai terkecil dan terbesar\n",
    "- `.median()` : mendapatkan nilai tengah\n",
    "- `.quantile()` : mendapatkan nilai quartile dari data, secara default akan memunculkan nilai median\n"
   ]
  },
  {
   "cell_type": "markdown",
   "metadata": {},
   "source": [
    "> **!!!** Sedikit tips, kita bisa gunakan method `.info()` untuk menampilkan struktur suatu dataframe baik berupa banyaknya baris dan kolom, tipe data untuk masing-masing kolom, dan besarngya data yang kita gunakan."
   ]
  },
  {
   "cell_type": "code",
   "execution_count": 31,
   "metadata": {},
   "outputs": [
    {
     "name": "stdout",
     "output_type": "stream",
     "text": [
      "<class 'pandas.core.frame.DataFrame'>\n",
      "RangeIndex: 7142 entries, 0 to 7141\n",
      "Data columns (total 10 columns):\n",
      " #   Column                 Non-Null Count  Dtype  \n",
      "---  ------                 --------------  -----  \n",
      " 0   satisfaction_level     7142 non-null   float64\n",
      " 1   last_evaluation        7142 non-null   float64\n",
      " 2   number_project         7142 non-null   int64  \n",
      " 3   average_montly_hours   7142 non-null   int64  \n",
      " 4   time_spend_company     7142 non-null   int64  \n",
      " 5   Work_accident          7142 non-null   int64  \n",
      " 6   promotion_last_5years  7142 non-null   int64  \n",
      " 7   division               7142 non-null   object \n",
      " 8   salary                 7142 non-null   object \n",
      " 9   left                   7142 non-null   int64  \n",
      "dtypes: float64(2), int64(6), object(2)\n",
      "memory usage: 558.1+ KB\n"
     ]
    }
   ],
   "source": [
    "turnover.info()"
   ]
  },
  {
   "cell_type": "markdown",
   "metadata": {},
   "source": [
    "Sebagai data analyst, berdasarkan data yang kita miliki, kita ingin mencoba mencari tahu berapa besar rata-rata jam kerja bulanan dan rata-rata lama bekerja di perusahaan. Untuk mengetahui nilai rata-rata pada suatu series bisa menggunakan `.mean()`."
   ]
  },
  {
   "cell_type": "code",
   "execution_count": 32,
   "metadata": {},
   "outputs": [
    {
     "data": {
      "text/plain": [
       "203.36614393727248"
      ]
     },
     "execution_count": 32,
     "metadata": {},
     "output_type": "execute_result"
    }
   ],
   "source": [
    "turnover[\"average_montly_hours\"].mean()"
   ]
  },
  {
   "cell_type": "markdown",
   "metadata": {},
   "source": [
    "Berdasarkan data yang ada, diketahui bahwa rata-rata pekerja yang ada yaitu sebesar 203 jam per bulan. Atau jika dikonversikan ke dalam hari yaitu rata-rata jam kerjanya sebesar 10 jam per hari."
   ]
  },
  {
   "cell_type": "code",
   "execution_count": 33,
   "metadata": {},
   "outputs": [
    {
     "data": {
      "text/plain": [
       "3.6160739288714647"
      ]
     },
     "execution_count": 33,
     "metadata": {},
     "output_type": "execute_result"
    }
   ],
   "source": [
    "turnover[\"time_spend_company\"].mean()"
   ]
  },
  {
   "cell_type": "markdown",
   "metadata": {},
   "source": [
    "Berdasarkan data yang ada, diketahui bahwa rata-rata lama bekerja dalam suatu perusahaan yaitu 3.6 tahun. "
   ]
  },
  {
   "cell_type": "markdown",
   "metadata": {},
   "source": [
    "Sebelumnya, kita sudah memiliki data `turnover` dengan tipe data untuk masing-maisng kolom sebagai berikut."
   ]
  },
  {
   "cell_type": "code",
   "execution_count": 34,
   "metadata": {},
   "outputs": [
    {
     "data": {
      "text/plain": [
       "satisfaction_level       float64\n",
       "last_evaluation          float64\n",
       "number_project             int64\n",
       "average_montly_hours       int64\n",
       "time_spend_company         int64\n",
       "Work_accident              int64\n",
       "promotion_last_5years      int64\n",
       "division                  object\n",
       "salary                    object\n",
       "left                       int64\n",
       "dtype: object"
      ]
     },
     "execution_count": 34,
     "metadata": {},
     "output_type": "execute_result"
    }
   ],
   "source": [
    "turnover.dtypes"
   ]
  },
  {
   "cell_type": "markdown",
   "metadata": {},
   "source": [
    "Pada part sebelumnya kita sudah mencoba untuk mengubah kolom `division` dan `salary` tipe data object menjadi `category` dengan menggunakan method `astype()`. Jika kita perhatikan sekali lagi pada data `turnover`, masih terdapat beberapa kolom yang belum tepat tipe datanya berdasarkan informasi pada kolom tersebut. Oleh karena itu, coba ubah beberapa kolom yang seharusnya `category` dari kolom yang ada."
   ]
  },
  {
   "cell_type": "code",
   "execution_count": 35,
   "metadata": {},
   "outputs": [
    {
     "data": {
      "text/html": [
       "<div>\n",
       "<style scoped>\n",
       "    .dataframe tbody tr th:only-of-type {\n",
       "        vertical-align: middle;\n",
       "    }\n",
       "\n",
       "    .dataframe tbody tr th {\n",
       "        vertical-align: top;\n",
       "    }\n",
       "\n",
       "    .dataframe thead th {\n",
       "        text-align: right;\n",
       "    }\n",
       "</style>\n",
       "<table border=\"1\" class=\"dataframe\">\n",
       "  <thead>\n",
       "    <tr style=\"text-align: right;\">\n",
       "      <th></th>\n",
       "      <th>satisfaction_level</th>\n",
       "      <th>last_evaluation</th>\n",
       "      <th>number_project</th>\n",
       "      <th>average_montly_hours</th>\n",
       "      <th>time_spend_company</th>\n",
       "      <th>Work_accident</th>\n",
       "      <th>promotion_last_5years</th>\n",
       "      <th>division</th>\n",
       "      <th>salary</th>\n",
       "      <th>left</th>\n",
       "    </tr>\n",
       "  </thead>\n",
       "  <tbody>\n",
       "    <tr>\n",
       "      <th>0</th>\n",
       "      <td>0.82</td>\n",
       "      <td>0.68</td>\n",
       "      <td>3</td>\n",
       "      <td>140</td>\n",
       "      <td>2</td>\n",
       "      <td>0</td>\n",
       "      <td>0</td>\n",
       "      <td>sales</td>\n",
       "      <td>low</td>\n",
       "      <td>0</td>\n",
       "    </tr>\n",
       "    <tr>\n",
       "      <th>1</th>\n",
       "      <td>0.79</td>\n",
       "      <td>0.67</td>\n",
       "      <td>5</td>\n",
       "      <td>156</td>\n",
       "      <td>2</td>\n",
       "      <td>0</td>\n",
       "      <td>0</td>\n",
       "      <td>product_mng</td>\n",
       "      <td>low</td>\n",
       "      <td>0</td>\n",
       "    </tr>\n",
       "    <tr>\n",
       "      <th>2</th>\n",
       "      <td>0.73</td>\n",
       "      <td>0.95</td>\n",
       "      <td>3</td>\n",
       "      <td>149</td>\n",
       "      <td>2</td>\n",
       "      <td>0</td>\n",
       "      <td>0</td>\n",
       "      <td>support</td>\n",
       "      <td>low</td>\n",
       "      <td>0</td>\n",
       "    </tr>\n",
       "    <tr>\n",
       "      <th>3</th>\n",
       "      <td>0.92</td>\n",
       "      <td>0.78</td>\n",
       "      <td>3</td>\n",
       "      <td>218</td>\n",
       "      <td>3</td>\n",
       "      <td>0</td>\n",
       "      <td>0</td>\n",
       "      <td>technical</td>\n",
       "      <td>low</td>\n",
       "      <td>0</td>\n",
       "    </tr>\n",
       "    <tr>\n",
       "      <th>4</th>\n",
       "      <td>0.69</td>\n",
       "      <td>1.00</td>\n",
       "      <td>5</td>\n",
       "      <td>237</td>\n",
       "      <td>3</td>\n",
       "      <td>0</td>\n",
       "      <td>0</td>\n",
       "      <td>technical</td>\n",
       "      <td>high</td>\n",
       "      <td>0</td>\n",
       "    </tr>\n",
       "  </tbody>\n",
       "</table>\n",
       "</div>"
      ],
      "text/plain": [
       "   satisfaction_level  last_evaluation  number_project  average_montly_hours  \\\n",
       "0                0.82             0.68               3                   140   \n",
       "1                0.79             0.67               5                   156   \n",
       "2                0.73             0.95               3                   149   \n",
       "3                0.92             0.78               3                   218   \n",
       "4                0.69             1.00               5                   237   \n",
       "\n",
       "   time_spend_company  Work_accident  promotion_last_5years     division  \\\n",
       "0                   2              0                      0        sales   \n",
       "1                   2              0                      0  product_mng   \n",
       "2                   2              0                      0      support   \n",
       "3                   3              0                      0    technical   \n",
       "4                   3              0                      0    technical   \n",
       "\n",
       "  salary  left  \n",
       "0    low     0  \n",
       "1    low     0  \n",
       "2    low     0  \n",
       "3    low     0  \n",
       "4   high     0  "
      ]
     },
     "execution_count": 35,
     "metadata": {},
     "output_type": "execute_result"
    }
   ],
   "source": [
    "turnover.head()"
   ]
  },
  {
   "cell_type": "code",
   "execution_count": 36,
   "metadata": {},
   "outputs": [
    {
     "data": {
      "text/plain": [
       "satisfaction_level        float64\n",
       "last_evaluation           float64\n",
       "number_project              int64\n",
       "average_montly_hours        int64\n",
       "time_spend_company       category\n",
       "Work_accident            category\n",
       "promotion_last_5years    category\n",
       "division                 category\n",
       "salary                   category\n",
       "left                     category\n",
       "dtype: object"
      ]
     },
     "execution_count": 36,
     "metadata": {},
     "output_type": "execute_result"
    }
   ],
   "source": [
    "## your code here\n",
    "\n",
    "## Merubah beberapa tipe kolom menjadi tipe category\n",
    "\n",
    "turnover[[\"time_spend_company\", \"Work_accident\", \"promotion_last_5years\", \"division\", \"salary\", \"left\"]] =\\\n",
    "turnover[[\"time_spend_company\", \"Work_accident\", \"promotion_last_5years\", \"division\", \"salary\", \"left\"]].astype(\"category\")\n",
    "\n",
    "turnover.dtypes"
   ]
  },
  {
   "cell_type": "markdown",
   "metadata": {},
   "source": [
    "### Quiz 3"
   ]
  },
  {
   "cell_type": "markdown",
   "metadata": {},
   "source": [
    "Berdasarkan data `turnover` yang kita miliki, jawablah beberapa pertanyaan berikut ini.\n",
    "\n",
    "1. Method apakah yang bisa kita gunakan untuk mendapatkan informasi tipe data, banyaknya kolom dan baris, serta nama-nama kolom dari dataframe `turnover`?\n",
    "    - [ ] `.describe()`\n",
    "    - [ ] `.head()`\n",
    "    - [v] `.info()`\n",
    "    - [ ] `.shape`\n",
    "    \n",
    "> **!!!** Sedikit tips, kita bisa gunakan method `.info()` untuk menampilkan struktur suatu dataframe baik berupa banyaknya baris dan kolom, tipe data untuk masing-masing kolom, dan besarngya data yang kita gunakan.\n",
    "\n",
    "---\n",
    "\n",
    "2. Berapakah rata-rata `satisfaction_level` yang diberikan oleh seluruh karyawan pada data `turnover`?\n",
    "    - [v] 0.55\n",
    "    - [ ] 0.56\n",
    "    - [ ] 1.0\n",
    "    - [ ] 0.78\n",
    "\n",
    "> **!!!** turnover[\"satisfaction_level\"].mean()\n",
    "---\n",
    "\n",
    "3. Jika kita ingin mengetahui nilai quartile ke-3 dari kolom yang memiliki tipe data numeric, manakah code dibawah ini yang tepat?\n",
    "    - [ ] `turnover.quantile(0.25)`\n",
    "    - [v] `turnover.quantile(0.75)`\n",
    "    - [ ] `turnover.quantile(0.75, numeric_only=True)`\n",
    "    \n",
    "> **!!!** Selain menggunakan `.describe()`, kita juga bisa menggunakan fungsi deksriptif statistik lain jika kita hanya ingin menampilkan spesifik nilai. Beberapa fungsi deskriptif statistik lain yang bisa digunakan yaitu:\n",
    "- `.quantile()` : mendapatkan nilai quartile dari data, secara default akan memunculkan nilai median\n",
    "- 75th Percentile (Q3)"
   ]
  },
  {
   "cell_type": "markdown",
   "metadata": {},
   "source": [
    "## Indexing dan Subsetting  "
   ]
  },
  {
   "cell_type": "markdown",
   "metadata": {},
   "source": [
    "Jika berbicara mengenai analisis data, terkadang kita juga melakukan slicing atau subsetting pada data-data dengan kondisi tertentu. Secara umum apabila kita ingin melakukan subsetting dan indexing pada dataframe pada python yang disupport oleh `pandas`, kita bisa menggunakan beberapa cara berikut:\n",
    "\n",
    "- `df[start:end]` : untuk melakukan subset berdasarkan index baris tertentu secara terurut\n",
    "- `.loc[]` : untuk melakukan subset pada nama baris atau nama kolom tertentu\n",
    "- `.iloc[]` : untuk melakukan subset menggunakan index baris atau kolom tertentu\n",
    "- `df['column_name']` : untuk melakukan subset berdasarkan nama kolom tertentu\n",
    "- `select_dtypes()` : untuk melakukan subset berdasarkan tipe data tertentu\n",
    "- `.drop()` : untuk menghilangkan nilai tertentu"
   ]
  },
  {
   "cell_type": "markdown",
   "metadata": {},
   "source": [
    "Beberapa cara diatas dapat digunakan sesuai dengan kondisi-kondisi tertentu. Beberapa sudah banyak dijelaskan pada course material **Python for Data Analyst**. \n",
    "\n",
    "Sebagai contoh misalnya kita hanya tertarik pada tipe data object pada data `turnover` untuk kita buat summary nya. Kita bisa menggunakan `select_dtypes()` untuk memilih tipe data yang kita inginkan."
   ]
  },
  {
   "cell_type": "code",
   "execution_count": 37,
   "metadata": {},
   "outputs": [],
   "source": [
    "turnover = pd.read_csv(r\"C:\\Users\\Lenovo\\Desktop\\Machine Learning\\data\\turnover_balance.csv\")"
   ]
  },
  {
   "cell_type": "code",
   "execution_count": 38,
   "metadata": {},
   "outputs": [
    {
     "data": {
      "text/html": [
       "<div>\n",
       "<style scoped>\n",
       "    .dataframe tbody tr th:only-of-type {\n",
       "        vertical-align: middle;\n",
       "    }\n",
       "\n",
       "    .dataframe tbody tr th {\n",
       "        vertical-align: top;\n",
       "    }\n",
       "\n",
       "    .dataframe thead th {\n",
       "        text-align: right;\n",
       "    }\n",
       "</style>\n",
       "<table border=\"1\" class=\"dataframe\">\n",
       "  <thead>\n",
       "    <tr style=\"text-align: right;\">\n",
       "      <th></th>\n",
       "      <th>division</th>\n",
       "      <th>salary</th>\n",
       "    </tr>\n",
       "  </thead>\n",
       "  <tbody>\n",
       "    <tr>\n",
       "      <th>count</th>\n",
       "      <td>7142</td>\n",
       "      <td>7142</td>\n",
       "    </tr>\n",
       "    <tr>\n",
       "      <th>unique</th>\n",
       "      <td>10</td>\n",
       "      <td>3</td>\n",
       "    </tr>\n",
       "    <tr>\n",
       "      <th>top</th>\n",
       "      <td>sales</td>\n",
       "      <td>low</td>\n",
       "    </tr>\n",
       "    <tr>\n",
       "      <th>freq</th>\n",
       "      <td>1997</td>\n",
       "      <td>3773</td>\n",
       "    </tr>\n",
       "  </tbody>\n",
       "</table>\n",
       "</div>"
      ],
      "text/plain": [
       "       division salary\n",
       "count      7142   7142\n",
       "unique       10      3\n",
       "top       sales    low\n",
       "freq       1997   3773"
      ]
     },
     "execution_count": 38,
     "metadata": {},
     "output_type": "execute_result"
    }
   ],
   "source": [
    "turnover.select_dtypes('object').describe()    # select_dtypes(\"object\") membaca tipe data object saja"
   ]
  },
  {
   "cell_type": "markdown",
   "metadata": {},
   "source": [
    "Misalnya kita ingin melakukan subset data ke-8 hingga ke-15 pada kolom 'average_montly_hours' dan 'time_spend_company' dimana jika dalam index pada data karena python memiliki index yang berawal dari angka 0 maka kita ingin mengambil data index ke-7 hingga ke-14. \n",
    "\n",
    "Urutan nilai pada python akan diawali dengan index ke 0 hingga index-1, jadi apabila kita menuliskan urutan index ke-7 hingga ke-14, maka yang akan muncul adalah data dari index ke-7 hingga ke-13.\n",
    "\n",
    "Oleh karena itu apabila kita ingin melakukan subset untuk data ke-8 hingga ke-15 maka kita tulis indexnya dari 7 hingga 15."
   ]
  },
  {
   "cell_type": "code",
   "execution_count": 39,
   "metadata": {},
   "outputs": [
    {
     "data": {
      "text/html": [
       "<div>\n",
       "<style scoped>\n",
       "    .dataframe tbody tr th:only-of-type {\n",
       "        vertical-align: middle;\n",
       "    }\n",
       "\n",
       "    .dataframe tbody tr th {\n",
       "        vertical-align: top;\n",
       "    }\n",
       "\n",
       "    .dataframe thead th {\n",
       "        text-align: right;\n",
       "    }\n",
       "</style>\n",
       "<table border=\"1\" class=\"dataframe\">\n",
       "  <thead>\n",
       "    <tr style=\"text-align: right;\">\n",
       "      <th></th>\n",
       "      <th>satisfaction_level</th>\n",
       "      <th>last_evaluation</th>\n",
       "      <th>number_project</th>\n",
       "      <th>average_montly_hours</th>\n",
       "      <th>time_spend_company</th>\n",
       "      <th>Work_accident</th>\n",
       "      <th>promotion_last_5years</th>\n",
       "      <th>division</th>\n",
       "      <th>salary</th>\n",
       "      <th>left</th>\n",
       "    </tr>\n",
       "  </thead>\n",
       "  <tbody>\n",
       "    <tr>\n",
       "      <th>7</th>\n",
       "      <td>0.51</td>\n",
       "      <td>0.73</td>\n",
       "      <td>4</td>\n",
       "      <td>229</td>\n",
       "      <td>3</td>\n",
       "      <td>0</td>\n",
       "      <td>0</td>\n",
       "      <td>sales</td>\n",
       "      <td>low</td>\n",
       "      <td>0</td>\n",
       "    </tr>\n",
       "    <tr>\n",
       "      <th>8</th>\n",
       "      <td>0.88</td>\n",
       "      <td>0.99</td>\n",
       "      <td>3</td>\n",
       "      <td>190</td>\n",
       "      <td>5</td>\n",
       "      <td>0</td>\n",
       "      <td>0</td>\n",
       "      <td>technical</td>\n",
       "      <td>high</td>\n",
       "      <td>0</td>\n",
       "    </tr>\n",
       "    <tr>\n",
       "      <th>9</th>\n",
       "      <td>0.76</td>\n",
       "      <td>0.85</td>\n",
       "      <td>3</td>\n",
       "      <td>192</td>\n",
       "      <td>3</td>\n",
       "      <td>0</td>\n",
       "      <td>0</td>\n",
       "      <td>marketing</td>\n",
       "      <td>low</td>\n",
       "      <td>0</td>\n",
       "    </tr>\n",
       "    <tr>\n",
       "      <th>10</th>\n",
       "      <td>0.55</td>\n",
       "      <td>0.55</td>\n",
       "      <td>4</td>\n",
       "      <td>257</td>\n",
       "      <td>3</td>\n",
       "      <td>0</td>\n",
       "      <td>0</td>\n",
       "      <td>product_mng</td>\n",
       "      <td>low</td>\n",
       "      <td>0</td>\n",
       "    </tr>\n",
       "    <tr>\n",
       "      <th>11</th>\n",
       "      <td>0.43</td>\n",
       "      <td>0.46</td>\n",
       "      <td>2</td>\n",
       "      <td>186</td>\n",
       "      <td>2</td>\n",
       "      <td>0</td>\n",
       "      <td>0</td>\n",
       "      <td>product_mng</td>\n",
       "      <td>low</td>\n",
       "      <td>0</td>\n",
       "    </tr>\n",
       "    <tr>\n",
       "      <th>12</th>\n",
       "      <td>0.80</td>\n",
       "      <td>0.87</td>\n",
       "      <td>5</td>\n",
       "      <td>251</td>\n",
       "      <td>3</td>\n",
       "      <td>0</td>\n",
       "      <td>0</td>\n",
       "      <td>sales</td>\n",
       "      <td>medium</td>\n",
       "      <td>0</td>\n",
       "    </tr>\n",
       "    <tr>\n",
       "      <th>13</th>\n",
       "      <td>0.64</td>\n",
       "      <td>0.67</td>\n",
       "      <td>5</td>\n",
       "      <td>167</td>\n",
       "      <td>2</td>\n",
       "      <td>0</td>\n",
       "      <td>0</td>\n",
       "      <td>sales</td>\n",
       "      <td>low</td>\n",
       "      <td>0</td>\n",
       "    </tr>\n",
       "    <tr>\n",
       "      <th>14</th>\n",
       "      <td>0.84</td>\n",
       "      <td>0.37</td>\n",
       "      <td>5</td>\n",
       "      <td>186</td>\n",
       "      <td>2</td>\n",
       "      <td>0</td>\n",
       "      <td>0</td>\n",
       "      <td>technical</td>\n",
       "      <td>medium</td>\n",
       "      <td>0</td>\n",
       "    </tr>\n",
       "  </tbody>\n",
       "</table>\n",
       "</div>"
      ],
      "text/plain": [
       "    satisfaction_level  last_evaluation  number_project  average_montly_hours  \\\n",
       "7                 0.51             0.73               4                   229   \n",
       "8                 0.88             0.99               3                   190   \n",
       "9                 0.76             0.85               3                   192   \n",
       "10                0.55             0.55               4                   257   \n",
       "11                0.43             0.46               2                   186   \n",
       "12                0.80             0.87               5                   251   \n",
       "13                0.64             0.67               5                   167   \n",
       "14                0.84             0.37               5                   186   \n",
       "\n",
       "    time_spend_company  Work_accident  promotion_last_5years     division  \\\n",
       "7                    3              0                      0        sales   \n",
       "8                    5              0                      0    technical   \n",
       "9                    3              0                      0    marketing   \n",
       "10                   3              0                      0  product_mng   \n",
       "11                   2              0                      0  product_mng   \n",
       "12                   3              0                      0        sales   \n",
       "13                   2              0                      0        sales   \n",
       "14                   2              0                      0    technical   \n",
       "\n",
       "    salary  left  \n",
       "7      low     0  \n",
       "8     high     0  \n",
       "9      low     0  \n",
       "10     low     0  \n",
       "11     low     0  \n",
       "12  medium     0  \n",
       "13     low     0  \n",
       "14  medium     0  "
      ]
     },
     "execution_count": 39,
     "metadata": {},
     "output_type": "execute_result"
    }
   ],
   "source": [
    "turnover[7:15]"
   ]
  },
  {
   "cell_type": "code",
   "execution_count": 40,
   "metadata": {
    "scrolled": true
   },
   "outputs": [
    {
     "data": {
      "text/html": [
       "<div>\n",
       "<style scoped>\n",
       "    .dataframe tbody tr th:only-of-type {\n",
       "        vertical-align: middle;\n",
       "    }\n",
       "\n",
       "    .dataframe tbody tr th {\n",
       "        vertical-align: top;\n",
       "    }\n",
       "\n",
       "    .dataframe thead th {\n",
       "        text-align: right;\n",
       "    }\n",
       "</style>\n",
       "<table border=\"1\" class=\"dataframe\">\n",
       "  <thead>\n",
       "    <tr style=\"text-align: right;\">\n",
       "      <th></th>\n",
       "      <th>average_montly_hours</th>\n",
       "      <th>time_spend_company</th>\n",
       "    </tr>\n",
       "  </thead>\n",
       "  <tbody>\n",
       "    <tr>\n",
       "      <th>7</th>\n",
       "      <td>229</td>\n",
       "      <td>3</td>\n",
       "    </tr>\n",
       "    <tr>\n",
       "      <th>8</th>\n",
       "      <td>190</td>\n",
       "      <td>5</td>\n",
       "    </tr>\n",
       "    <tr>\n",
       "      <th>9</th>\n",
       "      <td>192</td>\n",
       "      <td>3</td>\n",
       "    </tr>\n",
       "    <tr>\n",
       "      <th>10</th>\n",
       "      <td>257</td>\n",
       "      <td>3</td>\n",
       "    </tr>\n",
       "    <tr>\n",
       "      <th>11</th>\n",
       "      <td>186</td>\n",
       "      <td>2</td>\n",
       "    </tr>\n",
       "    <tr>\n",
       "      <th>12</th>\n",
       "      <td>251</td>\n",
       "      <td>3</td>\n",
       "    </tr>\n",
       "    <tr>\n",
       "      <th>13</th>\n",
       "      <td>167</td>\n",
       "      <td>2</td>\n",
       "    </tr>\n",
       "    <tr>\n",
       "      <th>14</th>\n",
       "      <td>186</td>\n",
       "      <td>2</td>\n",
       "    </tr>\n",
       "  </tbody>\n",
       "</table>\n",
       "</div>"
      ],
      "text/plain": [
       "    average_montly_hours  time_spend_company\n",
       "7                    229                   3\n",
       "8                    190                   5\n",
       "9                    192                   3\n",
       "10                   257                   3\n",
       "11                   186                   2\n",
       "12                   251                   3\n",
       "13                   167                   2\n",
       "14                   186                   2"
      ]
     },
     "execution_count": 40,
     "metadata": {},
     "output_type": "execute_result"
    }
   ],
   "source": [
    "turnover[7:15].loc[:,['average_montly_hours','time_spend_company']]"
   ]
  },
  {
   "cell_type": "markdown",
   "metadata": {},
   "source": [
    "Penggunaan code diatas akan sama dengan code dibawah ini jika kita menerapkan penggunaan `loc[]` dan `iloc[]`."
   ]
  },
  {
   "cell_type": "code",
   "execution_count": 41,
   "metadata": {},
   "outputs": [
    {
     "data": {
      "text/html": [
       "<div>\n",
       "<style scoped>\n",
       "    .dataframe tbody tr th:only-of-type {\n",
       "        vertical-align: middle;\n",
       "    }\n",
       "\n",
       "    .dataframe tbody tr th {\n",
       "        vertical-align: top;\n",
       "    }\n",
       "\n",
       "    .dataframe thead th {\n",
       "        text-align: right;\n",
       "    }\n",
       "</style>\n",
       "<table border=\"1\" class=\"dataframe\">\n",
       "  <thead>\n",
       "    <tr style=\"text-align: right;\">\n",
       "      <th></th>\n",
       "      <th>average_montly_hours</th>\n",
       "      <th>time_spend_company</th>\n",
       "    </tr>\n",
       "  </thead>\n",
       "  <tbody>\n",
       "    <tr>\n",
       "      <th>7</th>\n",
       "      <td>229</td>\n",
       "      <td>3</td>\n",
       "    </tr>\n",
       "    <tr>\n",
       "      <th>8</th>\n",
       "      <td>190</td>\n",
       "      <td>5</td>\n",
       "    </tr>\n",
       "    <tr>\n",
       "      <th>9</th>\n",
       "      <td>192</td>\n",
       "      <td>3</td>\n",
       "    </tr>\n",
       "    <tr>\n",
       "      <th>10</th>\n",
       "      <td>257</td>\n",
       "      <td>3</td>\n",
       "    </tr>\n",
       "    <tr>\n",
       "      <th>11</th>\n",
       "      <td>186</td>\n",
       "      <td>2</td>\n",
       "    </tr>\n",
       "    <tr>\n",
       "      <th>12</th>\n",
       "      <td>251</td>\n",
       "      <td>3</td>\n",
       "    </tr>\n",
       "    <tr>\n",
       "      <th>13</th>\n",
       "      <td>167</td>\n",
       "      <td>2</td>\n",
       "    </tr>\n",
       "    <tr>\n",
       "      <th>14</th>\n",
       "      <td>186</td>\n",
       "      <td>2</td>\n",
       "    </tr>\n",
       "    <tr>\n",
       "      <th>15</th>\n",
       "      <td>224</td>\n",
       "      <td>2</td>\n",
       "    </tr>\n",
       "  </tbody>\n",
       "</table>\n",
       "</div>"
      ],
      "text/plain": [
       "    average_montly_hours  time_spend_company\n",
       "7                    229                   3\n",
       "8                    190                   5\n",
       "9                    192                   3\n",
       "10                   257                   3\n",
       "11                   186                   2\n",
       "12                   251                   3\n",
       "13                   167                   2\n",
       "14                   186                   2\n",
       "15                   224                   2"
      ]
     },
     "execution_count": 41,
     "metadata": {},
     "output_type": "execute_result"
    }
   ],
   "source": [
    "turnover.iloc[7:16,:].loc[:,['average_montly_hours','time_spend_company']]"
   ]
  },
  {
   "cell_type": "markdown",
   "metadata": {},
   "source": [
    "Kebalikan dari `loc[]` dan `iloc[]`, `drop()` dapat kita gunakan untuk menghapus nilai tertentu pada data. \n",
    "\n",
    "Misalnya kita ingin menghapus kolom 'average_montly_hours' dan 'time_spend_company' pada data `turnover`."
   ]
  },
  {
   "cell_type": "code",
   "execution_count": 42,
   "metadata": {},
   "outputs": [
    {
     "data": {
      "text/html": [
       "<div>\n",
       "<style scoped>\n",
       "    .dataframe tbody tr th:only-of-type {\n",
       "        vertical-align: middle;\n",
       "    }\n",
       "\n",
       "    .dataframe tbody tr th {\n",
       "        vertical-align: top;\n",
       "    }\n",
       "\n",
       "    .dataframe thead th {\n",
       "        text-align: right;\n",
       "    }\n",
       "</style>\n",
       "<table border=\"1\" class=\"dataframe\">\n",
       "  <thead>\n",
       "    <tr style=\"text-align: right;\">\n",
       "      <th></th>\n",
       "      <th>satisfaction_level</th>\n",
       "      <th>last_evaluation</th>\n",
       "      <th>number_project</th>\n",
       "      <th>Work_accident</th>\n",
       "      <th>promotion_last_5years</th>\n",
       "      <th>division</th>\n",
       "      <th>salary</th>\n",
       "      <th>left</th>\n",
       "    </tr>\n",
       "  </thead>\n",
       "  <tbody>\n",
       "    <tr>\n",
       "      <th>0</th>\n",
       "      <td>0.82</td>\n",
       "      <td>0.68</td>\n",
       "      <td>3</td>\n",
       "      <td>0</td>\n",
       "      <td>0</td>\n",
       "      <td>sales</td>\n",
       "      <td>low</td>\n",
       "      <td>0</td>\n",
       "    </tr>\n",
       "    <tr>\n",
       "      <th>1</th>\n",
       "      <td>0.79</td>\n",
       "      <td>0.67</td>\n",
       "      <td>5</td>\n",
       "      <td>0</td>\n",
       "      <td>0</td>\n",
       "      <td>product_mng</td>\n",
       "      <td>low</td>\n",
       "      <td>0</td>\n",
       "    </tr>\n",
       "    <tr>\n",
       "      <th>2</th>\n",
       "      <td>0.73</td>\n",
       "      <td>0.95</td>\n",
       "      <td>3</td>\n",
       "      <td>0</td>\n",
       "      <td>0</td>\n",
       "      <td>support</td>\n",
       "      <td>low</td>\n",
       "      <td>0</td>\n",
       "    </tr>\n",
       "    <tr>\n",
       "      <th>3</th>\n",
       "      <td>0.92</td>\n",
       "      <td>0.78</td>\n",
       "      <td>3</td>\n",
       "      <td>0</td>\n",
       "      <td>0</td>\n",
       "      <td>technical</td>\n",
       "      <td>low</td>\n",
       "      <td>0</td>\n",
       "    </tr>\n",
       "    <tr>\n",
       "      <th>4</th>\n",
       "      <td>0.69</td>\n",
       "      <td>1.00</td>\n",
       "      <td>5</td>\n",
       "      <td>0</td>\n",
       "      <td>0</td>\n",
       "      <td>technical</td>\n",
       "      <td>high</td>\n",
       "      <td>0</td>\n",
       "    </tr>\n",
       "    <tr>\n",
       "      <th>...</th>\n",
       "      <td>...</td>\n",
       "      <td>...</td>\n",
       "      <td>...</td>\n",
       "      <td>...</td>\n",
       "      <td>...</td>\n",
       "      <td>...</td>\n",
       "      <td>...</td>\n",
       "      <td>...</td>\n",
       "    </tr>\n",
       "    <tr>\n",
       "      <th>7137</th>\n",
       "      <td>0.11</td>\n",
       "      <td>0.89</td>\n",
       "      <td>6</td>\n",
       "      <td>0</td>\n",
       "      <td>0</td>\n",
       "      <td>sales</td>\n",
       "      <td>medium</td>\n",
       "      <td>1</td>\n",
       "    </tr>\n",
       "    <tr>\n",
       "      <th>7138</th>\n",
       "      <td>0.77</td>\n",
       "      <td>0.87</td>\n",
       "      <td>4</td>\n",
       "      <td>0</td>\n",
       "      <td>0</td>\n",
       "      <td>sales</td>\n",
       "      <td>low</td>\n",
       "      <td>1</td>\n",
       "    </tr>\n",
       "    <tr>\n",
       "      <th>7139</th>\n",
       "      <td>0.79</td>\n",
       "      <td>1.00</td>\n",
       "      <td>4</td>\n",
       "      <td>1</td>\n",
       "      <td>0</td>\n",
       "      <td>management</td>\n",
       "      <td>medium</td>\n",
       "      <td>1</td>\n",
       "    </tr>\n",
       "    <tr>\n",
       "      <th>7140</th>\n",
       "      <td>0.88</td>\n",
       "      <td>0.97</td>\n",
       "      <td>4</td>\n",
       "      <td>1</td>\n",
       "      <td>0</td>\n",
       "      <td>IT</td>\n",
       "      <td>low</td>\n",
       "      <td>1</td>\n",
       "    </tr>\n",
       "    <tr>\n",
       "      <th>7141</th>\n",
       "      <td>0.37</td>\n",
       "      <td>0.47</td>\n",
       "      <td>2</td>\n",
       "      <td>0</td>\n",
       "      <td>0</td>\n",
       "      <td>hr</td>\n",
       "      <td>low</td>\n",
       "      <td>1</td>\n",
       "    </tr>\n",
       "  </tbody>\n",
       "</table>\n",
       "<p>7142 rows × 8 columns</p>\n",
       "</div>"
      ],
      "text/plain": [
       "      satisfaction_level  last_evaluation  number_project  Work_accident  \\\n",
       "0                   0.82             0.68               3              0   \n",
       "1                   0.79             0.67               5              0   \n",
       "2                   0.73             0.95               3              0   \n",
       "3                   0.92             0.78               3              0   \n",
       "4                   0.69             1.00               5              0   \n",
       "...                  ...              ...             ...            ...   \n",
       "7137                0.11             0.89               6              0   \n",
       "7138                0.77             0.87               4              0   \n",
       "7139                0.79             1.00               4              1   \n",
       "7140                0.88             0.97               4              1   \n",
       "7141                0.37             0.47               2              0   \n",
       "\n",
       "      promotion_last_5years     division  salary  left  \n",
       "0                         0        sales     low     0  \n",
       "1                         0  product_mng     low     0  \n",
       "2                         0      support     low     0  \n",
       "3                         0    technical     low     0  \n",
       "4                         0    technical    high     0  \n",
       "...                     ...          ...     ...   ...  \n",
       "7137                      0        sales  medium     1  \n",
       "7138                      0        sales     low     1  \n",
       "7139                      0   management  medium     1  \n",
       "7140                      0           IT     low     1  \n",
       "7141                      0           hr     low     1  \n",
       "\n",
       "[7142 rows x 8 columns]"
      ]
     },
     "execution_count": 42,
     "metadata": {},
     "output_type": "execute_result"
    }
   ],
   "source": [
    "turnover.drop([ 'average_montly_hours','time_spend_company'], axis=1)"
   ]
  },
  {
   "cell_type": "markdown",
   "metadata": {},
   "source": [
    "Tujuan penggunaan parameter `axis = 1` adalah agar dalam memberikan perintah `drop()` langsung tertuju pada kolom. \n",
    "Jadi apabila kita ingin menghapus baris tertentu kita bisa gunakan `axis = 0`, dimana secara default method `drop()` menggunakan `axis = 0`."
   ]
  },
  {
   "cell_type": "code",
   "execution_count": 43,
   "metadata": {},
   "outputs": [
    {
     "data": {
      "text/html": [
       "<div>\n",
       "<style scoped>\n",
       "    .dataframe tbody tr th:only-of-type {\n",
       "        vertical-align: middle;\n",
       "    }\n",
       "\n",
       "    .dataframe tbody tr th {\n",
       "        vertical-align: top;\n",
       "    }\n",
       "\n",
       "    .dataframe thead th {\n",
       "        text-align: right;\n",
       "    }\n",
       "</style>\n",
       "<table border=\"1\" class=\"dataframe\">\n",
       "  <thead>\n",
       "    <tr style=\"text-align: right;\">\n",
       "      <th></th>\n",
       "      <th>satisfaction_level</th>\n",
       "      <th>last_evaluation</th>\n",
       "      <th>number_project</th>\n",
       "      <th>average_montly_hours</th>\n",
       "      <th>time_spend_company</th>\n",
       "      <th>Work_accident</th>\n",
       "      <th>promotion_last_5years</th>\n",
       "      <th>division</th>\n",
       "      <th>salary</th>\n",
       "      <th>left</th>\n",
       "    </tr>\n",
       "  </thead>\n",
       "  <tbody>\n",
       "    <tr>\n",
       "      <th>0</th>\n",
       "      <td>0.82</td>\n",
       "      <td>0.68</td>\n",
       "      <td>3</td>\n",
       "      <td>140</td>\n",
       "      <td>2</td>\n",
       "      <td>0</td>\n",
       "      <td>0</td>\n",
       "      <td>sales</td>\n",
       "      <td>low</td>\n",
       "      <td>0</td>\n",
       "    </tr>\n",
       "    <tr>\n",
       "      <th>1</th>\n",
       "      <td>0.79</td>\n",
       "      <td>0.67</td>\n",
       "      <td>5</td>\n",
       "      <td>156</td>\n",
       "      <td>2</td>\n",
       "      <td>0</td>\n",
       "      <td>0</td>\n",
       "      <td>product_mng</td>\n",
       "      <td>low</td>\n",
       "      <td>0</td>\n",
       "    </tr>\n",
       "    <tr>\n",
       "      <th>2</th>\n",
       "      <td>0.73</td>\n",
       "      <td>0.95</td>\n",
       "      <td>3</td>\n",
       "      <td>149</td>\n",
       "      <td>2</td>\n",
       "      <td>0</td>\n",
       "      <td>0</td>\n",
       "      <td>support</td>\n",
       "      <td>low</td>\n",
       "      <td>0</td>\n",
       "    </tr>\n",
       "    <tr>\n",
       "      <th>3</th>\n",
       "      <td>0.92</td>\n",
       "      <td>0.78</td>\n",
       "      <td>3</td>\n",
       "      <td>218</td>\n",
       "      <td>3</td>\n",
       "      <td>0</td>\n",
       "      <td>0</td>\n",
       "      <td>technical</td>\n",
       "      <td>low</td>\n",
       "      <td>0</td>\n",
       "    </tr>\n",
       "    <tr>\n",
       "      <th>4</th>\n",
       "      <td>0.69</td>\n",
       "      <td>1.00</td>\n",
       "      <td>5</td>\n",
       "      <td>237</td>\n",
       "      <td>3</td>\n",
       "      <td>0</td>\n",
       "      <td>0</td>\n",
       "      <td>technical</td>\n",
       "      <td>high</td>\n",
       "      <td>0</td>\n",
       "    </tr>\n",
       "    <tr>\n",
       "      <th>5</th>\n",
       "      <td>0.98</td>\n",
       "      <td>0.97</td>\n",
       "      <td>3</td>\n",
       "      <td>209</td>\n",
       "      <td>3</td>\n",
       "      <td>0</td>\n",
       "      <td>0</td>\n",
       "      <td>support</td>\n",
       "      <td>low</td>\n",
       "      <td>0</td>\n",
       "    </tr>\n",
       "    <tr>\n",
       "      <th>6</th>\n",
       "      <td>0.52</td>\n",
       "      <td>0.90</td>\n",
       "      <td>4</td>\n",
       "      <td>285</td>\n",
       "      <td>2</td>\n",
       "      <td>0</td>\n",
       "      <td>0</td>\n",
       "      <td>hr</td>\n",
       "      <td>low</td>\n",
       "      <td>0</td>\n",
       "    </tr>\n",
       "    <tr>\n",
       "      <th>16</th>\n",
       "      <td>0.68</td>\n",
       "      <td>0.97</td>\n",
       "      <td>3</td>\n",
       "      <td>250</td>\n",
       "      <td>3</td>\n",
       "      <td>1</td>\n",
       "      <td>0</td>\n",
       "      <td>product_mng</td>\n",
       "      <td>medium</td>\n",
       "      <td>0</td>\n",
       "    </tr>\n",
       "    <tr>\n",
       "      <th>17</th>\n",
       "      <td>0.47</td>\n",
       "      <td>0.46</td>\n",
       "      <td>2</td>\n",
       "      <td>152</td>\n",
       "      <td>2</td>\n",
       "      <td>0</td>\n",
       "      <td>0</td>\n",
       "      <td>IT</td>\n",
       "      <td>medium</td>\n",
       "      <td>0</td>\n",
       "    </tr>\n",
       "    <tr>\n",
       "      <th>18</th>\n",
       "      <td>0.80</td>\n",
       "      <td>0.62</td>\n",
       "      <td>3</td>\n",
       "      <td>191</td>\n",
       "      <td>3</td>\n",
       "      <td>0</td>\n",
       "      <td>0</td>\n",
       "      <td>support</td>\n",
       "      <td>medium</td>\n",
       "      <td>0</td>\n",
       "    </tr>\n",
       "    <tr>\n",
       "      <th>19</th>\n",
       "      <td>0.58</td>\n",
       "      <td>0.43</td>\n",
       "      <td>6</td>\n",
       "      <td>132</td>\n",
       "      <td>3</td>\n",
       "      <td>0</td>\n",
       "      <td>0</td>\n",
       "      <td>sales</td>\n",
       "      <td>low</td>\n",
       "      <td>0</td>\n",
       "    </tr>\n",
       "    <tr>\n",
       "      <th>20</th>\n",
       "      <td>0.74</td>\n",
       "      <td>0.85</td>\n",
       "      <td>5</td>\n",
       "      <td>135</td>\n",
       "      <td>2</td>\n",
       "      <td>0</td>\n",
       "      <td>0</td>\n",
       "      <td>support</td>\n",
       "      <td>low</td>\n",
       "      <td>0</td>\n",
       "    </tr>\n",
       "    <tr>\n",
       "      <th>21</th>\n",
       "      <td>0.81</td>\n",
       "      <td>0.62</td>\n",
       "      <td>4</td>\n",
       "      <td>153</td>\n",
       "      <td>4</td>\n",
       "      <td>0</td>\n",
       "      <td>0</td>\n",
       "      <td>RandD</td>\n",
       "      <td>low</td>\n",
       "      <td>0</td>\n",
       "    </tr>\n",
       "    <tr>\n",
       "      <th>22</th>\n",
       "      <td>0.89</td>\n",
       "      <td>0.71</td>\n",
       "      <td>4</td>\n",
       "      <td>190</td>\n",
       "      <td>3</td>\n",
       "      <td>0</td>\n",
       "      <td>0</td>\n",
       "      <td>RandD</td>\n",
       "      <td>low</td>\n",
       "      <td>0</td>\n",
       "    </tr>\n",
       "    <tr>\n",
       "      <th>23</th>\n",
       "      <td>0.27</td>\n",
       "      <td>0.76</td>\n",
       "      <td>4</td>\n",
       "      <td>108</td>\n",
       "      <td>10</td>\n",
       "      <td>0</td>\n",
       "      <td>0</td>\n",
       "      <td>sales</td>\n",
       "      <td>medium</td>\n",
       "      <td>0</td>\n",
       "    </tr>\n",
       "  </tbody>\n",
       "</table>\n",
       "</div>"
      ],
      "text/plain": [
       "    satisfaction_level  last_evaluation  number_project  average_montly_hours  \\\n",
       "0                 0.82             0.68               3                   140   \n",
       "1                 0.79             0.67               5                   156   \n",
       "2                 0.73             0.95               3                   149   \n",
       "3                 0.92             0.78               3                   218   \n",
       "4                 0.69             1.00               5                   237   \n",
       "5                 0.98             0.97               3                   209   \n",
       "6                 0.52             0.90               4                   285   \n",
       "16                0.68             0.97               3                   250   \n",
       "17                0.47             0.46               2                   152   \n",
       "18                0.80             0.62               3                   191   \n",
       "19                0.58             0.43               6                   132   \n",
       "20                0.74             0.85               5                   135   \n",
       "21                0.81             0.62               4                   153   \n",
       "22                0.89             0.71               4                   190   \n",
       "23                0.27             0.76               4                   108   \n",
       "\n",
       "    time_spend_company  Work_accident  promotion_last_5years     division  \\\n",
       "0                    2              0                      0        sales   \n",
       "1                    2              0                      0  product_mng   \n",
       "2                    2              0                      0      support   \n",
       "3                    3              0                      0    technical   \n",
       "4                    3              0                      0    technical   \n",
       "5                    3              0                      0      support   \n",
       "6                    2              0                      0           hr   \n",
       "16                   3              1                      0  product_mng   \n",
       "17                   2              0                      0           IT   \n",
       "18                   3              0                      0      support   \n",
       "19                   3              0                      0        sales   \n",
       "20                   2              0                      0      support   \n",
       "21                   4              0                      0        RandD   \n",
       "22                   3              0                      0        RandD   \n",
       "23                  10              0                      0        sales   \n",
       "\n",
       "    salary  left  \n",
       "0      low     0  \n",
       "1      low     0  \n",
       "2      low     0  \n",
       "3      low     0  \n",
       "4     high     0  \n",
       "5      low     0  \n",
       "6      low     0  \n",
       "16  medium     0  \n",
       "17  medium     0  \n",
       "18  medium     0  \n",
       "19     low     0  \n",
       "20     low     0  \n",
       "21     low     0  \n",
       "22     low     0  \n",
       "23  medium     0  "
      ]
     },
     "execution_count": 43,
     "metadata": {},
     "output_type": "execute_result"
    }
   ],
   "source": [
    "turnover.drop([7,8,9,10,11,12,13,14,15]).head(15)"
   ]
  },
  {
   "cell_type": "markdown",
   "metadata": {},
   "source": [
    "### Kondisional Subset "
   ]
  },
  {
   "cell_type": "markdown",
   "metadata": {},
   "source": [
    "Selain melakukan subsetting berdasarkan nama baris dan kolomnya, kita juga bisa melakukan subsetting berdasarkan kondisi tertentu. Untuk melakukan subsetting dengan kondisi tertentu ada beberapa **logical operator** yang bisa kita gunakan yaitu sebagai berikut.\n",
    "\n",
    "- `==` sama dengan\n",
    "- `!=` tidak sama dengan\n",
    "- `>` lebih besar\n",
    "- `<` lebih kecil\n",
    "- `>=` lebih besar sama dengan\n",
    "- `<=` lebih kecil sama dengan\n",
    "- `&` AND\n",
    "- `|` OR\n"
   ]
  },
  {
   "cell_type": "markdown",
   "metadata": {},
   "source": [
    "Misalkan disini kita ingin mencari tahu berapa banyak karyawan yang berada pada divisi sales."
   ]
  },
  {
   "cell_type": "code",
   "execution_count": 44,
   "metadata": {},
   "outputs": [
    {
     "data": {
      "text/html": [
       "<div>\n",
       "<style scoped>\n",
       "    .dataframe tbody tr th:only-of-type {\n",
       "        vertical-align: middle;\n",
       "    }\n",
       "\n",
       "    .dataframe tbody tr th {\n",
       "        vertical-align: top;\n",
       "    }\n",
       "\n",
       "    .dataframe thead th {\n",
       "        text-align: right;\n",
       "    }\n",
       "</style>\n",
       "<table border=\"1\" class=\"dataframe\">\n",
       "  <thead>\n",
       "    <tr style=\"text-align: right;\">\n",
       "      <th></th>\n",
       "      <th>satisfaction_level</th>\n",
       "      <th>last_evaluation</th>\n",
       "      <th>number_project</th>\n",
       "      <th>average_montly_hours</th>\n",
       "      <th>time_spend_company</th>\n",
       "      <th>Work_accident</th>\n",
       "      <th>promotion_last_5years</th>\n",
       "      <th>division</th>\n",
       "      <th>salary</th>\n",
       "      <th>left</th>\n",
       "    </tr>\n",
       "  </thead>\n",
       "  <tbody>\n",
       "    <tr>\n",
       "      <th>0</th>\n",
       "      <td>0.82</td>\n",
       "      <td>0.68</td>\n",
       "      <td>3</td>\n",
       "      <td>140</td>\n",
       "      <td>2</td>\n",
       "      <td>0</td>\n",
       "      <td>0</td>\n",
       "      <td>sales</td>\n",
       "      <td>low</td>\n",
       "      <td>0</td>\n",
       "    </tr>\n",
       "    <tr>\n",
       "      <th>7</th>\n",
       "      <td>0.51</td>\n",
       "      <td>0.73</td>\n",
       "      <td>4</td>\n",
       "      <td>229</td>\n",
       "      <td>3</td>\n",
       "      <td>0</td>\n",
       "      <td>0</td>\n",
       "      <td>sales</td>\n",
       "      <td>low</td>\n",
       "      <td>0</td>\n",
       "    </tr>\n",
       "    <tr>\n",
       "      <th>12</th>\n",
       "      <td>0.80</td>\n",
       "      <td>0.87</td>\n",
       "      <td>5</td>\n",
       "      <td>251</td>\n",
       "      <td>3</td>\n",
       "      <td>0</td>\n",
       "      <td>0</td>\n",
       "      <td>sales</td>\n",
       "      <td>medium</td>\n",
       "      <td>0</td>\n",
       "    </tr>\n",
       "    <tr>\n",
       "      <th>13</th>\n",
       "      <td>0.64</td>\n",
       "      <td>0.67</td>\n",
       "      <td>5</td>\n",
       "      <td>167</td>\n",
       "      <td>2</td>\n",
       "      <td>0</td>\n",
       "      <td>0</td>\n",
       "      <td>sales</td>\n",
       "      <td>low</td>\n",
       "      <td>0</td>\n",
       "    </tr>\n",
       "    <tr>\n",
       "      <th>19</th>\n",
       "      <td>0.58</td>\n",
       "      <td>0.43</td>\n",
       "      <td>6</td>\n",
       "      <td>132</td>\n",
       "      <td>3</td>\n",
       "      <td>0</td>\n",
       "      <td>0</td>\n",
       "      <td>sales</td>\n",
       "      <td>low</td>\n",
       "      <td>0</td>\n",
       "    </tr>\n",
       "    <tr>\n",
       "      <th>...</th>\n",
       "      <td>...</td>\n",
       "      <td>...</td>\n",
       "      <td>...</td>\n",
       "      <td>...</td>\n",
       "      <td>...</td>\n",
       "      <td>...</td>\n",
       "      <td>...</td>\n",
       "      <td>...</td>\n",
       "      <td>...</td>\n",
       "      <td>...</td>\n",
       "    </tr>\n",
       "    <tr>\n",
       "      <th>7128</th>\n",
       "      <td>0.74</td>\n",
       "      <td>1.00</td>\n",
       "      <td>5</td>\n",
       "      <td>275</td>\n",
       "      <td>5</td>\n",
       "      <td>0</td>\n",
       "      <td>0</td>\n",
       "      <td>sales</td>\n",
       "      <td>low</td>\n",
       "      <td>1</td>\n",
       "    </tr>\n",
       "    <tr>\n",
       "      <th>7133</th>\n",
       "      <td>0.09</td>\n",
       "      <td>0.77</td>\n",
       "      <td>6</td>\n",
       "      <td>282</td>\n",
       "      <td>5</td>\n",
       "      <td>0</td>\n",
       "      <td>0</td>\n",
       "      <td>sales</td>\n",
       "      <td>medium</td>\n",
       "      <td>1</td>\n",
       "    </tr>\n",
       "    <tr>\n",
       "      <th>7134</th>\n",
       "      <td>0.39</td>\n",
       "      <td>0.57</td>\n",
       "      <td>2</td>\n",
       "      <td>127</td>\n",
       "      <td>3</td>\n",
       "      <td>0</td>\n",
       "      <td>0</td>\n",
       "      <td>sales</td>\n",
       "      <td>low</td>\n",
       "      <td>1</td>\n",
       "    </tr>\n",
       "    <tr>\n",
       "      <th>7137</th>\n",
       "      <td>0.11</td>\n",
       "      <td>0.89</td>\n",
       "      <td>6</td>\n",
       "      <td>301</td>\n",
       "      <td>4</td>\n",
       "      <td>0</td>\n",
       "      <td>0</td>\n",
       "      <td>sales</td>\n",
       "      <td>medium</td>\n",
       "      <td>1</td>\n",
       "    </tr>\n",
       "    <tr>\n",
       "      <th>7138</th>\n",
       "      <td>0.77</td>\n",
       "      <td>0.87</td>\n",
       "      <td>4</td>\n",
       "      <td>242</td>\n",
       "      <td>6</td>\n",
       "      <td>0</td>\n",
       "      <td>0</td>\n",
       "      <td>sales</td>\n",
       "      <td>low</td>\n",
       "      <td>1</td>\n",
       "    </tr>\n",
       "  </tbody>\n",
       "</table>\n",
       "<p>1997 rows × 10 columns</p>\n",
       "</div>"
      ],
      "text/plain": [
       "      satisfaction_level  last_evaluation  number_project  \\\n",
       "0                   0.82             0.68               3   \n",
       "7                   0.51             0.73               4   \n",
       "12                  0.80             0.87               5   \n",
       "13                  0.64             0.67               5   \n",
       "19                  0.58             0.43               6   \n",
       "...                  ...              ...             ...   \n",
       "7128                0.74             1.00               5   \n",
       "7133                0.09             0.77               6   \n",
       "7134                0.39             0.57               2   \n",
       "7137                0.11             0.89               6   \n",
       "7138                0.77             0.87               4   \n",
       "\n",
       "      average_montly_hours  time_spend_company  Work_accident  \\\n",
       "0                      140                   2              0   \n",
       "7                      229                   3              0   \n",
       "12                     251                   3              0   \n",
       "13                     167                   2              0   \n",
       "19                     132                   3              0   \n",
       "...                    ...                 ...            ...   \n",
       "7128                   275                   5              0   \n",
       "7133                   282                   5              0   \n",
       "7134                   127                   3              0   \n",
       "7137                   301                   4              0   \n",
       "7138                   242                   6              0   \n",
       "\n",
       "      promotion_last_5years division  salary  left  \n",
       "0                         0    sales     low     0  \n",
       "7                         0    sales     low     0  \n",
       "12                        0    sales  medium     0  \n",
       "13                        0    sales     low     0  \n",
       "19                        0    sales     low     0  \n",
       "...                     ...      ...     ...   ...  \n",
       "7128                      0    sales     low     1  \n",
       "7133                      0    sales  medium     1  \n",
       "7134                      0    sales     low     1  \n",
       "7137                      0    sales  medium     1  \n",
       "7138                      0    sales     low     1  \n",
       "\n",
       "[1997 rows x 10 columns]"
      ]
     },
     "execution_count": 44,
     "metadata": {},
     "output_type": "execute_result"
    }
   ],
   "source": [
    "turnover[turnover['division'] == 'sales']"
   ]
  },
  {
   "cell_type": "markdown",
   "metadata": {},
   "source": [
    "Jika kondisinya lebih dari satu, maka kita harus memisahkan setiap kondisi dengan tanda kurung `()`. Misal kita ingin tahu yang termasuk divisi sales dan time_spend_company nya lebih dari 3 tahun."
   ]
  },
  {
   "cell_type": "code",
   "execution_count": 45,
   "metadata": {},
   "outputs": [
    {
     "data": {
      "text/plain": [
       "Index(['IT', 'RandD', 'accounting', 'hr', 'management', 'marketing',\n",
       "       'product_mng', 'sales', 'support', 'technical'],\n",
       "      dtype='object')"
      ]
     },
     "execution_count": 45,
     "metadata": {},
     "output_type": "execute_result"
    }
   ],
   "source": [
    "turnover[['division', 'salary']] = turnover[['division', 'salary']].astype('category')\n",
    "turnover['division'].cat.categories"
   ]
  },
  {
   "cell_type": "markdown",
   "metadata": {},
   "source": [
    "### Quiz 4"
   ]
  },
  {
   "cell_type": "markdown",
   "metadata": {},
   "source": [
    "Berdasarkan data `turnover` coba lakukan subsetting dan jawablah pertanyaan dibawah ini.\n",
    "\n",
    "1. Berapa banyak karyawan  yang memberikan penilaian satisfaction_level lebih dari 0.8?\n",
    "2. Katakanlah kita sedang di posisi HR yang ingin melakukan analisis terhadap karyawan yang memberikan satisfaction_level kurang dari 0.5, tingkat salary yang rendah dan memiliki status left 0. Berapa banyak karyawan yang harus diperhatikan oleh HR?\n",
    "3. Sebagai seorang HR, kita ingin coba menerapkan beberapa treatment khusus bagi karyawan yang berada pada divisi HR  yang tidak mendapatkan promosi selama 5 tahun belakang (`promotion_last_5years`) dan memiliki tingka salary yang rendah. Berapa banyak karyawan yang perlu perhatian lebih oleh HR?"
   ]
  },
  {
   "cell_type": "markdown",
   "metadata": {},
   "source": [
    "#### Jawaban Quiz 4"
   ]
  },
  {
   "cell_type": "markdown",
   "metadata": {},
   "source": [
    "##### 1.  Berapa banyak karyawan yang memberikan penilaian satisfaction_level lebih dari 0.8?"
   ]
  },
  {
   "cell_type": "code",
   "execution_count": 46,
   "metadata": {},
   "outputs": [
    {
     "data": {
      "text/html": [
       "<div>\n",
       "<style scoped>\n",
       "    .dataframe tbody tr th:only-of-type {\n",
       "        vertical-align: middle;\n",
       "    }\n",
       "\n",
       "    .dataframe tbody tr th {\n",
       "        vertical-align: top;\n",
       "    }\n",
       "\n",
       "    .dataframe thead th {\n",
       "        text-align: right;\n",
       "    }\n",
       "</style>\n",
       "<table border=\"1\" class=\"dataframe\">\n",
       "  <thead>\n",
       "    <tr style=\"text-align: right;\">\n",
       "      <th></th>\n",
       "      <th>satisfaction_level</th>\n",
       "    </tr>\n",
       "  </thead>\n",
       "  <tbody>\n",
       "    <tr>\n",
       "      <th>0</th>\n",
       "      <td>0.82</td>\n",
       "    </tr>\n",
       "    <tr>\n",
       "      <th>3</th>\n",
       "      <td>0.92</td>\n",
       "    </tr>\n",
       "    <tr>\n",
       "      <th>5</th>\n",
       "      <td>0.98</td>\n",
       "    </tr>\n",
       "    <tr>\n",
       "      <th>8</th>\n",
       "      <td>0.88</td>\n",
       "    </tr>\n",
       "    <tr>\n",
       "      <th>12</th>\n",
       "      <td>0.80</td>\n",
       "    </tr>\n",
       "    <tr>\n",
       "      <th>...</th>\n",
       "      <td>...</td>\n",
       "    </tr>\n",
       "    <tr>\n",
       "      <th>7123</th>\n",
       "      <td>0.80</td>\n",
       "    </tr>\n",
       "    <tr>\n",
       "      <th>7124</th>\n",
       "      <td>0.86</td>\n",
       "    </tr>\n",
       "    <tr>\n",
       "      <th>7127</th>\n",
       "      <td>0.81</td>\n",
       "    </tr>\n",
       "    <tr>\n",
       "      <th>7129</th>\n",
       "      <td>0.82</td>\n",
       "    </tr>\n",
       "    <tr>\n",
       "      <th>7140</th>\n",
       "      <td>0.88</td>\n",
       "    </tr>\n",
       "  </tbody>\n",
       "</table>\n",
       "<p>1678 rows × 1 columns</p>\n",
       "</div>"
      ],
      "text/plain": [
       "      satisfaction_level\n",
       "0                   0.82\n",
       "3                   0.92\n",
       "5                   0.98\n",
       "8                   0.88\n",
       "12                  0.80\n",
       "...                  ...\n",
       "7123                0.80\n",
       "7124                0.86\n",
       "7127                0.81\n",
       "7129                0.82\n",
       "7140                0.88\n",
       "\n",
       "[1678 rows x 1 columns]"
      ]
     },
     "execution_count": 46,
     "metadata": {},
     "output_type": "execute_result"
    }
   ],
   "source": [
    "## Alternatif 1 Kalau mau ditampilkan datanya\n",
    "\n",
    "turnover[turnover[\"satisfaction_level\"] >= 0.8].loc[:, [\"satisfaction_level\"]]\n",
    "\n",
    "# ada 1678 Row data"
   ]
  },
  {
   "cell_type": "code",
   "execution_count": 47,
   "metadata": {
    "scrolled": true
   },
   "outputs": [
    {
     "data": {
      "text/plain": [
       "satisfaction_level    1678\n",
       "dtype: int64"
      ]
     },
     "execution_count": 47,
     "metadata": {},
     "output_type": "execute_result"
    }
   ],
   "source": [
    "## Alternatif 2 Kalau mau Hasil angkanya saja\n",
    "\n",
    "turnover[turnover[\"satisfaction_level\"] >= 0.8].loc[:, [\"satisfaction_level\"]].count()\n"
   ]
  },
  {
   "cell_type": "markdown",
   "metadata": {},
   "source": [
    "##### 2.  Katakanlah kita sedang di posisi HR yang ingin melakukan analisis terhadap karyawan yang memberikan satisfaction_level kurang dari 0.5, tingkat salary yang rendah dan memiliki status left 0. Berapa banyak karyawan yang harus diperhatikan oleh HR?"
   ]
  },
  {
   "cell_type": "code",
   "execution_count": 48,
   "metadata": {},
   "outputs": [
    {
     "data": {
      "text/html": [
       "<div>\n",
       "<style scoped>\n",
       "    .dataframe tbody tr th:only-of-type {\n",
       "        vertical-align: middle;\n",
       "    }\n",
       "\n",
       "    .dataframe tbody tr th {\n",
       "        vertical-align: top;\n",
       "    }\n",
       "\n",
       "    .dataframe thead th {\n",
       "        text-align: right;\n",
       "    }\n",
       "</style>\n",
       "<table border=\"1\" class=\"dataframe\">\n",
       "  <thead>\n",
       "    <tr style=\"text-align: right;\">\n",
       "      <th></th>\n",
       "      <th>satisfaction_level</th>\n",
       "      <th>salary</th>\n",
       "      <th>left</th>\n",
       "    </tr>\n",
       "  </thead>\n",
       "  <tbody>\n",
       "    <tr>\n",
       "      <th>11</th>\n",
       "      <td>0.43</td>\n",
       "      <td>low</td>\n",
       "      <td>0</td>\n",
       "    </tr>\n",
       "    <tr>\n",
       "      <th>24</th>\n",
       "      <td>0.38</td>\n",
       "      <td>low</td>\n",
       "      <td>0</td>\n",
       "    </tr>\n",
       "    <tr>\n",
       "      <th>25</th>\n",
       "      <td>0.44</td>\n",
       "      <td>low</td>\n",
       "      <td>0</td>\n",
       "    </tr>\n",
       "    <tr>\n",
       "      <th>31</th>\n",
       "      <td>0.49</td>\n",
       "      <td>low</td>\n",
       "      <td>0</td>\n",
       "    </tr>\n",
       "    <tr>\n",
       "      <th>37</th>\n",
       "      <td>0.28</td>\n",
       "      <td>low</td>\n",
       "      <td>0</td>\n",
       "    </tr>\n",
       "    <tr>\n",
       "      <th>...</th>\n",
       "      <td>...</td>\n",
       "      <td>...</td>\n",
       "      <td>...</td>\n",
       "    </tr>\n",
       "    <tr>\n",
       "      <th>3505</th>\n",
       "      <td>0.41</td>\n",
       "      <td>low</td>\n",
       "      <td>0</td>\n",
       "    </tr>\n",
       "    <tr>\n",
       "      <th>3526</th>\n",
       "      <td>0.48</td>\n",
       "      <td>low</td>\n",
       "      <td>0</td>\n",
       "    </tr>\n",
       "    <tr>\n",
       "      <th>3534</th>\n",
       "      <td>0.35</td>\n",
       "      <td>low</td>\n",
       "      <td>0</td>\n",
       "    </tr>\n",
       "    <tr>\n",
       "      <th>3542</th>\n",
       "      <td>0.26</td>\n",
       "      <td>low</td>\n",
       "      <td>0</td>\n",
       "    </tr>\n",
       "    <tr>\n",
       "      <th>3543</th>\n",
       "      <td>0.31</td>\n",
       "      <td>low</td>\n",
       "      <td>0</td>\n",
       "    </tr>\n",
       "  </tbody>\n",
       "</table>\n",
       "<p>277 rows × 3 columns</p>\n",
       "</div>"
      ],
      "text/plain": [
       "      satisfaction_level salary  left\n",
       "11                  0.43    low     0\n",
       "24                  0.38    low     0\n",
       "25                  0.44    low     0\n",
       "31                  0.49    low     0\n",
       "37                  0.28    low     0\n",
       "...                  ...    ...   ...\n",
       "3505                0.41    low     0\n",
       "3526                0.48    low     0\n",
       "3534                0.35    low     0\n",
       "3542                0.26    low     0\n",
       "3543                0.31    low     0\n",
       "\n",
       "[277 rows x 3 columns]"
      ]
     },
     "execution_count": 48,
     "metadata": {},
     "output_type": "execute_result"
    }
   ],
   "source": [
    "## Alternatif 1 kalau mau melihat datanya\n",
    "\n",
    "turnover[\n",
    "    (turnover[\"satisfaction_level\"] < 0.5 ) &\n",
    "    (turnover[\"salary\"] == \"low\" ) &\n",
    "    (turnover[\"left\"] == 0 )\n",
    "].loc[:,[\"satisfaction_level\", \"salary\", \"left\"]]"
   ]
  },
  {
   "cell_type": "code",
   "execution_count": 49,
   "metadata": {
    "scrolled": true
   },
   "outputs": [
    {
     "data": {
      "text/plain": [
       "satisfaction_level    277\n",
       "salary                277\n",
       "left                  277\n",
       "dtype: int64"
      ]
     },
     "execution_count": 49,
     "metadata": {},
     "output_type": "execute_result"
    }
   ],
   "source": [
    "## Alternatif 2 kalau mau melihat hasilnya saja/angka hasilnya\n",
    "\n",
    "turnover[\n",
    "    (turnover[\"satisfaction_level\"] < 0.5 ) &\n",
    "    (turnover[\"salary\"] == \"low\" ) &\n",
    "    (turnover[\"left\"] == 0 )\n",
    "].loc[:,[\"satisfaction_level\", \"salary\", \"left\"]].count()"
   ]
  },
  {
   "cell_type": "markdown",
   "metadata": {},
   "source": [
    "##### 3.  Sebagai seorang HR, kita ingin coba menerapkan beberapa treatment khusus bagi karyawan yang berada pada divisi HR yang tidak mendapatkan promosi selama 5 tahun belakang (promotion_last_5years) dan memiliki tingka salary yang rendah. Berapa banyak karyawan yang perlu perhatian lebih oleh HR?"
   ]
  },
  {
   "cell_type": "code",
   "execution_count": 50,
   "metadata": {
    "scrolled": true
   },
   "outputs": [
    {
     "data": {
      "text/html": [
       "<div>\n",
       "<style scoped>\n",
       "    .dataframe tbody tr th:only-of-type {\n",
       "        vertical-align: middle;\n",
       "    }\n",
       "\n",
       "    .dataframe tbody tr th {\n",
       "        vertical-align: top;\n",
       "    }\n",
       "\n",
       "    .dataframe thead th {\n",
       "        text-align: right;\n",
       "    }\n",
       "</style>\n",
       "<table border=\"1\" class=\"dataframe\">\n",
       "  <thead>\n",
       "    <tr style=\"text-align: right;\">\n",
       "      <th></th>\n",
       "      <th>promotion_last_5years</th>\n",
       "      <th>salary</th>\n",
       "    </tr>\n",
       "  </thead>\n",
       "  <tbody>\n",
       "    <tr>\n",
       "      <th>0</th>\n",
       "      <td>0</td>\n",
       "      <td>low</td>\n",
       "    </tr>\n",
       "    <tr>\n",
       "      <th>1</th>\n",
       "      <td>0</td>\n",
       "      <td>low</td>\n",
       "    </tr>\n",
       "    <tr>\n",
       "      <th>2</th>\n",
       "      <td>0</td>\n",
       "      <td>low</td>\n",
       "    </tr>\n",
       "    <tr>\n",
       "      <th>3</th>\n",
       "      <td>0</td>\n",
       "      <td>low</td>\n",
       "    </tr>\n",
       "    <tr>\n",
       "      <th>5</th>\n",
       "      <td>0</td>\n",
       "      <td>low</td>\n",
       "    </tr>\n",
       "    <tr>\n",
       "      <th>...</th>\n",
       "      <td>...</td>\n",
       "      <td>...</td>\n",
       "    </tr>\n",
       "    <tr>\n",
       "      <th>7135</th>\n",
       "      <td>0</td>\n",
       "      <td>low</td>\n",
       "    </tr>\n",
       "    <tr>\n",
       "      <th>7136</th>\n",
       "      <td>0</td>\n",
       "      <td>low</td>\n",
       "    </tr>\n",
       "    <tr>\n",
       "      <th>7138</th>\n",
       "      <td>0</td>\n",
       "      <td>low</td>\n",
       "    </tr>\n",
       "    <tr>\n",
       "      <th>7140</th>\n",
       "      <td>0</td>\n",
       "      <td>low</td>\n",
       "    </tr>\n",
       "    <tr>\n",
       "      <th>7141</th>\n",
       "      <td>0</td>\n",
       "      <td>low</td>\n",
       "    </tr>\n",
       "  </tbody>\n",
       "</table>\n",
       "<p>3741 rows × 2 columns</p>\n",
       "</div>"
      ],
      "text/plain": [
       "      promotion_last_5years salary\n",
       "0                         0    low\n",
       "1                         0    low\n",
       "2                         0    low\n",
       "3                         0    low\n",
       "5                         0    low\n",
       "...                     ...    ...\n",
       "7135                      0    low\n",
       "7136                      0    low\n",
       "7138                      0    low\n",
       "7140                      0    low\n",
       "7141                      0    low\n",
       "\n",
       "[3741 rows x 2 columns]"
      ]
     },
     "execution_count": 50,
     "metadata": {},
     "output_type": "execute_result"
    }
   ],
   "source": [
    "## Alternatif 1 kalau mau melihat datanya\n",
    "\n",
    "turnover[\n",
    "    (turnover[\"promotion_last_5years\"] == 0 ) &\n",
    "    (turnover[\"salary\"] == \"low\" )\n",
    "].loc[:,[\"promotion_last_5years\", \"salary\"]]\n",
    "\n",
    "## Hasilnya 3741 / banyak juga yang gak naik-naik pangkatnya"
   ]
  },
  {
   "cell_type": "code",
   "execution_count": 51,
   "metadata": {},
   "outputs": [
    {
     "data": {
      "text/plain": [
       "promotion_last_5years    3741\n",
       "salary                   3741\n",
       "dtype: int64"
      ]
     },
     "execution_count": 51,
     "metadata": {},
     "output_type": "execute_result"
    }
   ],
   "source": [
    "## Alternatif 2 kalau mau melihat hasilnya / angka\n",
    "\n",
    "turnover[\n",
    "    (turnover[\"promotion_last_5years\"] == 0 ) &\n",
    "    (turnover[\"salary\"] == \"low\" )\n",
    "].loc[:,[\"promotion_last_5years\", \"salary\"]].count()\n"
   ]
  },
  {
   "cell_type": "markdown",
   "metadata": {},
   "source": [
    "# Task"
   ]
  },
  {
   "cell_type": "markdown",
   "metadata": {},
   "source": [
    "Selamat!! Anda sudah selesai mempelajari beberapa pemahaman dasar dalam melakukan analisis data menggunakan `pandas`. Sebagai bentuk Anda dalam mempelajari pemahaman dasar menggunakan `pandas`, kita akan coba berikan beberapa soal untuk menguji pemahaman Anda mengenai beberapa materi diatas. \n",
    "\n",
    "Pada folder data_input terdapat file .csv dengan nama handphone.csv. Lakukan import data `handphone.csv` menggunakan `pd.read_csv()` dengan menambahkan parameter `encoding='unicode_escape'`. Setelah berhasil terbaca datanya, kerjakanlah beberapa soal dibawah ini. "
   ]
  },
  {
   "cell_type": "markdown",
   "metadata": {},
   "source": [
    "Data `handphone.csv` merupakan data penjualan handphone dari beberapa seller yang dipromosikan di suatu e-commerce di Indonesia. Berikut ini beberapa penjelasan untuk masing-masing kolomnya.\n",
    "- `product_title` : nama produk yang di promosikan di laman e-commerce\n",
    "- `location` : lokasi seller\n",
    "- `account_seller` : nama akun seller\n",
    "- `price` : harga produk\n",
    "- `review` : total review yang diberikan untuk produk yang dijual seller\n",
    "- `installment` : besarnya cicilan yang harus dibayarkan (jika menggunakan metode cicilan untuk membayar)\n",
    "- `rating` : rating untuk produk yang dijual oleh seller\n",
    "- `brand_hp` : brand handphone yang dijual"
   ]
  },
  {
   "cell_type": "markdown",
   "metadata": {},
   "source": [
    "1. Adakah tipe data yang belum sesuai dari kolom pada data tersebut? Jika ada, ubahlah kedalam tipe data yang sesuai."
   ]
  },
  {
   "cell_type": "code",
   "execution_count": 52,
   "metadata": {
    "scrolled": true
   },
   "outputs": [
    {
     "data": {
      "text/html": [
       "<div>\n",
       "<style scoped>\n",
       "    .dataframe tbody tr th:only-of-type {\n",
       "        vertical-align: middle;\n",
       "    }\n",
       "\n",
       "    .dataframe tbody tr th {\n",
       "        vertical-align: top;\n",
       "    }\n",
       "\n",
       "    .dataframe thead th {\n",
       "        text-align: right;\n",
       "    }\n",
       "</style>\n",
       "<table border=\"1\" class=\"dataframe\">\n",
       "  <thead>\n",
       "    <tr style=\"text-align: right;\">\n",
       "      <th></th>\n",
       "      <th>product_title</th>\n",
       "      <th>location</th>\n",
       "      <th>account_seller</th>\n",
       "      <th>price</th>\n",
       "      <th>review</th>\n",
       "      <th>installment</th>\n",
       "      <th>rating</th>\n",
       "      <th>brand_hp</th>\n",
       "    </tr>\n",
       "  </thead>\n",
       "  <tbody>\n",
       "    <tr>\n",
       "      <th>0</th>\n",
       "      <td>Ken Mobile R7710 Grey</td>\n",
       "      <td>Jakarta</td>\n",
       "      <td>KEN Mobile</td>\n",
       "      <td>199000.0</td>\n",
       "      <td>432</td>\n",
       "      <td>8292.0</td>\n",
       "      <td>4.7</td>\n",
       "      <td>ken</td>\n",
       "    </tr>\n",
       "    <tr>\n",
       "      <th>1</th>\n",
       "      <td>OPPO A3s Smartphone AI Beauty 2.0 Camera 2GB/1...</td>\n",
       "      <td>Tangerang</td>\n",
       "      <td>OPPO OFFICIAL STORE</td>\n",
       "      <td>1699000.0</td>\n",
       "      <td>144</td>\n",
       "      <td>70792.0</td>\n",
       "      <td>4.8</td>\n",
       "      <td>oppo</td>\n",
       "    </tr>\n",
       "    <tr>\n",
       "      <th>2</th>\n",
       "      <td>Asus Zenfone 5 ZE620KL 4/64 GARANSI RESMI ASUS</td>\n",
       "      <td>Jakarta</td>\n",
       "      <td>Cellular Mas</td>\n",
       "      <td>2830000.0</td>\n",
       "      <td>454</td>\n",
       "      <td>117917.0</td>\n",
       "      <td>4.9</td>\n",
       "      <td>asus</td>\n",
       "    </tr>\n",
       "    <tr>\n",
       "      <th>3</th>\n",
       "      <td>OPPO A3s Smartphone AI Beauty 2.0 Camera 2GB/1...</td>\n",
       "      <td>Tangerang</td>\n",
       "      <td>OPPO OFFICIAL STORE</td>\n",
       "      <td>1699000.0</td>\n",
       "      <td>195</td>\n",
       "      <td>70792.0</td>\n",
       "      <td>4.8</td>\n",
       "      <td>oppo</td>\n",
       "    </tr>\n",
       "    <tr>\n",
       "      <th>4</th>\n",
       "      <td>Sony Xperia Z4 Compact Docomo Seken</td>\n",
       "      <td>Kab. Tangerang</td>\n",
       "      <td>Five star cellular</td>\n",
       "      <td>530000.0</td>\n",
       "      <td>711</td>\n",
       "      <td>22084.0</td>\n",
       "      <td>4.6</td>\n",
       "      <td>sony</td>\n",
       "    </tr>\n",
       "    <tr>\n",
       "      <th>...</th>\n",
       "      <td>...</td>\n",
       "      <td>...</td>\n",
       "      <td>...</td>\n",
       "      <td>...</td>\n",
       "      <td>...</td>\n",
       "      <td>...</td>\n",
       "      <td>...</td>\n",
       "      <td>...</td>\n",
       "    </tr>\n",
       "    <tr>\n",
       "      <th>4915</th>\n",
       "      <td>realme2 pro 8/128gb Garansi Resmi 1tahun</td>\n",
       "      <td>Jambi</td>\n",
       "      <td>younglic shop</td>\n",
       "      <td>4250000.0</td>\n",
       "      <td>37</td>\n",
       "      <td>177084.0</td>\n",
       "      <td>5.0</td>\n",
       "      <td>realme</td>\n",
       "    </tr>\n",
       "    <tr>\n",
       "      <th>4916</th>\n",
       "      <td>NOKIA 130 NEW 2017 GARANSI RESMI 1 THN, ORIGIN...</td>\n",
       "      <td>Jakarta</td>\n",
       "      <td>GADING BINTANG</td>\n",
       "      <td>285000.0</td>\n",
       "      <td>123</td>\n",
       "      <td>11875.0</td>\n",
       "      <td>4.9</td>\n",
       "      <td>nokia</td>\n",
       "    </tr>\n",
       "    <tr>\n",
       "      <th>4917</th>\n",
       "      <td>XIAOMI REDMI NOTE 6 PRO 4/64GB RAM 4GB ROM 64G...</td>\n",
       "      <td>Jakarta</td>\n",
       "      <td>Kreasindo Online</td>\n",
       "      <td>2390000.0</td>\n",
       "      <td>123</td>\n",
       "      <td>99584.0</td>\n",
       "      <td>4.9</td>\n",
       "      <td>xiaomi</td>\n",
       "    </tr>\n",
       "    <tr>\n",
       "      <th>4918</th>\n",
       "      <td>Ori HP VIVO V7  / VIVO V7 PLUS-RAM 4/64GB - BL...</td>\n",
       "      <td>Banjarmasin</td>\n",
       "      <td>REDMARTT</td>\n",
       "      <td>4222000.0</td>\n",
       "      <td>9</td>\n",
       "      <td>175917.0</td>\n",
       "      <td>4.9</td>\n",
       "      <td>vivo</td>\n",
       "    </tr>\n",
       "    <tr>\n",
       "      <th>4919</th>\n",
       "      <td>Sony Xperia Z3 Big ex Docomo</td>\n",
       "      <td>Jakarta</td>\n",
       "      <td>tokoChoy</td>\n",
       "      <td>1500000.0</td>\n",
       "      <td>45</td>\n",
       "      <td>62500.0</td>\n",
       "      <td>5.0</td>\n",
       "      <td>sony</td>\n",
       "    </tr>\n",
       "  </tbody>\n",
       "</table>\n",
       "<p>4920 rows × 8 columns</p>\n",
       "</div>"
      ],
      "text/plain": [
       "                                          product_title        location  \\\n",
       "0                                 Ken Mobile R7710 Grey         Jakarta   \n",
       "1     OPPO A3s Smartphone AI Beauty 2.0 Camera 2GB/1...       Tangerang   \n",
       "2        Asus Zenfone 5 ZE620KL 4/64 GARANSI RESMI ASUS         Jakarta   \n",
       "3     OPPO A3s Smartphone AI Beauty 2.0 Camera 2GB/1...       Tangerang   \n",
       "4                   Sony Xperia Z4 Compact Docomo Seken  Kab. Tangerang   \n",
       "...                                                 ...             ...   \n",
       "4915           realme2 pro 8/128gb Garansi Resmi 1tahun           Jambi   \n",
       "4916  NOKIA 130 NEW 2017 GARANSI RESMI 1 THN, ORIGIN...         Jakarta   \n",
       "4917  XIAOMI REDMI NOTE 6 PRO 4/64GB RAM 4GB ROM 64G...         Jakarta   \n",
       "4918  Ori HP VIVO V7  / VIVO V7 PLUS-RAM 4/64GB - BL...     Banjarmasin   \n",
       "4919                       Sony Xperia Z3 Big ex Docomo         Jakarta   \n",
       "\n",
       "           account_seller      price  review  installment  rating brand_hp  \n",
       "0              KEN Mobile   199000.0     432       8292.0     4.7      ken  \n",
       "1     OPPO OFFICIAL STORE  1699000.0     144      70792.0     4.8     oppo  \n",
       "2            Cellular Mas  2830000.0     454     117917.0     4.9     asus  \n",
       "3     OPPO OFFICIAL STORE  1699000.0     195      70792.0     4.8     oppo  \n",
       "4      Five star cellular   530000.0     711      22084.0     4.6     sony  \n",
       "...                   ...        ...     ...          ...     ...      ...  \n",
       "4915        younglic shop  4250000.0      37     177084.0     5.0   realme  \n",
       "4916       GADING BINTANG   285000.0     123      11875.0     4.9    nokia  \n",
       "4917     Kreasindo Online  2390000.0     123      99584.0     4.9   xiaomi  \n",
       "4918             REDMARTT  4222000.0       9     175917.0     4.9     vivo  \n",
       "4919             tokoChoy  1500000.0      45      62500.0     5.0     sony  \n",
       "\n",
       "[4920 rows x 8 columns]"
      ]
     },
     "execution_count": 52,
     "metadata": {},
     "output_type": "execute_result"
    }
   ],
   "source": [
    "## your code here\n",
    "\n",
    "handphone = pd.read_csv(r\"C:\\Users\\Lenovo\\Desktop\\Machine Learning\\data\\handphone.csv\", encoding = \"unicode_escape\")\n",
    "\n",
    "handphone"
   ]
  },
  {
   "cell_type": "code",
   "execution_count": 53,
   "metadata": {
    "scrolled": true
   },
   "outputs": [
    {
     "data": {
      "text/plain": [
       "product_title      object\n",
       "location           object\n",
       "account_seller     object\n",
       "price             float64\n",
       "review              int64\n",
       "installment       float64\n",
       "rating            float64\n",
       "brand_hp           object\n",
       "dtype: object"
      ]
     },
     "execution_count": 53,
     "metadata": {},
     "output_type": "execute_result"
    }
   ],
   "source": [
    "handphone.dtypes"
   ]
  },
  {
   "cell_type": "code",
   "execution_count": 54,
   "metadata": {},
   "outputs": [],
   "source": [
    "handphone[[\"account_seller\", \"brand_hp\", \"location\"]] = \\\n",
    "handphone[[\"account_seller\", \"brand_hp\", \"location\"]].astype(\"category\")"
   ]
  },
  {
   "cell_type": "code",
   "execution_count": 55,
   "metadata": {},
   "outputs": [
    {
     "data": {
      "text/plain": [
       "product_title       object\n",
       "location          category\n",
       "account_seller    category\n",
       "price              float64\n",
       "review               int64\n",
       "installment        float64\n",
       "rating             float64\n",
       "brand_hp          category\n",
       "dtype: object"
      ]
     },
     "execution_count": 55,
     "metadata": {},
     "output_type": "execute_result"
    }
   ],
   "source": [
    "handphone.dtypes"
   ]
  },
  {
   "cell_type": "markdown",
   "metadata": {},
   "source": [
    "---\n",
    "\n",
    "2. Dimanakah lokasi seller terbanyak yang menjual handphone?\n",
    "    - [ ] Tangerang\n",
    "    - [ ] Yogyakarta\n",
    "    - [v] Jakarta\n",
    "    - [ ] Bekasi\n",
    "\n",
    "---\n",
    "\n",
    "3. Berapa banyak seller yang mempromosikan handphone di e-commerce tersebut yang berlokasi di Jakarta?\n",
    "    - [ ] 4920\n",
    "    - [ ] 116\n",
    "    - [ ] 156\n",
    "    - [v] 2723\n",
    "\n",
    "---\n",
    "\n",
    "4. Berapakah rata-rata rating yang diberikan oleh pembeli untuk seller 'OPPO OFFICIAL STORE'?\n",
    "    - [v] 4.88\n",
    "    - [ ] 4.71\n",
    "    - [ ] 4.59\n",
    "    - [ ] 4.63\n",
    "\n",
    "---\n",
    "\n",
    "5. Berapakah rata-rata harga handphone dengan brand oppo yang dijual oleh 'OPPO OFFICIAL STORE'?\n",
    "    - [ ] Rp 1.799.000\n",
    "    - [v] Rp 3.141.307\n",
    "    - [ ] Rp 4.049.450\n",
    "    - [ ] Rp 1.913.800\n",
    "\n",
    "---\n",
    "\n",
    "6. Berapakah rating terendah yang diberikan oleh pembeli kepada 'OPPO OFFICIAL STORE'? \n",
    "    - [ ] 4.5\n",
    "    - [ ] 3.5\n",
    "    - [ ] 4.6\n",
    "    - [v] 4.8\n",
    "    \n",
    "---\n",
    "\n",
    "7. Berapakah produk yang memiliki rating kurang dari 4?\n",
    "    - [ ] 18\n",
    "    - [v] 14\n",
    "    - [ ] 218\n",
    "    - [ ] 15\n",
    "\n",
    "---\n",
    "\n",
    "8. Brand handphone apakah yang paling banyak dipromosikan melalui e-commerce tersebut?\n",
    "    - [ ] oppo\n",
    "    - [ ] apple\n",
    "    - [v] xiaomi\n",
    "    - [ ] asus\n",
    "\n",
    "---\n",
    "\n",
    "9. Seller manakah yang memberikan installment paling rendah dari produk yang dipasarkan? Silahkan pilih lebih dari 1 jawaban dibawah ini.\n",
    "    - [v] Shopuz ID\n",
    "    - [v] enterphone2\n",
    "    - [ ] Kelontong Unik\n",
    "    - [ ] ERAFONE"
   ]
  },
  {
   "cell_type": "code",
   "execution_count": 56,
   "metadata": {
    "scrolled": true
   },
   "outputs": [
    {
     "data": {
      "text/plain": [
       "count        4920\n",
       "unique         97\n",
       "top       Jakarta\n",
       "freq         2723\n",
       "Name: location, dtype: object"
      ]
     },
     "execution_count": 56,
     "metadata": {},
     "output_type": "execute_result"
    }
   ],
   "source": [
    "## Soal nomor 2 ##\n",
    "\n",
    "handphone[\"location\"].describe()"
   ]
  },
  {
   "cell_type": "code",
   "execution_count": 57,
   "metadata": {},
   "outputs": [
    {
     "data": {
      "text/html": [
       "<div>\n",
       "<style scoped>\n",
       "    .dataframe tbody tr th:only-of-type {\n",
       "        vertical-align: middle;\n",
       "    }\n",
       "\n",
       "    .dataframe tbody tr th {\n",
       "        vertical-align: top;\n",
       "    }\n",
       "\n",
       "    .dataframe thead th {\n",
       "        text-align: right;\n",
       "    }\n",
       "</style>\n",
       "<table border=\"1\" class=\"dataframe\">\n",
       "  <thead>\n",
       "    <tr style=\"text-align: right;\">\n",
       "      <th></th>\n",
       "      <th>product_title</th>\n",
       "      <th>location</th>\n",
       "      <th>account_seller</th>\n",
       "      <th>price</th>\n",
       "      <th>review</th>\n",
       "      <th>installment</th>\n",
       "      <th>rating</th>\n",
       "      <th>brand_hp</th>\n",
       "    </tr>\n",
       "  </thead>\n",
       "  <tbody>\n",
       "    <tr>\n",
       "      <th>0</th>\n",
       "      <td>Ken Mobile R7710 Grey</td>\n",
       "      <td>Jakarta</td>\n",
       "      <td>KEN Mobile</td>\n",
       "      <td>199000.0</td>\n",
       "      <td>432</td>\n",
       "      <td>8292.0</td>\n",
       "      <td>4.7</td>\n",
       "      <td>ken</td>\n",
       "    </tr>\n",
       "    <tr>\n",
       "      <th>2</th>\n",
       "      <td>Asus Zenfone 5 ZE620KL 4/64 GARANSI RESMI ASUS</td>\n",
       "      <td>Jakarta</td>\n",
       "      <td>Cellular Mas</td>\n",
       "      <td>2830000.0</td>\n",
       "      <td>454</td>\n",
       "      <td>117917.0</td>\n",
       "      <td>4.9</td>\n",
       "      <td>asus</td>\n",
       "    </tr>\n",
       "    <tr>\n",
       "      <th>5</th>\n",
       "      <td>Xiaomi Redmi 6A 2/16 RAM 2GB ROM 16GB GARANSI ...</td>\n",
       "      <td>Jakarta</td>\n",
       "      <td>Cellular Mas</td>\n",
       "      <td>1185000.0</td>\n",
       "      <td>1133</td>\n",
       "      <td>49375.0</td>\n",
       "      <td>4.9</td>\n",
       "      <td>xiaomi</td>\n",
       "    </tr>\n",
       "    <tr>\n",
       "      <th>8</th>\n",
       "      <td>Samsung Galaxy J2 Prime GARANSI RESMI SEIN</td>\n",
       "      <td>Jakarta</td>\n",
       "      <td>Cellular Mas</td>\n",
       "      <td>1125000.0</td>\n",
       "      <td>2486</td>\n",
       "      <td>46875.0</td>\n",
       "      <td>4.9</td>\n",
       "      <td>samsung</td>\n",
       "    </tr>\n",
       "    <tr>\n",
       "      <th>9</th>\n",
       "      <td>Samsung Galaxy A50 4/64 RAM 4GB ROM 64GB GARAN...</td>\n",
       "      <td>Jakarta</td>\n",
       "      <td>Cellular Mas</td>\n",
       "      <td>3380000.0</td>\n",
       "      <td>388</td>\n",
       "      <td>140834.0</td>\n",
       "      <td>4.9</td>\n",
       "      <td>samsung</td>\n",
       "    </tr>\n",
       "    <tr>\n",
       "      <th>...</th>\n",
       "      <td>...</td>\n",
       "      <td>...</td>\n",
       "      <td>...</td>\n",
       "      <td>...</td>\n",
       "      <td>...</td>\n",
       "      <td>...</td>\n",
       "      <td>...</td>\n",
       "      <td>...</td>\n",
       "    </tr>\n",
       "    <tr>\n",
       "      <th>4910</th>\n",
       "      <td>OPPO A37 ( ROSE GOLD ) NEW GRS RESMI 1 TAHUN</td>\n",
       "      <td>Jakarta</td>\n",
       "      <td>Grandstore cell</td>\n",
       "      <td>1699000.0</td>\n",
       "      <td>259</td>\n",
       "      <td>70792.0</td>\n",
       "      <td>4.7</td>\n",
       "      <td>oppo</td>\n",
       "    </tr>\n",
       "    <tr>\n",
       "      <th>4912</th>\n",
       "      <td>Samsung Galaxy A10 2/32 RAM 2GB ROM 32GB GARAN...</td>\n",
       "      <td>Jakarta</td>\n",
       "      <td>JUAL HANDPHONE DOT COM</td>\n",
       "      <td>1699000.0</td>\n",
       "      <td>7</td>\n",
       "      <td>70792.0</td>\n",
       "      <td>5.0</td>\n",
       "      <td>samsung</td>\n",
       "    </tr>\n",
       "    <tr>\n",
       "      <th>4916</th>\n",
       "      <td>NOKIA 130 NEW 2017 GARANSI RESMI 1 THN, ORIGIN...</td>\n",
       "      <td>Jakarta</td>\n",
       "      <td>GADING BINTANG</td>\n",
       "      <td>285000.0</td>\n",
       "      <td>123</td>\n",
       "      <td>11875.0</td>\n",
       "      <td>4.9</td>\n",
       "      <td>nokia</td>\n",
       "    </tr>\n",
       "    <tr>\n",
       "      <th>4917</th>\n",
       "      <td>XIAOMI REDMI NOTE 6 PRO 4/64GB RAM 4GB ROM 64G...</td>\n",
       "      <td>Jakarta</td>\n",
       "      <td>Kreasindo Online</td>\n",
       "      <td>2390000.0</td>\n",
       "      <td>123</td>\n",
       "      <td>99584.0</td>\n",
       "      <td>4.9</td>\n",
       "      <td>xiaomi</td>\n",
       "    </tr>\n",
       "    <tr>\n",
       "      <th>4919</th>\n",
       "      <td>Sony Xperia Z3 Big ex Docomo</td>\n",
       "      <td>Jakarta</td>\n",
       "      <td>tokoChoy</td>\n",
       "      <td>1500000.0</td>\n",
       "      <td>45</td>\n",
       "      <td>62500.0</td>\n",
       "      <td>5.0</td>\n",
       "      <td>sony</td>\n",
       "    </tr>\n",
       "  </tbody>\n",
       "</table>\n",
       "<p>2723 rows × 8 columns</p>\n",
       "</div>"
      ],
      "text/plain": [
       "                                          product_title location  \\\n",
       "0                                 Ken Mobile R7710 Grey  Jakarta   \n",
       "2        Asus Zenfone 5 ZE620KL 4/64 GARANSI RESMI ASUS  Jakarta   \n",
       "5     Xiaomi Redmi 6A 2/16 RAM 2GB ROM 16GB GARANSI ...  Jakarta   \n",
       "8            Samsung Galaxy J2 Prime GARANSI RESMI SEIN  Jakarta   \n",
       "9     Samsung Galaxy A50 4/64 RAM 4GB ROM 64GB GARAN...  Jakarta   \n",
       "...                                                 ...      ...   \n",
       "4910       OPPO A37 ( ROSE GOLD ) NEW GRS RESMI 1 TAHUN  Jakarta   \n",
       "4912  Samsung Galaxy A10 2/32 RAM 2GB ROM 32GB GARAN...  Jakarta   \n",
       "4916  NOKIA 130 NEW 2017 GARANSI RESMI 1 THN, ORIGIN...  Jakarta   \n",
       "4917  XIAOMI REDMI NOTE 6 PRO 4/64GB RAM 4GB ROM 64G...  Jakarta   \n",
       "4919                       Sony Xperia Z3 Big ex Docomo  Jakarta   \n",
       "\n",
       "              account_seller      price  review  installment  rating brand_hp  \n",
       "0                 KEN Mobile   199000.0     432       8292.0     4.7      ken  \n",
       "2               Cellular Mas  2830000.0     454     117917.0     4.9     asus  \n",
       "5               Cellular Mas  1185000.0    1133      49375.0     4.9   xiaomi  \n",
       "8               Cellular Mas  1125000.0    2486      46875.0     4.9  samsung  \n",
       "9               Cellular Mas  3380000.0     388     140834.0     4.9  samsung  \n",
       "...                      ...        ...     ...          ...     ...      ...  \n",
       "4910         Grandstore cell  1699000.0     259      70792.0     4.7     oppo  \n",
       "4912  JUAL HANDPHONE DOT COM  1699000.0       7      70792.0     5.0  samsung  \n",
       "4916          GADING BINTANG   285000.0     123      11875.0     4.9    nokia  \n",
       "4917        Kreasindo Online  2390000.0     123      99584.0     4.9   xiaomi  \n",
       "4919                tokoChoy  1500000.0      45      62500.0     5.0     sony  \n",
       "\n",
       "[2723 rows x 8 columns]"
      ]
     },
     "execution_count": 57,
     "metadata": {},
     "output_type": "execute_result"
    }
   ],
   "source": [
    "## Soal nomor 3 ##\n",
    "\n",
    "handphone[\n",
    "    (handphone[\"location\"] == \"Jakarta\")\n",
    "]"
   ]
  },
  {
   "cell_type": "code",
   "execution_count": 58,
   "metadata": {
    "scrolled": true
   },
   "outputs": [
    {
     "data": {
      "text/html": [
       "<div>\n",
       "<style scoped>\n",
       "    .dataframe tbody tr th:only-of-type {\n",
       "        vertical-align: middle;\n",
       "    }\n",
       "\n",
       "    .dataframe tbody tr th {\n",
       "        vertical-align: top;\n",
       "    }\n",
       "\n",
       "    .dataframe thead th {\n",
       "        text-align: right;\n",
       "    }\n",
       "</style>\n",
       "<table border=\"1\" class=\"dataframe\">\n",
       "  <thead>\n",
       "    <tr style=\"text-align: right;\">\n",
       "      <th></th>\n",
       "      <th>price</th>\n",
       "      <th>review</th>\n",
       "      <th>installment</th>\n",
       "      <th>rating</th>\n",
       "    </tr>\n",
       "  </thead>\n",
       "  <tbody>\n",
       "    <tr>\n",
       "      <th>count</th>\n",
       "      <td>1.300000e+01</td>\n",
       "      <td>13.000000</td>\n",
       "      <td>13.000000</td>\n",
       "      <td>13.000000</td>\n",
       "    </tr>\n",
       "    <tr>\n",
       "      <th>mean</th>\n",
       "      <td>3.141308e+06</td>\n",
       "      <td>69.769231</td>\n",
       "      <td>130888.076923</td>\n",
       "      <td>4.884615</td>\n",
       "    </tr>\n",
       "    <tr>\n",
       "      <th>std</th>\n",
       "      <td>1.108649e+06</td>\n",
       "      <td>62.057975</td>\n",
       "      <td>46193.634322</td>\n",
       "      <td>0.068874</td>\n",
       "    </tr>\n",
       "    <tr>\n",
       "      <th>min</th>\n",
       "      <td>1.699000e+06</td>\n",
       "      <td>9.000000</td>\n",
       "      <td>70792.000000</td>\n",
       "      <td>4.800000</td>\n",
       "    </tr>\n",
       "    <tr>\n",
       "      <th>25%</th>\n",
       "      <td>1.999000e+06</td>\n",
       "      <td>26.000000</td>\n",
       "      <td>83292.000000</td>\n",
       "      <td>4.800000</td>\n",
       "    </tr>\n",
       "    <tr>\n",
       "      <th>50%</th>\n",
       "      <td>3.149000e+06</td>\n",
       "      <td>47.000000</td>\n",
       "      <td>131209.000000</td>\n",
       "      <td>4.900000</td>\n",
       "    </tr>\n",
       "    <tr>\n",
       "      <th>75%</th>\n",
       "      <td>3.699000e+06</td>\n",
       "      <td>133.000000</td>\n",
       "      <td>154125.000000</td>\n",
       "      <td>4.900000</td>\n",
       "    </tr>\n",
       "    <tr>\n",
       "      <th>max</th>\n",
       "      <td>4.699000e+06</td>\n",
       "      <td>195.000000</td>\n",
       "      <td>195792.000000</td>\n",
       "      <td>5.000000</td>\n",
       "    </tr>\n",
       "  </tbody>\n",
       "</table>\n",
       "</div>"
      ],
      "text/plain": [
       "              price      review    installment     rating\n",
       "count  1.300000e+01   13.000000      13.000000  13.000000\n",
       "mean   3.141308e+06   69.769231  130888.076923   4.884615\n",
       "std    1.108649e+06   62.057975   46193.634322   0.068874\n",
       "min    1.699000e+06    9.000000   70792.000000   4.800000\n",
       "25%    1.999000e+06   26.000000   83292.000000   4.800000\n",
       "50%    3.149000e+06   47.000000  131209.000000   4.900000\n",
       "75%    3.699000e+06  133.000000  154125.000000   4.900000\n",
       "max    4.699000e+06  195.000000  195792.000000   5.000000"
      ]
     },
     "execution_count": 58,
     "metadata": {},
     "output_type": "execute_result"
    }
   ],
   "source": [
    "# Soal nomor 4, 5, 6 ##\n",
    "\n",
    "handphone[\n",
    "    (handphone[\"account_seller\"] == \"OPPO OFFICIAL STORE\")\n",
    "].describe()"
   ]
  },
  {
   "cell_type": "code",
   "execution_count": 59,
   "metadata": {
    "scrolled": true
   },
   "outputs": [
    {
     "data": {
      "text/plain": [
       "product_title     14\n",
       "location          14\n",
       "account_seller    14\n",
       "price             14\n",
       "review            14\n",
       "installment       14\n",
       "rating            14\n",
       "brand_hp          14\n",
       "dtype: int64"
      ]
     },
     "execution_count": 59,
     "metadata": {},
     "output_type": "execute_result"
    }
   ],
   "source": [
    "## Soal nomor 7 ##\n",
    "\n",
    "handphone[\n",
    "    (handphone[\"rating\"] < 4)\n",
    "].count()"
   ]
  },
  {
   "cell_type": "code",
   "execution_count": 60,
   "metadata": {},
   "outputs": [
    {
     "data": {
      "text/plain": [
       "xiaomi          1404\n",
       "samsung         1095\n",
       "apple            559\n",
       "oppo             441\n",
       "lain-lain        306\n",
       "vivo             243\n",
       "nokia            209\n",
       "asus             178\n",
       "realme           115\n",
       "sony             107\n",
       "huawei            47\n",
       "lg                24\n",
       "evercoss          22\n",
       "sharp             19\n",
       "lenovo            17\n",
       "ken               16\n",
       "meizu             16\n",
       "blu               16\n",
       "google pixel      14\n",
       "motorola          11\n",
       "polytron           9\n",
       "smartfren          9\n",
       "infinix            8\n",
       "honor              7\n",
       "cat                6\n",
       "zte                4\n",
       "oneplus            4\n",
       "leeco              3\n",
       "wiko               3\n",
       "acer               3\n",
       "htc                2\n",
       "orico              1\n",
       "philips            1\n",
       "siemens            1\n",
       "Name: brand_hp, dtype: int64"
      ]
     },
     "execution_count": 60,
     "metadata": {},
     "output_type": "execute_result"
    }
   ],
   "source": [
    "## Soal nomor 8 ##\n",
    "\n",
    "handphone[\"brand_hp\"].value_counts()"
   ]
  },
  {
   "cell_type": "code",
   "execution_count": 61,
   "metadata": {},
   "outputs": [
    {
     "data": {
      "text/html": [
       "<div>\n",
       "<style scoped>\n",
       "    .dataframe tbody tr th:only-of-type {\n",
       "        vertical-align: middle;\n",
       "    }\n",
       "\n",
       "    .dataframe tbody tr th {\n",
       "        vertical-align: top;\n",
       "    }\n",
       "\n",
       "    .dataframe thead th {\n",
       "        text-align: right;\n",
       "    }\n",
       "</style>\n",
       "<table border=\"1\" class=\"dataframe\">\n",
       "  <thead>\n",
       "    <tr style=\"text-align: right;\">\n",
       "      <th></th>\n",
       "      <th>product_title</th>\n",
       "      <th>location</th>\n",
       "      <th>account_seller</th>\n",
       "      <th>price</th>\n",
       "      <th>review</th>\n",
       "      <th>installment</th>\n",
       "      <th>rating</th>\n",
       "      <th>brand_hp</th>\n",
       "    </tr>\n",
       "  </thead>\n",
       "  <tbody>\n",
       "    <tr>\n",
       "      <th>484</th>\n",
       "      <td>Buble Wrap For Safety Packaging</td>\n",
       "      <td>Jakarta</td>\n",
       "      <td>enterphone2</td>\n",
       "      <td>5000.0</td>\n",
       "      <td>87</td>\n",
       "      <td>209.0</td>\n",
       "      <td>4.8</td>\n",
       "      <td>lain-lain</td>\n",
       "    </tr>\n",
       "    <tr>\n",
       "      <th>3579</th>\n",
       "      <td>Adaptor Colokan Xiaomi pipih / gepeng (US) ke ...</td>\n",
       "      <td>Jakarta</td>\n",
       "      <td>Shopyz ID</td>\n",
       "      <td>5000.0</td>\n",
       "      <td>26</td>\n",
       "      <td>209.0</td>\n",
       "      <td>4.3</td>\n",
       "      <td>xiaomi</td>\n",
       "    </tr>\n",
       "    <tr>\n",
       "      <th>4342</th>\n",
       "      <td>Softcase Vivo V5 Plus X9 V5+ 5.5 inchi Ultrath...</td>\n",
       "      <td>Jakarta</td>\n",
       "      <td>Agen Aksesoris Hp</td>\n",
       "      <td>5700.0</td>\n",
       "      <td>17</td>\n",
       "      <td>238.0</td>\n",
       "      <td>4.4</td>\n",
       "      <td>vivo</td>\n",
       "    </tr>\n",
       "    <tr>\n",
       "      <th>4156</th>\n",
       "      <td>PEGANGAN HP MOBIL UNIVERSAL STEERING WHEEL CAR...</td>\n",
       "      <td>Jakarta</td>\n",
       "      <td>GBU JAKARTA</td>\n",
       "      <td>7000.0</td>\n",
       "      <td>18</td>\n",
       "      <td>292.0</td>\n",
       "      <td>4.1</td>\n",
       "      <td>lain-lain</td>\n",
       "    </tr>\n",
       "    <tr>\n",
       "      <th>3622</th>\n",
       "      <td>Tempered Glass Huawei Y3-II Y3 2 Y3-11 Y3-2 4....</td>\n",
       "      <td>Jakarta</td>\n",
       "      <td>Agen Aksesoris Hp</td>\n",
       "      <td>7700.0</td>\n",
       "      <td>29</td>\n",
       "      <td>321.0</td>\n",
       "      <td>4.3</td>\n",
       "      <td>huawei</td>\n",
       "    </tr>\n",
       "    <tr>\n",
       "      <th>...</th>\n",
       "      <td>...</td>\n",
       "      <td>...</td>\n",
       "      <td>...</td>\n",
       "      <td>...</td>\n",
       "      <td>...</td>\n",
       "      <td>...</td>\n",
       "      <td>...</td>\n",
       "      <td>...</td>\n",
       "    </tr>\n",
       "    <tr>\n",
       "      <th>3173</th>\n",
       "      <td>READY MAX XS 512GB APPLE IPHONE ORIGINAL MAX X...</td>\n",
       "      <td>Kab. Tangerang</td>\n",
       "      <td>online phone shop</td>\n",
       "      <td>18000000.0</td>\n",
       "      <td>26</td>\n",
       "      <td>750000.0</td>\n",
       "      <td>4.9</td>\n",
       "      <td>apple</td>\n",
       "    </tr>\n",
       "    <tr>\n",
       "      <th>3171</th>\n",
       "      <td>APPLE IPHONE XSMAX 256GB DUAL SIM NANO+NANO GA...</td>\n",
       "      <td>Jakarta</td>\n",
       "      <td>Kios Utama</td>\n",
       "      <td>18599000.0</td>\n",
       "      <td>41</td>\n",
       "      <td>774959.0</td>\n",
       "      <td>5.0</td>\n",
       "      <td>apple</td>\n",
       "    </tr>\n",
       "    <tr>\n",
       "      <th>4196</th>\n",
       "      <td>(DUAL SIM) iPhone XS MAX 2018 256GB 256 Gold G...</td>\n",
       "      <td>Jakarta</td>\n",
       "      <td>Putra Group</td>\n",
       "      <td>18850000.0</td>\n",
       "      <td>19</td>\n",
       "      <td>785417.0</td>\n",
       "      <td>5.0</td>\n",
       "      <td>apple</td>\n",
       "    </tr>\n",
       "    <tr>\n",
       "      <th>1946</th>\n",
       "      <td>( DUAL SIM ) iPhone XS MAX 256GB 256 Gold Grey...</td>\n",
       "      <td>Jakarta</td>\n",
       "      <td>Iphone X Original</td>\n",
       "      <td>18850000.0</td>\n",
       "      <td>48</td>\n",
       "      <td>785417.0</td>\n",
       "      <td>5.0</td>\n",
       "      <td>apple</td>\n",
       "    </tr>\n",
       "    <tr>\n",
       "      <th>2513</th>\n",
       "      <td>Orderan Juragan Quantity</td>\n",
       "      <td>Jakarta</td>\n",
       "      <td>BZT Cellular Dan IT</td>\n",
       "      <td>20350000.0</td>\n",
       "      <td>57</td>\n",
       "      <td>847917.0</td>\n",
       "      <td>4.7</td>\n",
       "      <td>lain-lain</td>\n",
       "    </tr>\n",
       "  </tbody>\n",
       "</table>\n",
       "<p>4920 rows × 8 columns</p>\n",
       "</div>"
      ],
      "text/plain": [
       "                                          product_title        location  \\\n",
       "484                     Buble Wrap For Safety Packaging         Jakarta   \n",
       "3579  Adaptor Colokan Xiaomi pipih / gepeng (US) ke ...         Jakarta   \n",
       "4342  Softcase Vivo V5 Plus X9 V5+ 5.5 inchi Ultrath...         Jakarta   \n",
       "4156  PEGANGAN HP MOBIL UNIVERSAL STEERING WHEEL CAR...         Jakarta   \n",
       "3622  Tempered Glass Huawei Y3-II Y3 2 Y3-11 Y3-2 4....         Jakarta   \n",
       "...                                                 ...             ...   \n",
       "3173  READY MAX XS 512GB APPLE IPHONE ORIGINAL MAX X...  Kab. Tangerang   \n",
       "3171  APPLE IPHONE XSMAX 256GB DUAL SIM NANO+NANO GA...         Jakarta   \n",
       "4196  (DUAL SIM) iPhone XS MAX 2018 256GB 256 Gold G...         Jakarta   \n",
       "1946  ( DUAL SIM ) iPhone XS MAX 256GB 256 Gold Grey...         Jakarta   \n",
       "2513                           Orderan Juragan Quantity         Jakarta   \n",
       "\n",
       "           account_seller       price  review  installment  rating   brand_hp  \n",
       "484           enterphone2      5000.0      87        209.0     4.8  lain-lain  \n",
       "3579            Shopyz ID      5000.0      26        209.0     4.3     xiaomi  \n",
       "4342    Agen Aksesoris Hp      5700.0      17        238.0     4.4       vivo  \n",
       "4156          GBU JAKARTA      7000.0      18        292.0     4.1  lain-lain  \n",
       "3622    Agen Aksesoris Hp      7700.0      29        321.0     4.3     huawei  \n",
       "...                   ...         ...     ...          ...     ...        ...  \n",
       "3173    online phone shop  18000000.0      26     750000.0     4.9      apple  \n",
       "3171           Kios Utama  18599000.0      41     774959.0     5.0      apple  \n",
       "4196          Putra Group  18850000.0      19     785417.0     5.0      apple  \n",
       "1946    Iphone X Original  18850000.0      48     785417.0     5.0      apple  \n",
       "2513  BZT Cellular Dan IT  20350000.0      57     847917.0     4.7  lain-lain  \n",
       "\n",
       "[4920 rows x 8 columns]"
      ]
     },
     "execution_count": 61,
     "metadata": {},
     "output_type": "execute_result"
    }
   ],
   "source": [
    "## Soal nomor 9 ##\n",
    "\n",
    "handphone.sort_values(by = [\"installment\"])"
   ]
  }
 ],
 "metadata": {
  "kernelspec": {
   "display_name": "Python 3",
   "language": "python",
   "name": "python3"
  },
  "language_info": {
   "codemirror_mode": {
    "name": "ipython",
    "version": 3
   },
   "file_extension": ".py",
   "mimetype": "text/x-python",
   "name": "python",
   "nbconvert_exporter": "python",
   "pygments_lexer": "ipython3",
   "version": "3.7.6"
  },
  "toc": {
   "base_numbering": 1,
   "nav_menu": {},
   "number_sections": true,
   "sideBar": true,
   "skip_h1_title": false,
   "title_cell": "Table of Contents",
   "title_sidebar": "Contents",
   "toc_cell": true,
   "toc_position": {
    "height": "calc(100% - 180px)",
    "left": "10px",
    "top": "150px",
    "width": "165px"
   },
   "toc_section_display": true,
   "toc_window_display": true
  }
 },
 "nbformat": 4,
 "nbformat_minor": 4
}
